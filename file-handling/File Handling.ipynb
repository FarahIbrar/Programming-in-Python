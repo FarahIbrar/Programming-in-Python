{
 "cells": [
  {
   "cell_type": "markdown",
   "metadata": {
    "slideshow": {
     "slide_type": "slide"
    }
   },
   "source": [
    "<div style=\"background-color:beige;color:beige\">\n",
    "<header>\n",
    "<h1 style=\"padding:1em;text-align:center;color:#00008B\">Basics of Python programming <br><br> &nbsp;&nbsp; File Handling </h1> \n",
    "</header>\n",
    "<br><br><br><br><br><br>\n",
    "<footer>\n",
    "<table style=\"border:none;width:100%\">\n",
    "<tr><td style= \"text-align:left;background-color:blue;color:white;font-size:80%;\"> Farah Ibrar </td><td style= \"text-align:right;background-color:blue;color:white;font-size:80%;\"> Programming in Python </td></tr></table>\n",
    "</footer>\n",
    "\n",
    "</div>"
   ]
  },
  {
   "cell_type": "markdown",
   "metadata": {
    "slideshow": {
     "slide_type": "slide"
    }
   },
   "source": [
    "<div style=\"background-color:beige;color:beige\">\n",
    "<header>\n",
    "<h1 style=\"padding:1em;text-align:left;color:#00008B\">Outline</h1>\n",
    "</header>\n",
    "\n",
    "    \n",
    "<ul><li><span style=\"color:#00008B;font-size:24px\">Open and Close a File </span> <br><br>\n",
    "        <li><span style=\"color:#00008B; font-size:24px\">Read a File </span> <br><br>\n",
    "        <li><span style=\"color:#00008B; font-size:24px\">Write in a File </span><br><br>\n",
    "        <li><span style=\"color:#00008B; font-size:24px\">Append in a File </span><br><br>\n",
    "        <li><span style=\"color:#00008B; font-size:24px\">Create a new File </span><br><br>\n",
    "        </li>\n",
    "       </ul>\n",
    "<br><br>\n",
    "<footer>\n",
    "<table style=\"border:none;width:100%\">\n",
    "<tr><td style= \"text-align:left;background-color:blue;color:white;font-size:80%;\"> Farah Ibrar </td><td style= \"text-align:right;background-color:blue;color:white;font-size:80%;\"> Programming in Python </td></tr></table>\n",
    "</footer>\n",
    "\n",
    "</div>"
   ]
  },
  {
   "cell_type": "markdown",
   "metadata": {
    "slideshow": {
     "slide_type": "slide"
    }
   },
   "source": [
    "<div style=\"background-color:beige;color:beige\">\n",
    "\n",
    "<h2 style=\"padding:1em;text-align:left;color:#00008B\">Open a File</h2>\n",
    "<ul><li><span style=\"color:#00008B;font-size:20px\">\n",
    "<b>open( )</b> - to open a file. Need to define the following two parameters - filename, mode.  <br><br>\n",
    "<b>close( )</b> - to close a file. <br><br>\n",
    "<li><span style=\"color:#00008B;font-size:16px\">\n",
    "<i>Modes for opening a file: </i><br>\n",
    " 1. \"r\" (Read is the default): Opens a file for reading. Will give an error if the file does not exist. <br><br>\n",
    " 2. \"w\" (Write): Opens a file for writing. Creates the file if it does not exist. Will overwrite any existing content <br><br>\n",
    " 3. \"a\" (Append): Opens a file for appending. Creates the file if it does not exist. Will append at the end of the existing content. <br><br>\n",
    " 4. \"x\" (Create): Creates the specified file. Returns an error if the file exists. <br><br>\n",
    "</span></li>\n",
    "</span></li></ul>\n",
    " \n",
    "<br>\n",
    "<footer>\n",
    "<table style=\"border:none;width:100%\">\n",
    "<tr><td style= \"text-align:left;background-color:blue;color:white;font-size:80%;\"> Farah Ibrar </td><td style= \"text-align:right;background-color:blue;color:white;font-size:80%;\"> Programming in Python </td></tr></table>\n",
    "</footer>"
   ]
  },
  {
   "cell_type": "code",
   "execution_count": 1,
   "metadata": {
    "slideshow": {
     "slide_type": "subslide"
    }
   },
   "outputs": [
    {
     "data": {
      "text/plain": [
       "<_io.TextIOWrapper name='/Users/farah/Desktop/test.txt' mode='w' encoding='UTF-8'>"
      ]
     },
     "execution_count": 1,
     "metadata": {},
     "output_type": "execute_result"
    }
   ],
   "source": [
    "# Define the path to your desktop\n",
    "desktop_path = \"/Users/farah/Desktop/\"\n",
    "\n",
    "# Define the file name\n",
    "filename = \"test.txt\"\n",
    "\n",
    "# Create the full file path\n",
    "full_path = desktop_path + filename\n",
    "\n",
    "# Open the file in write mode\n",
    "file1 = open(full_path, \"w\")\n",
    "\n",
    "# Write some content to the file\n",
    "file1.write(\"This is a test file created on the Mac desktop.\")\n",
    "\n",
    "# Close the file\n",
    "file1.close()\n",
    "\n",
    "# Output the file object to confirm creation\n",
    "file1"
   ]
  },
  {
   "cell_type": "markdown",
   "metadata": {
    "slideshow": {
     "slide_type": "subslide"
    }
   },
   "source": [
    "1. Define Desktop Path: Set the path to your desktop.\n",
    "2. Define Filename: Specify the name of the file.\n",
    "3. Create Full Path: Combine the desktop path and filename.\n",
    "4. Open File: Open the file in write mode (\"w\").\n",
    "5. Write to File: Write a test message to the file.\n",
    "6. Close File: Close the file to save changes.\n",
    "7. Output: Return the file object to confirm creation."
   ]
  },
  {
   "cell_type": "code",
   "execution_count": 6,
   "metadata": {
    "slideshow": {
     "slide_type": "subslide"
    }
   },
   "outputs": [
    {
     "name": "stdout",
     "output_type": "stream",
     "text": [
      "This is a test file created on the Mac desktop.\n"
     ]
    }
   ],
   "source": [
    "# Define the path to your desktop\n",
    "desktop_path = \"/Users/farah/Desktop/\"\n",
    "\n",
    "# Define the file name\n",
    "filename = \"test.txt\"\n",
    "\n",
    "# Create the full file path\n",
    "full_path = desktop_path + filename\n",
    "\n",
    "# Open the file in read mode\n",
    "file1 = open(full_path, \"r\")\n",
    "\n",
    "# Read the content of the file\n",
    "content = file1.read()\n",
    "\n",
    "# Close the file\n",
    "file1.close()\n",
    "\n",
    "# Print the content to confirm\n",
    "print(content)"
   ]
  },
  {
   "cell_type": "code",
   "execution_count": 9,
   "metadata": {
    "slideshow": {
     "slide_type": "subslide"
    }
   },
   "outputs": [],
   "source": [
    "# Open a file - by default is handled as a text and opens in a read mode (for binary mode - specify mode as \"b\")"
   ]
  },
  {
   "cell_type": "code",
   "execution_count": 8,
   "metadata": {
    "slideshow": {
     "slide_type": "subslide"
    }
   },
   "outputs": [
    {
     "name": "stdout",
     "output_type": "stream",
     "text": [
      "This is a test file created on the Mac desktop.\n"
     ]
    }
   ],
   "source": [
    "content = open(\"/Users/farah/Desktop/test.txt\", \"r\").read()\n",
    "print(open(\"/Users/farah/Desktop/test.txt\", \"r\").read())\n",
    "\n",
    "# Close a file\n",
    "file1.close()"
   ]
  },
  {
   "cell_type": "code",
   "execution_count": null,
   "metadata": {
    "slideshow": {
     "slide_type": "subslide"
    }
   },
   "outputs": [],
   "source": [
    "# Open a excel file\n",
    "# One can open a file without any library installation, however to make it from scratch a library would be needed.  "
   ]
  },
  {
   "cell_type": "markdown",
   "metadata": {
    "slideshow": {
     "slide_type": "subslide"
    }
   },
   "source": [
    "- You need to install and import `openpyxl` (or another library like `xlrd`) because Python's standard library does not have `built-in support` for `reading` or `writing` `Excel files`."
   ]
  },
  {
   "cell_type": "code",
   "execution_count": 10,
   "metadata": {
    "slideshow": {
     "slide_type": "subslide"
    }
   },
   "outputs": [
    {
     "name": "stdout",
     "output_type": "stream",
     "text": [
      "[('Hello', 'World')]\n"
     ]
    }
   ],
   "source": [
    "import openpyxl\n",
    "\n",
    "# Define the path to your desktop\n",
    "desktop_path = \"/Users/farah/Desktop/\"\n",
    "\n",
    "# Define the file name\n",
    "filename = \"test.xlsx\"\n",
    "\n",
    "# Create the full file path\n",
    "full_path = desktop_path + filename\n",
    "\n",
    "# Create a new workbook and add a worksheet\n",
    "workbook = openpyxl.Workbook()\n",
    "sheet = workbook.active\n",
    "sheet.title = \"Sheet1\"\n",
    "\n",
    "# Write some content to the worksheet\n",
    "sheet[\"A1\"] = \"Hello\"\n",
    "sheet[\"B1\"] = \"World\"\n",
    "\n",
    "# Save the workbook\n",
    "workbook.save(full_path)\n",
    "\n",
    "# Open the workbook\n",
    "workbook = openpyxl.load_workbook(full_path)\n",
    "sheet = workbook.active\n",
    "\n",
    "# Read the content from the worksheet\n",
    "content = []\n",
    "for row in sheet.iter_rows(values_only=True):\n",
    "    content.append(row)\n",
    "\n",
    "# Print the content\n",
    "print(content)"
   ]
  },
  {
   "cell_type": "markdown",
   "metadata": {
    "slideshow": {
     "slide_type": "slide"
    }
   },
   "source": [
    "<div style=\"background-color:beige;color:beige\">\n",
    "\n",
    "<h2 style=\"padding:1em;text-align:left;color:#00008B\">Read a File</h2>\n",
    "<ul><li><span style=\"color:#00008B;font-size:20px\">\n",
    "\"r\" (Read is the default): Opens a file for reading. Will give an error if the file does not exist. <br><br>\n",
    "<b>read()</b> - by default reads all content of the file. Can specify number of characters to read. <br><br>\n",
    "<b>readline</b>\t- reads line of a file. <br><br>\n",
    "<b>read-lines</b> - returns a list of lines.<br><br>\n",
    "</span></li></ul>\n",
    " \n",
    "<br>\n",
    "<footer>\n",
    "<table style=\"border:none;width:100%\">\n",
    "<tr><td style= \"text-align:left;background-color:blue;color:white;font-size:80%;\"> Farah Ibrar </td><td style= \"text-align:right;background-color:blue;color:white;font-size:80%;\"> Programming in Python </td></tr></table>\n",
    "</footer>"
   ]
  },
  {
   "cell_type": "code",
   "execution_count": 11,
   "metadata": {
    "slideshow": {
     "slide_type": "subslide"
    }
   },
   "outputs": [
    {
     "name": "stdout",
     "output_type": "stream",
     "text": [
      "<built-in method read of _io.TextIOWrapper object at 0x1118398a0>\n"
     ]
    }
   ],
   "source": [
    "# Read a file\n",
    "file1 = open(\"/Users/farah/Desktop/test.txt\")\n",
    "\n",
    "print(file1.read)"
   ]
  },
  {
   "cell_type": "code",
   "execution_count": 12,
   "metadata": {},
   "outputs": [
    {
     "name": "stdout",
     "output_type": "stream",
     "text": [
      "This is a test file created on the Mac desktop.\n"
     ]
    }
   ],
   "source": [
    "# Read a file, readline()\n",
    "\n",
    "file1 = open(\"/Users/farah/Desktop/test.txt\")\n",
    "print(file1.readline())\n",
    "# Reads the first line of the opened file."
   ]
  },
  {
   "cell_type": "code",
   "execution_count": 13,
   "metadata": {},
   "outputs": [
    {
     "data": {
      "text/plain": [
       "['This is a test file created on the Mac desktop.']"
      ]
     },
     "execution_count": 13,
     "metadata": {},
     "output_type": "execute_result"
    }
   ],
   "source": [
    "# Read a file, readlines()\n",
    "\n",
    "file1 = open(\"/Users/farah/Desktop/test.txt\")\n",
    "file1.readlines()\n",
    "# Reads all lines in the opened file."
   ]
  },
  {
   "cell_type": "code",
   "execution_count": 14,
   "metadata": {
    "slideshow": {
     "slide_type": "subslide"
    }
   },
   "outputs": [
    {
     "name": "stdout",
     "output_type": "stream",
     "text": [
      "This\n"
     ]
    }
   ],
   "source": [
    "file1 = open(\"/Users/farah/Desktop/test.txt\")\n",
    "\n",
    "# Read only a part of file - specify how many characters\n",
    "print(file1.read(4))"
   ]
  },
  {
   "cell_type": "code",
   "execution_count": 19,
   "metadata": {},
   "outputs": [],
   "source": [
    "file1.close()"
   ]
  },
  {
   "cell_type": "markdown",
   "metadata": {
    "slideshow": {
     "slide_type": "slide"
    }
   },
   "source": [
    "<div style=\"background-color:beige;color:beige\">\n",
    "\n",
    "<h2 style=\"padding:1em;text-align:left;color:#00008B\">Write in a File</h2>\n",
    "<ul><li><span style=\"color:#00008B;font-size:20px\">\n",
    "\"w\" (Write): Opens a file for writing. Creates the file if it does not exist. Will overwrite any existing content <br><br>\n",
    "</span></li></ul>\n",
    " \n",
    "<br>\n",
    "<footer>\n",
    "<table style=\"border:none;width:100%\">\n",
    "<tr><td style= \"text-align:left;background-color:blue;color:white;font-size:80%;\"> Farah Ibrar </td><td style= \"text-align:right;background-color:blue;color:white;font-size:80%;\"> Programming in Python </td></tr></table>\n",
    "</footer>"
   ]
  },
  {
   "cell_type": "code",
   "execution_count": 22,
   "metadata": {
    "slideshow": {
     "slide_type": "subslide"
    }
   },
   "outputs": [
    {
     "data": {
      "text/plain": [
       "<_io.TextIOWrapper name='/Users/farah/Desktop/test.txt' mode='w' encoding='UTF-8'>"
      ]
     },
     "execution_count": 22,
     "metadata": {},
     "output_type": "execute_result"
    }
   ],
   "source": [
    "# Open a file - write\n",
    "file1 = open(\"/Users/farah/Desktop/test.txt\", \"w\")\n",
    "\n",
    "file1"
   ]
  },
  {
   "cell_type": "code",
   "execution_count": 25,
   "metadata": {
    "scrolled": true
   },
   "outputs": [
    {
     "name": "stdout",
     "output_type": "stream",
     "text": [
      "My name is Farah.\n",
      "I live in New York City.\n",
      "I love playing tennis.\n",
      "\n"
     ]
    }
   ],
   "source": [
    "# Open the file in write mode\n",
    "file1 = open(\"/Users/farah/Desktop/test.txt\", \"w\")\n",
    "\n",
    "# Write the first line\n",
    "file1.write(\"My name is Farah.\\n\")\n",
    "\n",
    "# \\n is for new line\n",
    "# Write the second line\n",
    "file1.write(\"I live in New York City.\\n\")\n",
    "\n",
    "# Write the third line\n",
    "file1.write(\"I love playing tennis.\\n\")\n",
    "\n",
    "# Close the file\n",
    "file1.close()\n",
    "\n",
    "# Open the file again in read mode\n",
    "file1 = open(\"/Users/farah/Desktop/test.txt\", \"r\")\n",
    "\n",
    "# Read and print all lines\n",
    "content = file1.read()\n",
    "print(content)\n",
    "\n",
    "# Close the file\n",
    "file1.close()"
   ]
  },
  {
   "cell_type": "code",
   "execution_count": 26,
   "metadata": {},
   "outputs": [
    {
     "data": {
      "text/plain": [
       "<_io.TextIOWrapper name='/Users/farah/Desktop/test.txt' mode='r' encoding='UTF-8'>"
      ]
     },
     "execution_count": 26,
     "metadata": {},
     "output_type": "execute_result"
    }
   ],
   "source": [
    "file1 = open (\"/Users/farah/Desktop/test.txt\", \"r\")\n",
    "file1"
   ]
  },
  {
   "cell_type": "code",
   "execution_count": 28,
   "metadata": {},
   "outputs": [
    {
     "data": {
      "text/plain": [
       "'My name is Farah.\\n'"
      ]
     },
     "execution_count": 28,
     "metadata": {},
     "output_type": "execute_result"
    }
   ],
   "source": [
    "file1.readline()"
   ]
  },
  {
   "cell_type": "code",
   "execution_count": 33,
   "metadata": {},
   "outputs": [
    {
     "data": {
      "text/plain": [
       "16"
      ]
     },
     "execution_count": 33,
     "metadata": {},
     "output_type": "execute_result"
    }
   ],
   "source": [
    "file1.close()\n",
    "file1 = open (\"/Users/farah/Desktop/test.txt\", \"w\")\n",
    "file1.write(\"I love london. \\n\")"
   ]
  },
  {
   "cell_type": "code",
   "execution_count": 35,
   "metadata": {},
   "outputs": [
    {
     "data": {
      "text/plain": [
       "['I love london. \\n']"
      ]
     },
     "execution_count": 35,
     "metadata": {},
     "output_type": "execute_result"
    }
   ],
   "source": [
    "file1 = open (\"/Users/farah/Desktop/test.txt\", \"r\")\n",
    "file1.readlines()"
   ]
  },
  {
   "cell_type": "code",
   "execution_count": 37,
   "metadata": {},
   "outputs": [
    {
     "name": "stdout",
     "output_type": "stream",
     "text": [
      "My name is Farah.\n",
      "I live in New York City.\n",
      "I love playing tennis.\n",
      "I love cricket as well.\n"
     ]
    }
   ],
   "source": [
    "# Define the content to write to the file\n",
    "content_to_write = [\n",
    "    'My name is Farah.',\n",
    "    'I live in New York City.',\n",
    "    'I love playing tennis.',\n",
    "    'I love cricket as well.'\n",
    "]\n",
    "\n",
    "# Open the file in write mode\n",
    "file1 = open(\"/Users/farah/Desktop/test.txt\", \"w\")\n",
    "\n",
    "# Write each line from the list to the file\n",
    "for line in content_to_write:\n",
    "    file1.write(line + \"\\n\")\n",
    "\n",
    "# Close the file\n",
    "file1.close()\n",
    "\n",
    "# Open the file again in read mode\n",
    "file1 = open(\"/Users/farah/Desktop/test.txt\", \"r\")\n",
    "\n",
    "# Read and print all lines\n",
    "content = file1.readlines()\n",
    "for line in content:\n",
    "    print(line.strip())  # strip() is used to remove the newline character\n",
    "\n",
    "# Close the file\n",
    "file1.close()"
   ]
  },
  {
   "cell_type": "markdown",
   "metadata": {
    "slideshow": {
     "slide_type": "slide"
    }
   },
   "source": [
    "<div style=\"background-color:beige;color:beige\">\n",
    "\n",
    "<h2 style=\"padding:1em;text-align:left;color:#00008B\">Append in a File</h2>\n",
    "<ul><li><span style=\"color:#00008B;font-size:20px\">\n",
    "\"a\" (Append): Opens a file for appending. Creates the file if it does not exist. Will append at the end of the existing content. <br><br>\n",
    "</span></li></ul>\n",
    " \n",
    "<br>\n",
    "<footer>\n",
    "<table style=\"border:none;width:100%\">\n",
    "<tr><td style= \"text-align:left;background-color:blue;color:white;font-size:80%;\"> Farah Ibrar </td><td style= \"text-align:right;background-color:blue;color:white;font-size:80%;\"> Programming in Python </td></tr></table>\n",
    "</footer>"
   ]
  },
  {
   "cell_type": "code",
   "execution_count": 39,
   "metadata": {
    "slideshow": {
     "slide_type": "subslide"
    }
   },
   "outputs": [
    {
     "data": {
      "text/plain": [
       "<_io.TextIOWrapper name='/Users/farah/Desktop/test.txt' mode='a' encoding='UTF-8'>"
      ]
     },
     "execution_count": 39,
     "metadata": {},
     "output_type": "execute_result"
    }
   ],
   "source": [
    "# Open a file - append\n",
    "file1 = open (\"/Users/farah/Desktop/test.txt\", \"a\")\n",
    "file1"
   ]
  },
  {
   "cell_type": "code",
   "execution_count": 40,
   "metadata": {
    "slideshow": {
     "slide_type": "subslide"
    }
   },
   "outputs": [],
   "source": [
    "# Append to the file\n",
    "file1.write(\"I am learning Python. \\n\")\n",
    "\n",
    "file1.write(\"This is file handling. \\n\")\n",
    "\n",
    "# Close the file\n",
    "file1.close()"
   ]
  },
  {
   "cell_type": "code",
   "execution_count": 41,
   "metadata": {
    "slideshow": {
     "slide_type": "subslide"
    }
   },
   "outputs": [
    {
     "data": {
      "text/plain": [
       "['My name is Farah.\\n',\n",
       " 'I live in New York City.\\n',\n",
       " 'I love playing tennis.\\n',\n",
       " 'I love cricket as well.\\n',\n",
       " 'I am learning Python. \\n',\n",
       " 'This is file handling. \\n']"
      ]
     },
     "execution_count": 41,
     "metadata": {},
     "output_type": "execute_result"
    }
   ],
   "source": [
    "file1 = open (\"/Users/farah/Desktop/test.txt\", \"r\")\n",
    "file1.readlines()"
   ]
  },
  {
   "cell_type": "code",
   "execution_count": 43,
   "metadata": {
    "slideshow": {
     "slide_type": "subslide"
    }
   },
   "outputs": [
    {
     "name": "stdout",
     "output_type": "stream",
     "text": [
      "My name is Farah.\n",
      "I live in New York City.\n",
      "I love playing tennis.\n",
      "I love cricket as well.\n",
      "I am learning Python.\n",
      "This is file handling.\n",
      "8 16 6 1 7\n"
     ]
    }
   ],
   "source": [
    "# Define the list to append\n",
    "append_list = [8, 16, 6, 1, 7]\n",
    "\n",
    "# Convert the list to a string\n",
    "append_str = ' '.join(map(str, append_list)) + '\\n'\n",
    "\n",
    "# Open the file in append mode ('a')\n",
    "file1 = open(\"/Users/farah/Desktop/test.txt\", \"a\")\n",
    "\n",
    "# Append the list to the file\n",
    "file1.write(append_str)\n",
    "\n",
    "# Close the file\n",
    "file1.close()\n",
    "\n",
    "# Open the file again in read mode\n",
    "file1 = open(\"/Users/farah/Desktop/test.txt\", \"r\")\n",
    "\n",
    "# Read and print all lines\n",
    "content = file1.readlines()\n",
    "for line in content:\n",
    "    print(line.strip())  # strip() is used to remove the newline character\n",
    "\n",
    "# Close the file\n",
    "file1.close()"
   ]
  },
  {
   "cell_type": "markdown",
   "metadata": {
    "slideshow": {
     "slide_type": "subslide"
    }
   },
   "source": [
    "`append_str = ' '.join(map(str, append_list)) + '\\n'`\n",
    "Converts the list append_list to a string format with numbers separated by spaces and adds a newline character (\\n) at the end.\n",
    "\n",
    "`file1.write(append_str)`\n",
    "Appends the string representation of append_list to the file."
   ]
  },
  {
   "cell_type": "code",
   "execution_count": 46,
   "metadata": {
    "slideshow": {
     "slide_type": "subslide"
    }
   },
   "outputs": [],
   "source": [
    "# Original list\n",
    "list = [22, 56, 54, 47, 51, 60]\n",
    "\n",
    "# Open file1 in append mode\n",
    "with open('file1.txt', 'a') as file1:\n",
    "    # Write the new list to file1\n",
    "    for x in list:\n",
    "        file1.write(\"%d\\n\" % x)\n",
    "\n",
    "# file1 is automatically closed at the end of the with statement"
   ]
  },
  {
   "cell_type": "code",
   "execution_count": 47,
   "metadata": {
    "slideshow": {
     "slide_type": "subslide"
    }
   },
   "outputs": [
    {
     "name": "stdout",
     "output_type": "stream",
     "text": [
      "22\n",
      "56\n",
      "54\n",
      "47\n",
      "51\n",
      "60\n"
     ]
    }
   ],
   "source": [
    "# Open file1 in read mode\n",
    "with open('file1.txt', 'r') as file1:\n",
    "    # Read all lines from the file\n",
    "    lines = file1.readlines()\n",
    "\n",
    "# Print all lines\n",
    "for line in lines:\n",
    "    print(line.strip())  # strip() removes any extra newline characters\n",
    "\n",
    "# file1 is automatically closed at the end of the with statement"
   ]
  },
  {
   "cell_type": "code",
   "execution_count": 49,
   "metadata": {
    "slideshow": {
     "slide_type": "subslide"
    }
   },
   "outputs": [
    {
     "name": "stdout",
     "output_type": "stream",
     "text": [
      "22\n",
      "56\n",
      "54\n",
      "47\n",
      "51\n",
      "60\n",
      "\n"
     ]
    }
   ],
   "source": [
    "# Open file1 in read mode\n",
    "with open('file1.txt', 'r') as file1:\n",
    "    # Read the entire content of the file\n",
    "    content = file1.read()\n",
    "\n",
    "# Print the entire content\n",
    "print(content)\n",
    "\n",
    "# file1 is automatically closed at the end of the with statement"
   ]
  },
  {
   "cell_type": "code",
   "execution_count": 50,
   "metadata": {
    "slideshow": {
     "slide_type": "subslide"
    }
   },
   "outputs": [
    {
     "name": "stdout",
     "output_type": "stream",
     "text": [
      "/Users/farah/Desktop/test.txt: /Users/farah/Python-Workshop/Day 3 uploads/file1.txt\n"
     ]
    }
   ],
   "source": [
    "import os\n",
    "\n",
    "# Get the absolute path of file1.txt\n",
    "file_path = os.path.abspath('file1.txt')\n",
    "print(\"/Users/farah/Desktop/test.txt:\", file_path)\n"
   ]
  },
  {
   "cell_type": "markdown",
   "metadata": {
    "slideshow": {
     "slide_type": "subslide"
    }
   },
   "source": [
    "- File path got mixed up so fixed it using `os`."
   ]
  },
  {
   "cell_type": "code",
   "execution_count": 52,
   "metadata": {
    "slideshow": {
     "slide_type": "subslide"
    }
   },
   "outputs": [
    {
     "name": "stdout",
     "output_type": "stream",
     "text": [
      "Content of test.txt:\n",
      "My name is Farah.\n",
      "I live in New York City.\n",
      "I love playing tennis.\n",
      "I love cricket as well.\n",
      "I am learning Python. \n",
      "This is file handling. \n",
      "8 16 6 1 7\n",
      "1\n",
      "2\n",
      "3\n",
      "4\n",
      "5\n",
      "6\n",
      "\n"
     ]
    }
   ],
   "source": [
    "import os\n",
    "\n",
    "# Original list\n",
    "my_list = [1, 2, 3, 4, 5, 6]\n",
    "\n",
    "# Define the file path\n",
    "file_path = '/Users/farah/Desktop/test.txt'\n",
    "\n",
    "# Open the file in append mode\n",
    "with open(file_path, 'a') as file1:\n",
    "    # Write the new list to the file\n",
    "    for x in my_list:\n",
    "        file1.write(\"%d\\n\" % x)\n",
    "\n",
    "# Read the entire content of the file and print it\n",
    "with open(file_path, 'r') as file1:\n",
    "    content = file1.read()\n",
    "    print(\"Content of test.txt:\")\n",
    "    print(content)\n",
    "\n",
    "# file1 is automatically closed at the end of the with statement"
   ]
  },
  {
   "cell_type": "code",
   "execution_count": null,
   "metadata": {
    "slideshow": {
     "slide_type": "subslide"
    }
   },
   "outputs": [],
   "source": [
    "# \n",
    "%s= string (values will be written as string)\n",
    "%d= numbers (vlaues will be written as numbers)\n",
    "\n",
    "if you have mixture of string and numbers then it can be run as string. \n",
    "\n",
    "make sure to close the file so you can see the outcome. "
   ]
  },
  {
   "cell_type": "code",
   "execution_count": 53,
   "metadata": {},
   "outputs": [
    {
     "data": {
      "text/plain": [
       "<_io.TextIOWrapper name='/Users/farah/Desktop/test.txt' mode='a' encoding='UTF-8'>"
      ]
     },
     "execution_count": 53,
     "metadata": {},
     "output_type": "execute_result"
    }
   ],
   "source": [
    "file1 = open ('/Users/farah/Desktop/test.txt', 'a')\n",
    "file1"
   ]
  },
  {
   "cell_type": "code",
   "execution_count": 54,
   "metadata": {},
   "outputs": [
    {
     "name": "stdout",
     "output_type": "stream",
     "text": [
      "Content of test.txt:\n",
      "My name is Farah.\n",
      "I live in New York City.\n",
      "I love playing tennis.\n",
      "I love cricket as well.\n",
      "I am learning Python. \n",
      "This is file handling. \n",
      "8 16 6 1 7\n",
      "1\n",
      "2\n",
      "3\n",
      "4\n",
      "5\n",
      "6\n",
      "3025\n",
      "1849\n",
      "4225\n",
      "7744\n",
      "1764\n",
      "\n"
     ]
    }
   ],
   "source": [
    "# Open the file in append mode\n",
    "with open('/Users/farah/Desktop/test.txt', 'a') as file1:\n",
    "    # Define the new list\n",
    "    newlist = [55, 43, 65, 88, 42]\n",
    "\n",
    "    # Square each number and write to the file\n",
    "    for x in newlist:\n",
    "        squared = x ** 2\n",
    "        file1.write(\"%d\\n\" % squared)\n",
    "\n",
    "# Read the entire content of the file and print it\n",
    "with open('/Users/farah/Desktop/test.txt', 'r') as file1:\n",
    "    content = file1.read()\n",
    "    print(\"Content of test.txt:\")\n",
    "    print(content)\n",
    "\n",
    "# file1 is automatically closed at the end of the with statement"
   ]
  },
  {
   "cell_type": "markdown",
   "metadata": {},
   "source": [
    "1. **Opening the File in Append Mode**:\n",
    "   ```python\n",
    "   with open('/Users/farah/Desktop/test.txt', 'a') as file1:\n",
    "   ```\n",
    "   - This line opens the file `test.txt` located at `/Users/farah/Desktop/` in append mode (`'a'`). The `with` statement ensures that the file is properly closed after all operations are completed.\n",
    "\n",
    "2. **Defining the New List**:\n",
    "   ```python\n",
    "   newlist = [55, 43, 65, 88, 42]\n",
    "   ```\n",
    "   - This line defines a new list `newlist` containing integers.\n",
    "\n",
    "3. **Writing Squared Numbers to the File**:\n",
    "   ```python\n",
    "   for x in newlist:\n",
    "       squared = x ** 2\n",
    "       file1.write(\"%d\\n\" % squared)\n",
    "   ```\n",
    "   - This loop iterates through each number `x` in `newlist`.\n",
    "   - It calculates the square of `x` using `x ** 2`.\n",
    "   - It writes the squared value to `file1` using `file1.write(\"%d\\n\" % squared)`. `%d` is used to format the integer value of `squared`, and `\"\\n\"` ensures each squared number is written on a new line.\n",
    "\n",
    "4. **Reading and Printing the Content of the File**:\n",
    "   ```python\n",
    "   with open('/Users/farah/Desktop/test.txt', 'r') as file1:\n",
    "       content = file1.read()\n",
    "       print(\"Content of test.txt:\")\n",
    "       print(content)\n",
    "   ```\n",
    "   - This code block opens `test.txt` again, this time in read mode (`'r'`).\n",
    "   - It reads the entire content of the file using `file1.read()` and stores it in the variable `content`.\n",
    "   - It prints the content of `test.txt` to the console.\n",
    "\n",
    "5. **Automatic File Closure**:\n",
    "   - Both instances of opening the file (`file1`) are within `with` statements. This ensures that the file is automatically closed at the end of each `with` block, preventing any potential issues with file locks or leaks."
   ]
  },
  {
   "cell_type": "markdown",
   "metadata": {
    "slideshow": {
     "slide_type": "slide"
    }
   },
   "source": [
    "<div style=\"background-color:beige;color:beige\">\n",
    "\n",
    "<h2 style=\"padding:1em;text-align:left;color:#00008B\">Create a new File</h2>\n",
    "<ul><li><span style=\"color:#00008B;font-size:20px\">\n",
    "\"x\" (Create): Creates the specified file. Returns an error if the file exists. <br><br>\n",
    "</span></li></ul>\n",
    " \n",
    "<br>\n",
    "<footer>\n",
    "<table style=\"border:none;width:100%\">\n",
    "<tr><td style= \"text-align:left;background-color:blue;color:white;font-size:80%;\"> Farah Ibrar </td><td style= \"text-align:right;background-color:blue;color:white;font-size:80%;\"> Programming in Python </td></tr></table>\n",
    "</footer>"
   ]
  },
  {
   "cell_type": "code",
   "execution_count": 58,
   "metadata": {
    "slideshow": {
     "slide_type": "subslide"
    }
   },
   "outputs": [],
   "source": [
    "# Create a new file\n",
    "file2 = open('/Users/farah/Desktop/test_fabz.txt', \"x\")\n",
    "\n",
    "file2.close()\n",
    "# This file can then be used to do anything..."
   ]
  },
  {
   "cell_type": "markdown",
   "metadata": {
    "slideshow": {
     "slide_type": "slide"
    }
   },
   "source": [
    "<div style=\"background-color:beige;color:beige\">\n",
    "\n",
    "<h2 style=\"padding:1em;text-align:left;color:#00008B\">Summary</h2>\n",
    "\n",
    "<ul><li><span style=\"color:#00008B;font-size:20px\">\n",
    "File handling in Python - open, close, read, write, append, create. <br><br>\n",
    "A file by default is handled in text mode, for binary mode use the mode \"b\" (e.g. - for images).<br><br>\n",
    "<a href=\"https://docs.python.org/3/tutorial/inputoutput.html#reading-and-writing-files\">Reading and Writing Files - Resource 1</a> <br><br>\n",
    "<a href=\"https://realpython.com/read-write-files-python/\">Reading and Writing Files - Resource 2</a><br><br>\n",
    "<a href=\"https://docs.python.org/3/library/csv.html\">CSV File Reading and Writing - Resource 3</a><br><br>\n",
    "</span></li>\n",
    "    </ul>\n",
    "\n",
    "<br><br><br><br>\n",
    "<footer>\n",
    "<table style=\"border:none;width:100%\">\n",
    "<tr><td style= \"text-align:left;background-color:blue;color:white;font-size:80%;\"> Farah Ibrar</td><td style= \"text-align:center;background-color:blue;color:white;font-size:80%;\"> Programming in Python </td><td style= \"text-align:right;background-color:blue;color:white;font-size:80%;\">SCM7047</td></tr></table>\n",
    "</footer>\n",
    "\n",
    "</div>"
   ]
  },
  {
   "cell_type": "markdown",
   "metadata": {
    "slideshow": {
     "slide_type": "slide"
    }
   },
   "source": [
    "<div style=\"background-color:beige;color:beige\">\n",
    "\n",
    "<h1 style=\"padding:1em;text-align:center;color:#00008B\">EXERCISE</h1>\n",
    "\n",
    "<ul><li><span style=\"color:#00008B;font-size:20px\">\n",
    "1. Write python code(s) to perform the following tasks:<br><br>\n",
    "  <li><span style=\"color:#00008B;font-size:16px\">\n",
    "   a. Create a file named \"my_first_file.txt\". <br><br>\n",
    "   b. Write the following lines in this file [Line 1 - \"The first argument is a string containing the filename.\" Line 2 - \"The second argument is another string containing a few characters describing the way in which the file will be used.\"] <br><br>\n",
    "   c. Print the first five characters of this file. <br><br>\n",
    "   d. Append the following line in this file [Line - \"In text mode, the default when reading is to convert platform-specific line endings (\\n on Unix, \\r\\n on Windows) to just \\n.\"]<br><br>\n",
    "   e. Print all the lines of this file.\n",
    "  </span></li>\n",
    "    \n",
    "</span></li></ul>\n",
    "    \n",
    "<footer>\n",
    "<table style=\"border:none;width:100%\">\n",
    "<tr><td style= \"text-align:left;background-color:blue;color:white;font-size:80%;\"> Farah Ibrar </td><td style= \"text-align:right;background-color:blue;color:white;font-size:80%;\"> Programming in Python </td></tr></table>\n",
    "</footer>\n",
    "\n",
    "</div>"
   ]
  },
  {
   "cell_type": "code",
   "execution_count": 59,
   "metadata": {},
   "outputs": [
    {
     "name": "stdout",
     "output_type": "stream",
     "text": [
      "First five characters of the file: The f\n",
      "\n",
      "All lines of the file:\n",
      "The first argument is a string containing the filename.\n",
      "The second argument is another string containing a few characters describing the way in which the file will be used.\n",
      "In text mode, the default when reading is to convert platform-specific line endings (\\n on Unix, \\r\\n on Windows) to just \\n.\n"
     ]
    }
   ],
   "source": [
    "import os\n",
    "\n",
    "# Define the file path on your desktop\n",
    "file_path = \"/Users/farah/Desktop/my_first_file.txt\"\n",
    "\n",
    "# Task a: Create a file named \"my_first_file.txt\"\n",
    "with open(file_path, 'w') as file:\n",
    "    file.write(\"The first argument is a string containing the filename.\\n\")\n",
    "    file.write(\"The second argument is another string containing a few characters describing the way in which the file will be used.\\n\")\n",
    "\n",
    "# Task b: Print the first five characters of this file\n",
    "with open(file_path, 'r') as file:\n",
    "    first_five = file.read(5)\n",
    "    print(f\"First five characters of the file: {first_five}\")\n",
    "\n",
    "# Task d: Append the following line in this file\n",
    "with open(file_path, 'a') as file:\n",
    "    file.write(\"In text mode, the default when reading is to convert platform-specific line endings (\\\\n on Unix, \\\\r\\\\n on Windows) to just \\\\n.\\n\")\n",
    "\n",
    "# Task e: Print all the lines of this file\n",
    "with open(file_path, 'r') as file:\n",
    "    all_lines = file.readlines()\n",
    "    print(\"\\nAll lines of the file:\")\n",
    "    for line in all_lines:\n",
    "        print(line.strip())  # strip() removes any extra newline characters\n",
    "\n",
    "# file is automatically closed at the end of the with statement"
   ]
  }
 ],
 "metadata": {
  "celltoolbar": "Slideshow",
  "kernelspec": {
   "display_name": "Python 3 (ipykernel)",
   "language": "python",
   "name": "python3"
  },
  "language_info": {
   "codemirror_mode": {
    "name": "ipython",
    "version": 3
   },
   "file_extension": ".py",
   "mimetype": "text/x-python",
   "name": "python",
   "nbconvert_exporter": "python",
   "pygments_lexer": "ipython3",
   "version": "3.10.9"
  }
 },
 "nbformat": 4,
 "nbformat_minor": 4
}
