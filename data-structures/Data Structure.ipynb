{
 "cells": [
  {
   "cell_type": "markdown",
   "metadata": {
    "slideshow": {
     "slide_type": "slide"
    }
   },
   "source": [
    "<div style=\"background-color:beige;color:beige\">\n",
    "<header>\n",
    "<h1 style=\"padding:1em;text-align:center;color:#00008B\">Basics of Python programming <br><br> &nbsp;&nbsp; Data Structure </h1> \n",
    "</header>\n",
    "<br><br><br><br><br><br>\n",
    "<footer>\n",
    "<table style=\"border:none;width:100%\">\n",
    "<tr><td style= \"text-align:left;background-color:blue;color:white;font-size:80%;\"> Farah Ibrar </td><td style= \"text-align:right;background-color:blue;color:white;font-size:80%;\"> Programming in Python </td></tr></table>\n",
    "</footer>\n",
    "\n",
    "</div>"
   ]
  },
  {
   "cell_type": "markdown",
   "metadata": {
    "slideshow": {
     "slide_type": "slide"
    }
   },
   "source": [
    "<div style=\"background-color:beige;color:beige\">\n",
    "<header>\n",
    "<h1 style=\"padding:1em;text-align:left;color:#00008B\">Outline</h1>\n",
    "</header>\n",
    "\n",
    "    \n",
    "<ul><li><span style=\"color:#00008B;font-size:24px\">List </span> <br><br>\n",
    "        <li><span style=\"color:#00008B; font-size:24px\">Tuple </span> <br><br>\n",
    "        <li><span style=\"color:#00008B; font-size:24px\">Dictionary </span><br><br>\n",
    "        <li><span style=\"color:#00008B; font-size:24px\">Sets </span> \n",
    "        </li>\n",
    "       </ul>\n",
    "\n",
    "<br><br><span style=\"color:#00008B;font-size:20px\">\n",
    " <b>*Remember</b> - In Python, anything which can be modified after creation is mutable, while which cannot is immutable.</span><br>\n",
    "<span style=\"color:#00008B;font-size:16px\">\n",
    "Example: Lists, Sets, Dictionaries are mutable.  Tuples and basic data types (numeric, boolean, strings) are non-mutable.\n",
    "    </span>\n",
    "<br><br>\n",
    "<footer>\n",
    "<table style=\"border:none;width:100%\">\n",
    "<tr><td style= \"text-align:left;background-color:blue;color:white;font-size:80%;\"> Farah Ibrar </td><td style= \"text-align:right;background-color:blue;color:white;font-size:80%;\"> Programming in Python </td></tr></table>\n",
    "</footer>\n",
    "\n",
    "</div>"
   ]
  },
  {
   "cell_type": "markdown",
   "metadata": {
    "slideshow": {
     "slide_type": "subslide"
    }
   },
   "source": [
    "#### List, Tuple, Dictionary, Sets are all mutable. "
   ]
  },
  {
   "cell_type": "markdown",
   "metadata": {
    "slideshow": {
     "slide_type": "slide"
    }
   },
   "source": [
    "<div style=\"background-color:beige;color:beige\">\n",
    "\n",
    "<h2 style=\"padding:1em;text-align:left;color:#00008B\">List</h2>\n",
    "\n",
    "<ul><li><span style=\"color:#00008B;font-size:20px\">\n",
    "Stores heterogenous data items (mixed of data types) - numeric (numbers), string (within quotes), or other data structures like lists themselves. <br><br>\n",
    "They are mutable, i.e., elements can be changed after creation. This means you can modify, add, or remove items from a list. <br><br>\n",
    "Allows duplicate elements: Elements can repeat in a list. Each occurrence of a value maintains its own place in the list.<br><br>\n",
    "To create a list, elements are specified within [ ] by placing comma-separated . <br><br>\n",
    "<b>Syntax:</b> Object_Name = [item1, item2, item3] <br>\n",
    "</span></li></ul> <br><br>\n",
    " \n",
    "\n",
    "<br><br><br><br>\n",
    "<footer>\n",
    "<table style=\"border:none;width:100%\">\n",
    "<tr><td style= \"text-align:left;background-color:blue;color:white;font-size:80%;\"> Farah Ibrar </td><td style= \"text-align:right;background-color:blue;color:white;font-size:80%;\"> Programming in Python </td></tr></table>\n",
    "</footer>\n",
    "\n",
    "</div>"
   ]
  },
  {
   "cell_type": "code",
   "execution_count": 15,
   "metadata": {
    "slideshow": {
     "slide_type": "subslide"
    }
   },
   "outputs": [
    {
     "name": "stdout",
     "output_type": "stream",
     "text": [
      "[1, 2, 3, 2]\n"
     ]
    }
   ],
   "source": [
    "# Creating a list - Example 1\n",
    "list1 = [1, 2, 3, 2]  \n",
    "print(list1)"
   ]
  },
  {
   "cell_type": "code",
   "execution_count": 21,
   "metadata": {
    "slideshow": {
     "slide_type": "subslide"
    }
   },
   "outputs": [
    {
     "data": {
      "text/plain": [
       "[1, 'hello', 3.14, True]"
      ]
     },
     "execution_count": 21,
     "metadata": {},
     "output_type": "execute_result"
    }
   ],
   "source": [
    "# Creating a list - Example 2\n",
    "my_list = [1, 'hello', 3.14, True]\n",
    "my_list\n",
    "\n",
    "# You can print without writing print itself by just calling the name of whatever you want to print"
   ]
  },
  {
   "cell_type": "code",
   "execution_count": 22,
   "metadata": {
    "slideshow": {
     "slide_type": "subslide"
    }
   },
   "outputs": [
    {
     "data": {
      "text/plain": [
       "[[1, 2, 3], ['a', 'b', 'c'], [True, False]]"
      ]
     },
     "execution_count": 22,
     "metadata": {},
     "output_type": "execute_result"
    }
   ],
   "source": [
    "# Creating a list - Example 3\n",
    "nested_list = [[1, 2, 3], ['a', 'b', 'c'], [True, False]]\n",
    "nested_list"
   ]
  },
  {
   "cell_type": "code",
   "execution_count": 24,
   "metadata": {
    "slideshow": {
     "slide_type": "subslide"
    }
   },
   "outputs": [
    {
     "name": "stdout",
     "output_type": "stream",
     "text": [
      "['apple', 'orange', 'cherry']\n"
     ]
    }
   ],
   "source": [
    "# The second element ('banana') in the fruits list is replaced with 'orange'\n",
    "fruits = ['apple', 'banana', 'cherry']\n",
    "fruits[1] = 'orange'\n",
    "print(fruits)"
   ]
  },
  {
   "cell_type": "markdown",
   "metadata": {
    "slideshow": {
     "slide_type": "subslide"
    }
   },
   "source": [
    "#### Lists are incredibly flexible and useful for many programming tasks, including storing collections of data, iterating over elements, and performing operations like sorting and searching."
   ]
  },
  {
   "cell_type": "markdown",
   "metadata": {
    "slideshow": {
     "slide_type": "slide"
    }
   },
   "source": [
    "<div style=\"background-color:beige;color:beige\">\n",
    "\n",
    "<h1 style=\"padding:1em;text-align:center;color:#00008B\">EXERCISE</h1>\n",
    "\n",
    "<ul><li><span style=\"color:#00008B;font-size:20px\">\n",
    "    \n",
    "Write python code(s) to perform the following tasks:<br>\n",
    "  <ul><li><span style=\"color:#00008B;font-size:16px\">\n",
    "   a. Ask the user to input six numeric values (value1, value2, value3, value4, value5, value6).  Store these values in a list. <br>\n",
    "  </span></li></ul>\n",
    "\n",
    "</span></li></ul>\n",
    "    \n",
    "<footer>\n",
    "<table style=\"border:none;width:100%\">\n",
    "<tr><td style= \"text-align:left;background-color:blue;color:white;font-size:80%;\"> Farah Ibrar </td><td style= \"text-align:right;background-color:blue;color:white;font-size:80%;\"> Programming in Python </td></tr></table>\n",
    "</footer>\n",
    "\n",
    "</div>"
   ]
  },
  {
   "cell_type": "code",
   "execution_count": 26,
   "metadata": {
    "slideshow": {
     "slide_type": "subslide"
    }
   },
   "outputs": [
    {
     "name": "stdout",
     "output_type": "stream",
     "text": [
      "Enter value 1: 11\n",
      "Enter value 2: 17\n",
      "Enter value 3: 19\n",
      "Enter value 4: 54\n",
      "Enter value 5: 88\n",
      "Enter value 6: 37\n",
      "List of numeric values: [11.0, 17.0, 19.0, 54.0, 88.0, 37.0]\n"
     ]
    }
   ],
   "source": [
    "# Prompting the user to input six numeric values\n",
    "value1 = float(input(\"Enter value 1: \"))\n",
    "value2 = float(input(\"Enter value 2: \"))\n",
    "value3 = float(input(\"Enter value 3: \"))\n",
    "value4 = float(input(\"Enter value 4: \"))\n",
    "value5 = float(input(\"Enter value 5: \"))\n",
    "value6 = float(input(\"Enter value 6: \"))\n",
    "\n",
    "# Storing the values in a list\n",
    "numeric_values = [value1, value2, value3, value4, value5, value6]\n",
    "\n",
    "# Printing the list of numeric values\n",
    "print(\"List of numeric values:\", numeric_values)"
   ]
  },
  {
   "cell_type": "markdown",
   "metadata": {
    "slideshow": {
     "slide_type": "slide"
    }
   },
   "source": [
    "<div style=\"background-color:beige;color:beige\">\n",
    "\n",
    "<h3 style=\"padding:1em;text-align:left;color:#00008B\">Accessing Elements in a List</h3>\n",
    "\n",
    "<ul><li><span style=\"color:#00008B;font-size:16px\">\n",
    "In Python, a list is a versatile data structure that allows you to store and manipulate collections of items. Each element in a list is indexed based on its position, starting from 0.<br><br>\n",
    "Each element in a list is indexed depending on its position. <br><br>\n",
    "<b>Example 1:</b> In the list list1 = [1, 2, 3, 2], element 1[1], is indexed at position 0, element 2[2] at 1, element 3[3] at 2, and element 4[2] at 3. <br><br>\n",
    "\n",
    "<b>Example 2:</b>\n",
    "Consider the list list1 = [1, 2, 3, 2].\n",
    "Element 1 is at index 0.\n",
    "Element 2 is at index 1.\n",
    "Element 3 is at index 2.\n",
    "Element 2 (second occurrence) is at index 3.\n",
    "To access a particular element in a list, you use its position within square brackets ([ ]):\n",
    "Syntax: list_name[position]<br><br>\n",
    "    \n",
    "    \n",
    "<b>index()</b> -> Use this method to know position of any element.\n",
    "For example:list1.index(2) would return 1 (the index of the first occurrence of 2).\n",
    "list1.index(3) would return 2.\n",
    "Syntax: to access a particular element in a list: list_name[position]<br><br>\n",
    "    \n",
    "<b>Slicing</b> -  range of elements between two positions. Slicing allows you to extract a subset of elements from a list, creating a new list:\n",
    "Syntax: list_name[start:end]\n",
    "    \n",
    "start is the index where the slice begins (inclusive).\n",
    "end is the index where the slice ends (exclusive).\n",
    "\n",
    "Using negative indices:\n",
    "list1[:-1] would return [1, 2, 3]. This excludes the last element.\n",
    "list1[-2:] would return [3, 2]. This extracts the last two elements.\n",
    "    \n",
    "Syntax: list_name[position1:position2]<br><br>\n",
    "</span></li></ul> <br><br>\n",
    " \n",
    "<footer>\n",
    "<table style=\"border:none;width:100%\">\n",
    "<tr><td style= \"text-align:left;background-color:blue;color:white;font-size:80%;\"> Farah Ibrar </td><td style= \"text-align:right;background-color:blue;color:white;font-size:80%;\"> Programming in Python </td></tr></table>\n",
    "</footer>\n",
    "\n",
    "</div>"
   ]
  },
  {
   "cell_type": "code",
   "execution_count": 28,
   "metadata": {
    "slideshow": {
     "slide_type": "subslide"
    }
   },
   "outputs": [
    {
     "name": "stdout",
     "output_type": "stream",
     "text": [
      "5\n"
     ]
    }
   ],
   "source": [
    "# Index searches for an element in a list and returns its postion\n",
    "list3 = [1, 2, 2.5, 4, 6, 'Python', 6, 8, 'Farah']\n",
    "print(list3.index('Python'))"
   ]
  },
  {
   "cell_type": "code",
   "execution_count": 32,
   "metadata": {
    "slideshow": {
     "slide_type": "subslide"
    }
   },
   "outputs": [
    {
     "name": "stdout",
     "output_type": "stream",
     "text": [
      "2.5\n"
     ]
    }
   ],
   "source": [
    "# Accessing the third element of this list3 [this is at index position 2]\n",
    "print(list3[2])"
   ]
  },
  {
   "cell_type": "code",
   "execution_count": 30,
   "metadata": {
    "slideshow": {
     "slide_type": "subslide"
    }
   },
   "outputs": [
    {
     "name": "stdout",
     "output_type": "stream",
     "text": [
      "The first occurrence of the element '2' is at index: 1\n"
     ]
    }
   ],
   "source": [
    "# Define a list\n",
    "list_extra = [1, 2, 3, 2, 4]\n",
    "\n",
    "# Use index() method to find the position of an element\n",
    "position = list_extra.index(2)\n",
    "\n",
    "# Print the position\n",
    "print(f\"The first occurrence of the element '2' is at index: {position}\")\n"
   ]
  },
  {
   "cell_type": "code",
   "execution_count": 33,
   "metadata": {
    "slideshow": {
     "slide_type": "subslide"
    }
   },
   "outputs": [
    {
     "data": {
      "text/plain": [
       "[1, 2, 2.5, 4]"
      ]
     },
     "execution_count": 33,
     "metadata": {},
     "output_type": "execute_result"
    }
   ],
   "source": [
    "# Slicing to access the first four element of this list\n",
    "list_new = list3[0:4]\n",
    "list_new"
   ]
  },
  {
   "cell_type": "markdown",
   "metadata": {
    "slideshow": {
     "slide_type": "subslide"
    }
   },
   "source": [
    "#### In slicing:\n",
    "- The start index is inclusive.\n",
    "- The end index is exclusive.\n",
    "\n",
    "To include the element at index 4 in the slice, one need to set the end index to 5 because the end index is not included in the result of the slice. Thus, list3 [0:5] will include elements from index 0 to 4."
   ]
  },
  {
   "cell_type": "code",
   "execution_count": 34,
   "metadata": {
    "slideshow": {
     "slide_type": "subslide"
    }
   },
   "outputs": [
    {
     "name": "stdout",
     "output_type": "stream",
     "text": [
      "['Farah', 8, 6, 'Python', 6, 4, 2.5, 2, 1]\n"
     ]
    }
   ],
   "source": [
    "# Use the reverse() function to reverese the elements of this list\n",
    "list3.reverse()\n",
    "print(list3)"
   ]
  },
  {
   "cell_type": "code",
   "execution_count": 37,
   "metadata": {
    "slideshow": {
     "slide_type": "subslide"
    }
   },
   "outputs": [
    {
     "name": "stdout",
     "output_type": "stream",
     "text": [
      "[4, 2, 3, 2, 1]\n"
     ]
    }
   ],
   "source": [
    "# Define the list\n",
    "list_extra = [1, 2, 3, 2, 4]\n",
    "\n",
    "# Reverse the list in place\n",
    "list_extra.reverse()\n",
    "\n",
    "# Print the reversed list\n",
    "print(list_extra)"
   ]
  },
  {
   "cell_type": "markdown",
   "metadata": {
    "slideshow": {
     "slide_type": "subslide"
    }
   },
   "source": [
    "#### To temporarily reverse the list (e.g., for a specific operation) without modifying the original list: \n",
    "- use slicing: list_extra[::-1] \n",
    "\n",
    "or \n",
    "\n",
    "- the reversed() function: list(reversed(list_extra)).\n",
    "\n",
    "If you have permanently reversed a list using the **reverse( )** method and want to change it back to its original order, you can simply call the **reverse( )** method again. Reversing a list twice returns it to its original order."
   ]
  },
  {
   "cell_type": "code",
   "execution_count": 38,
   "metadata": {
    "slideshow": {
     "slide_type": "subslide"
    }
   },
   "outputs": [
    {
     "name": "stdout",
     "output_type": "stream",
     "text": [
      "9\n"
     ]
    }
   ],
   "source": [
    "# Use the len() function to find the length of a list or how many elements are there in a list\n",
    "print(len(list3))"
   ]
  },
  {
   "cell_type": "code",
   "execution_count": 40,
   "metadata": {
    "slideshow": {
     "slide_type": "subslide"
    }
   },
   "outputs": [
    {
     "name": "stdout",
     "output_type": "stream",
     "text": [
      "0\n"
     ]
    }
   ],
   "source": [
    "# Define an empty list\n",
    "empty_list = []\n",
    "\n",
    "# Use len() function to find the length of the list\n",
    "length = len(empty_list)\n",
    "\n",
    "# Print the length\n",
    "print(len(empty_list))\n"
   ]
  },
  {
   "cell_type": "code",
   "execution_count": 41,
   "metadata": {
    "slideshow": {
     "slide_type": "subslide"
    }
   },
   "outputs": [
    {
     "name": "stdout",
     "output_type": "stream",
     "text": [
      "5\n"
     ]
    }
   ],
   "source": [
    "# Define a list with mixed data types\n",
    "mixed_list = [1, \"Python\", 3.14, True, [1, 2, 3]]\n",
    "\n",
    "# Use len() function to find the length of the list and print it\n",
    "print(len(mixed_list))"
   ]
  },
  {
   "cell_type": "code",
   "execution_count": 42,
   "metadata": {
    "slideshow": {
     "slide_type": "subslide"
    }
   },
   "outputs": [
    {
     "name": "stdout",
     "output_type": "stream",
     "text": [
      "4\n"
     ]
    }
   ],
   "source": [
    "# Define a nested list\n",
    "nested_list = [1, [2, 3], [4, 5, 6], 7]\n",
    "\n",
    "# Use len() function to find the length of the list and print it\n",
    "print(len(nested_list))"
   ]
  },
  {
   "cell_type": "markdown",
   "metadata": {
    "slideshow": {
     "slide_type": "slide"
    }
   },
   "source": [
    "<div style=\"background-color:beige;color:beige\">\n",
    "\n",
    "<h3 style=\"padding:1em;text-align:left;color:#00008B\">Append/Insert Elements to a List</h3>\n",
    "\n",
    "<ul><li><span style=\"color:#00008B;font-size:16px\">\n",
    "    <b>append()</b> - Add elements in the end of a list. <b>Syntax</b>: listname.append(element)<br><br>\n",
    "<b>insert()</b> - Add elements at a specific position in a list. <b>Syntax</b>: listname.insert(index_position, element)<br><br>\n",
    "<b>extend()</b> - Append several elements in the list. <b>Syntax</b>: listname.extend([element1, element2, element3])<br><br>\n",
    "    <b>Concatenating lists</b> - Two or more lists can be concatenated using the \"+\" symbol. <b>Syntax</b>: list3 = list1+list2\n",
    "</span></li></ul> <br><br>\n",
    " \n",
    "<br><br><br><br>\n",
    "<footer>\n",
    "<table style=\"border:none;width:100%\">\n",
    "<tr><td style= \"text-align:left;background-color:blue;color:white;font-size:80%;\"> Farah Ibrar </td><td style= \"text-align:right;background-color:blue;color:white;font-size:80%;\"> Programming in Python </td></tr></table>\n",
    "</footer>\n",
    "\n",
    "</div>"
   ]
  },
  {
   "cell_type": "code",
   "execution_count": 43,
   "metadata": {
    "slideshow": {
     "slide_type": "subslide"
    }
   },
   "outputs": [
    {
     "name": "stdout",
     "output_type": "stream",
     "text": [
      "[1, 2, 3, 4]\n"
     ]
    }
   ],
   "source": [
    "# Add a element in a list using append()\n",
    "list4 = [1, 2, 3]\n",
    "list4.append(4)\n",
    "print(list4)"
   ]
  },
  {
   "cell_type": "code",
   "execution_count": 44,
   "metadata": {
    "slideshow": {
     "slide_type": "subslide"
    }
   },
   "outputs": [
    {
     "name": "stdout",
     "output_type": "stream",
     "text": [
      "[1, 'Farah', 2, 3, 4]\n"
     ]
    }
   ],
   "source": [
    "# Insert a element in a list using insert()\n",
    "list4.insert(1, 'Farah')\n",
    "print(list4)"
   ]
  },
  {
   "cell_type": "code",
   "execution_count": 47,
   "metadata": {
    "slideshow": {
     "slide_type": "subslide"
    }
   },
   "outputs": [
    {
     "name": "stdout",
     "output_type": "stream",
     "text": [
      "[1, 'Farah', 2, 3, 4, 5, 6, 7, 5, 6, 7, 'Umar', 'Maryam', 8, 9, 10]\n"
     ]
    }
   ],
   "source": [
    "# Append list of elements in a list using extend()\n",
    "list4.extend([5, 6, 7, 'Umar', 'Maryam', 8, 9, 10])\n",
    "print(list4)"
   ]
  },
  {
   "cell_type": "code",
   "execution_count": 48,
   "metadata": {
    "slideshow": {
     "slide_type": "subslide"
    }
   },
   "outputs": [
    {
     "name": "stdout",
     "output_type": "stream",
     "text": [
      "[1, 'Farah', 2, 3, 4, 5, 6, 7, 5, 6, 7, 'Umar', 'Maryam', 8, 9, 10, 11, 12, 'Python']\n"
     ]
    }
   ],
   "source": [
    "# Concatenate two lists using + symbol\n",
    "list5 = [11, 12, 'Python']\n",
    "new_list = list4 + list5\n",
    "print(new_list)"
   ]
  },
  {
   "cell_type": "markdown",
   "metadata": {
    "slideshow": {
     "slide_type": "slide"
    }
   },
   "source": [
    "<div style=\"background-color:beige;color:beige\">\n",
    "\n",
    "<h3 style=\"padding:1em;text-align:left;color:#00008B\">Remove Elements from a List</h3>\n",
    "\n",
    "<ul><li><span style=\"color:#00008B;font-size:16px\">\n",
    "<b>remove( )</b> - Removes the first occurence from a list, which matches the given value <b>Syntax</b> - listname.remove(element)<br><br>\n",
    "<b>pop( )</b> - By default removes the last value in a list, if a index position is not specified <b>Syntax</b> - listname.pop(index_position)<br><br>\n",
    "</span></li></ul> <br><br>\n",
    " \n",
    "\n",
    "<br><br><br><br>\n",
    "<footer>\n",
    "<table style=\"border:none;width:100%\">\n",
    "<tr><td style= \"text-align:left;background-color:blue;color:white;font-size:80%;\"> Farah Ibrar </td><td style= \"text-align:right;background-color:blue;color:white;font-size:80%;\"> Programming in Python </td></tr></table>\n",
    "</footer>\n",
    "\n",
    "</div>"
   ]
  },
  {
   "cell_type": "code",
   "execution_count": 49,
   "metadata": {
    "slideshow": {
     "slide_type": "subslide"
    }
   },
   "outputs": [
    {
     "name": "stdout",
     "output_type": "stream",
     "text": [
      "[1, 2, 3, 5, 4]\n"
     ]
    }
   ],
   "source": [
    "# Remove a element from a list using remove method\n",
    "list6 = [1, 2, 3, 4, 5, 4]\n",
    "list6.remove(4)\n",
    "print(list6)"
   ]
  },
  {
   "cell_type": "code",
   "execution_count": 50,
   "metadata": {
    "slideshow": {
     "slide_type": "subslide"
    }
   },
   "outputs": [
    {
     "name": "stdout",
     "output_type": "stream",
     "text": [
      "[1, 3, 5, 4]\n"
     ]
    }
   ],
   "source": [
    "# Remove a element from a list using pop() and specify the index position [eg: element at index position 1]\n",
    "list6.pop(1)\n",
    "print(list6)"
   ]
  },
  {
   "cell_type": "code",
   "execution_count": 53,
   "metadata": {
    "slideshow": {
     "slide_type": "subslide"
    }
   },
   "outputs": [
    {
     "name": "stdout",
     "output_type": "stream",
     "text": [
      "[1, 3, 5]\n"
     ]
    }
   ],
   "source": [
    "# Remove a element from a list using del() \n",
    "del list6[3]\n",
    "print(list6)"
   ]
  },
  {
   "cell_type": "code",
   "execution_count": 57,
   "metadata": {
    "slideshow": {
     "slide_type": "subslide"
    }
   },
   "outputs": [
    {
     "name": "stdout",
     "output_type": "stream",
     "text": [
      "[1, 2, 3, 5, 7]\n"
     ]
    }
   ],
   "source": [
    "list6.insert(1, 2)\n",
    "print(list6)"
   ]
  },
  {
   "cell_type": "code",
   "execution_count": 60,
   "metadata": {
    "slideshow": {
     "slide_type": "subslide"
    }
   },
   "outputs": [
    {
     "name": "stdout",
     "output_type": "stream",
     "text": [
      "[1, 2, 3, 4, 5, 7, 8, 8, 8, 8, 7]\n"
     ]
    }
   ],
   "source": [
    "list6.insert(4, 8)\n",
    "list6.insert(3, 4)\n",
    "list6.insert(5, 7)\n",
    "list6.insert(6, 8)\n",
    "print(list6)\n",
    "\n",
    "#3 - defines the position where it will be added\n",
    "#4 - defines the number 4 will be added at position 3"
   ]
  },
  {
   "cell_type": "markdown",
   "metadata": {
    "slideshow": {
     "slide_type": "subslide"
    }
   },
   "source": [
    "### Important Note:\n",
    "- **insert( )** is used to insert elements at a specific position in the list.\n",
    "- **append( )** is used to add elements to the end of the list."
   ]
  },
  {
   "cell_type": "markdown",
   "metadata": {
    "slideshow": {
     "slide_type": "slide"
    }
   },
   "source": [
    "<div style=\"background-color:beige;color:beige\">\n",
    "\n",
    "<h3 style=\"padding:1em;text-align:left;color:#00008B\">Sorting a List</h3>\n",
    "\n",
    "<ul><li><span style=\"color:#00008B;font-size:16px\">\n",
    "<b>sort( )</b> - Use this function to sort a list. <br><br>\n",
    "<b>Syntax</b> - listname.sort( )<br><br>\n",
    "Note: Sorting doesn't work if your list includes a mix of numeric and string elements.\n",
    "\n",
    "</span></li></ul> <br><br>\n",
    " \n",
    "\n",
    "<br><br><br><br>\n",
    "<footer>\n",
    "<table style=\"border:none;width:100%\">\n",
    "<tr><td style= \"text-align:left;background-color:blue;color:white;font-size:80%;\"> Farah Ibrar </td><td style= \"text-align:right;background-color:blue;color:white;font-size:80%;\"> Programming in Python </td></tr></table>\n",
    "</footer>\n",
    "\n",
    "</div>"
   ]
  },
  {
   "cell_type": "code",
   "execution_count": 61,
   "metadata": {
    "slideshow": {
     "slide_type": "subslide"
    }
   },
   "outputs": [
    {
     "name": "stdout",
     "output_type": "stream",
     "text": [
      "[2, 11, 16, 24, 43, 55]\n"
     ]
    }
   ],
   "source": [
    "# By default sort() performs sorting in ascending order\n",
    "list7 = [11, 2, 43, 24, 55, 16]\n",
    "list7.sort()\n",
    "print(list7)"
   ]
  },
  {
   "cell_type": "code",
   "execution_count": 62,
   "metadata": {
    "slideshow": {
     "slide_type": "subslide"
    }
   },
   "outputs": [
    {
     "name": "stdout",
     "output_type": "stream",
     "text": [
      "[55, 43, 24, 16, 11, 2]\n"
     ]
    }
   ],
   "source": [
    "# To sort in descending order, set reverse as True\n",
    "list7.sort(reverse=True)\n",
    "print(list7)"
   ]
  },
  {
   "cell_type": "code",
   "execution_count": 63,
   "metadata": {
    "slideshow": {
     "slide_type": "subslide"
    }
   },
   "outputs": [
    {
     "name": "stdout",
     "output_type": "stream",
     "text": [
      "['1m', 'ax', 'ba']\n"
     ]
    }
   ],
   "source": [
    "# Sorting a list having string elements\n",
    "list8 = ['ba', 'ax', '1m']\n",
    "list8.sort()\n",
    "print(list8)"
   ]
  },
  {
   "cell_type": "code",
   "execution_count": 65,
   "metadata": {
    "slideshow": {
     "slide_type": "subslide"
    }
   },
   "outputs": [
    {
     "name": "stdout",
     "output_type": "stream",
     "text": [
      "[1.1, 2.5, 3.5, 5, 7.2, 10, 'Alice', 'Bob', 'Charlie']\n"
     ]
    }
   ],
   "source": [
    "data = [10, 3.5, 'Alice', 7.2, 'Bob', 1.1, 5, 'Charlie', 2.5]\n",
    "\n",
    "# Sort the list\n",
    "sorted_data = sorted(data, key=lambda x: (isinstance(x, str), x))\n",
    "\n",
    "# Print sorted list\n",
    "print(sorted_data)"
   ]
  },
  {
   "cell_type": "markdown",
   "metadata": {
    "slideshow": {
     "slide_type": "subslide"
    }
   },
   "source": [
    "The key function lambda x: (isinstance(x, str), x) is used to create a tuple for each element x in the list:\n",
    "\n",
    "- isinstance(x, str) is True if x is a string, False otherwise. This ensures that strings are sorted after numeric values.\n",
    "- x itself is used as the secondary sorting criteria. This ensures that numbers are sorted numerically.\n",
    "\n",
    "A **tuple** is an ordered collection of elements, similar to a list"
   ]
  },
  {
   "cell_type": "markdown",
   "metadata": {
    "slideshow": {
     "slide_type": "slide"
    }
   },
   "source": [
    "<div style=\"background-color:beige;color:beige\">\n",
    "\n",
    "<h3 style=\"padding:1em;text-align:left;color:#00008B\">List Comprehension</h3>\n",
    "\n",
    "<ul><li><span style=\"color:#00008B;font-size:16px\">\n",
    "Loop over a sequence and create a new list. <br><br>\n",
    "Shorter and better alternative than using traditional loops (like, for) in Python.<br><br>\n",
    "\n",
    "</span></li></ul> <br><br>\n",
    " \n",
    "\n",
    "<br><br><br><br>\n",
    "<footer>\n",
    "<table style=\"border:none;width:100%\">\n",
    "<tr><td style= \"text-align:left;background-color:blue;color:white;font-size:80%;\"> Farah Ibrar </td><td style= \"text-align:right;background-color:blue;color:white;font-size:80%;\"> Programming in Python </td></tr></table>\n",
    "</footer>\n",
    "\n",
    "</div>"
   ]
  },
  {
   "cell_type": "markdown",
   "metadata": {
    "slideshow": {
     "slide_type": "slide"
    }
   },
   "source": [
    "<div style=\"background-color:beige;color:beige\">\n",
    "\n",
    "<h3 style=\"padding:1em;text-align:left;color:#00008B\">List Comprehension</h3>\n",
    "\n",
    "<ul><li><span style=\"color:#00008B;font-size:16px\">\n",
    "List comprehensions are often preferred because they are more concise and readable compared to traditional for loops. They can also be faster in some cases.<br><br>\n",
    "\n",
    "The basic syntax of a list comprehension is: [expression **for** item **in** iterable]\n",
    "Where:\n",
    "\n",
    "- expression is the operation you want to perform on each item in the iterable,\n",
    "- item is the variable representing each item in the iterable,\n",
    "- iterable is the original iterable object. <br><br>\n",
    "\n",
    "\n",
    "\n",
    "</span></li></ul> <br><br>\n",
    " \n",
    "\n",
    "<br><br><br><br>\n",
    "<footer>\n",
    "<table style=\"border:none;width:100%\">\n",
    "<tr><td style= \"text-align:left;background-color:blue;color:white;font-size:80%;\"> Farah Ibrar </td><td style= \"text-align:right;background-color:blue;color:white;font-size:80%;\"> Programming in Python </td></tr></table>\n",
    "</footer>\n",
    "\n",
    "</div>"
   ]
  },
  {
   "cell_type": "code",
   "execution_count": 66,
   "metadata": {
    "slideshow": {
     "slide_type": "subslide"
    }
   },
   "outputs": [
    {
     "data": {
      "text/plain": [
       "[1, 4, 9, 16]"
      ]
     },
     "execution_count": 66,
     "metadata": {},
     "output_type": "execute_result"
    }
   ],
   "source": [
    "# Calculating square values of elements in a list using a for loop\n",
    "# ** used for squaring\n",
    "\n",
    "object16 = [1, 2, 3, 4]\n",
    "square_object16 = []\n",
    "for x in object16:\n",
    "    square_object16.append(x**2)\n",
    "square_object16"
   ]
  },
  {
   "cell_type": "markdown",
   "metadata": {
    "slideshow": {
     "slide_type": "subslide"
    }
   },
   "source": [
    "1. **object16** = [1, 2, 3, 4]: This is the original list containing the numbers [1, 2, 3, 4].\n",
    "\n",
    "2. **square_object16** = []: This initializes an empty list square_object16 where we will store the squared numbers.\n",
    "\n",
    "3. **for x in object16:**: This starts a for loop that iterates over each element x in the list object16.\n",
    "\n",
    "4. **square_object16.append(x**2)**: Inside the loop, each number x is squared (x**2) and the result is added to the square_object16 list using the append() method.\n",
    "\n",
    "5. **square_object16**: Finally, when the loop is done, square_object16 contains [1, 4, 9, 16], which are the squares of [1, 2, 3, 4]."
   ]
  },
  {
   "cell_type": "code",
   "execution_count": 67,
   "metadata": {
    "slideshow": {
     "slide_type": "subslide"
    }
   },
   "outputs": [
    {
     "data": {
      "text/plain": [
       "[1, 4, 9, 16]"
      ]
     },
     "execution_count": 67,
     "metadata": {},
     "output_type": "execute_result"
    }
   ],
   "source": [
    "# Calculating square values of elements using list comprehension\n",
    "object17 = [1, 2, 3, 4]\n",
    "square_object17 = [x**2 for x in object17]\n",
    "square_object17\n",
    "\n",
    "# you can also use pow() from math module, for calculating square values or a value to any power."
   ]
  },
  {
   "cell_type": "markdown",
   "metadata": {
    "slideshow": {
     "slide_type": "subslide"
    }
   },
   "source": [
    "1. **object17** = [1, 2, 3, 4]: This is the original list containing the numbers [1, 2, 3, 4].\n",
    "\n",
    "2. **square_object17** = [x**2 for x in object17]: This line uses a list comprehension to create a new list square_object17 where each element is the square of the corresponding element in object17.\n",
    "\n",
    "- [x**2 for x in object17]: This is the list comprehension syntax.\n",
    "- x**2 is the expression that calculates the square of x.\n",
    "- for x in object17 iterates over each element x in object17.\n",
    "So, this line essentially says: \"For each x in object17, calculate x**2 and create a new list with these values.\"\n",
    "\n",
    "3. **square_object17**: Finally, square_object17 contains [1, 4, 9, 16], which are the squares of [1, 2, 3, 4]."
   ]
  },
  {
   "cell_type": "code",
   "execution_count": 86,
   "metadata": {
    "slideshow": {
     "slide_type": "subslide"
    }
   },
   "outputs": [
    {
     "data": {
      "text/plain": [
       "[1.0, 4.0, 9.0, 16.0]"
      ]
     },
     "execution_count": 86,
     "metadata": {},
     "output_type": "execute_result"
    }
   ],
   "source": [
    "import math\n",
    "\n",
    "object18 = [1, 2, 3, 4]\n",
    "square_object18 = [math.pow(x, 2) for x in object18]\n",
    "square_object18 \n",
    "# Output: [1.0, 4.0, 9.0, 16.0]"
   ]
  },
  {
   "cell_type": "markdown",
   "metadata": {
    "slideshow": {
     "slide_type": "subslide"
    }
   },
   "source": [
    "- import math imports the math module, which provides mathematical functions.\n",
    "- math.pow(x, 2) calculates x raised to the power of 2 (which is the square of x)."
   ]
  },
  {
   "cell_type": "markdown",
   "metadata": {
    "slideshow": {
     "slide_type": "slide"
    }
   },
   "source": [
    "<div style=\"background-color:beige;color:beige\">\n",
    "\n",
    "<h2 style=\"padding:1em;text-align:left;color:#00008B\">Tupple</h2>\n",
    "\n",
    "<ul><li><span style=\"color:#00008B;font-size:20px\">\n",
    "Stores heterogenous data items - numeric, string (within quotes), or other data structures. <br><br>\n",
    "They are immutable, i.e., elements cannot be changed after creation. <br><br>\n",
    "To create a tupple, elements are specified within (). <br>\n",
    "<b>Syntax:</b> Object_Name = (item1, item2, item3) <br><br>\n",
    "A tupple can also be created without parentheses, by using commas. <br>\n",
    "<b>Syntax:</b> Object_Name = item1, item2, item3 <br><br>\n",
    "Faster than Lists. <br><br>\n",
    "\n",
    "</span></li></ul> <br><br>\n",
    " \n",
    "<footer>\n",
    "<table style=\"border:none;width:100%\">\n",
    "<tr><td style= \"text-align:left;background-color:blue;color:white;font-size:80%;\"> Farah Ibrar </td><td style= \"text-align:right;background-color:blue;color:white;font-size:80%;\"> Programming in Python </td></tr></table>\n",
    "</footer>\n",
    "\n",
    "</div>"
   ]
  },
  {
   "cell_type": "code",
   "execution_count": 69,
   "metadata": {
    "slideshow": {
     "slide_type": "subslide"
    }
   },
   "outputs": [
    {
     "name": "stdout",
     "output_type": "stream",
     "text": [
      "(1, 2, 3)\n"
     ]
    }
   ],
   "source": [
    "# Creating a tuple with parentheses\n",
    "tuple1 = (1, 2, 3)\n",
    "print(tuple1)"
   ]
  },
  {
   "cell_type": "code",
   "execution_count": 70,
   "metadata": {
    "slideshow": {
     "slide_type": "subslide"
    }
   },
   "outputs": [
    {
     "name": "stdout",
     "output_type": "stream",
     "text": [
      "(1, 2, 3)\n"
     ]
    }
   ],
   "source": [
    "# Creating a tuple without parentheses\n",
    "tuple2 = 1, 2, 3\n",
    "print(tuple2)"
   ]
  },
  {
   "cell_type": "code",
   "execution_count": 71,
   "metadata": {
    "slideshow": {
     "slide_type": "subslide"
    }
   },
   "outputs": [
    {
     "name": "stdout",
     "output_type": "stream",
     "text": [
      "(1, 2, 3, 4, 5, 6)\n",
      "3\n"
     ]
    }
   ],
   "source": [
    "# Accessing elements in a tuple\n",
    "tuple3 = (1, 2, 3, 4, 5, 6)\n",
    "print(tuple3)\n",
    "\n",
    "# Accessing the third element [this is at index position 2]\n",
    "print(tuple3[2])"
   ]
  },
  {
   "cell_type": "code",
   "execution_count": 72,
   "metadata": {
    "slideshow": {
     "slide_type": "subslide"
    }
   },
   "outputs": [
    {
     "name": "stdout",
     "output_type": "stream",
     "text": [
      "(1, 2, 3, 4)\n"
     ]
    }
   ],
   "source": [
    "# Slicing to access the first four element\n",
    "print(tuple3[0:4])"
   ]
  },
  {
   "cell_type": "code",
   "execution_count": 73,
   "metadata": {
    "slideshow": {
     "slide_type": "subslide"
    }
   },
   "outputs": [
    {
     "name": "stdout",
     "output_type": "stream",
     "text": [
      "(1, 2, 3, 4, 5, 6, 11, 12, 'Python')\n"
     ]
    }
   ],
   "source": [
    "# Concatenate two tuples using + symbol\n",
    "tuple4 = (11, 12, 'Python')\n",
    "new_tuple = tuple3 + tuple4\n",
    "print(new_tuple)"
   ]
  },
  {
   "cell_type": "code",
   "execution_count": 74,
   "metadata": {
    "slideshow": {
     "slide_type": "subslide"
    }
   },
   "outputs": [
    {
     "name": "stdout",
     "output_type": "stream",
     "text": [
      "9\n"
     ]
    }
   ],
   "source": [
    "# Use the len() function to find the length or how many elements are there in a tuple\n",
    "print(len(new_tuple))"
   ]
  },
  {
   "cell_type": "markdown",
   "metadata": {
    "slideshow": {
     "slide_type": "slide"
    }
   },
   "source": [
    "<div style=\"background-color:beige;color:beige\">\n",
    "\n",
    "<h1 style=\"padding:1em;text-align:center;color:#00008B\">EXERCISE</h1>\n",
    "\n",
    "<ul><li><span style=\"color:#00008B;font-size:20px\">\n",
    "    \n",
    "Write python code(s) to perform the tasks as you did for List exercise, but instead of a list, use a tuple. Are you able to perform all the tasks? If not, why?<br><br>\n",
    "\n",
    "</span></li></ul>\n",
    "    \n",
    "<footer>\n",
    "<table style=\"border:none;width:100%\">\n",
    "<tr><td style= \"text-align:left;background-color:blue;color:white;font-size:80%;\"> Farah Ibrar </td><td style= \"text-align:right;background-color:blue;color:white;font-size:80%;\"> Programming in Python </td></tr></table>\n",
    "</footer>\n",
    "\n",
    "</div>"
   ]
  },
  {
   "cell_type": "code",
   "execution_count": 75,
   "metadata": {
    "slideshow": {
     "slide_type": "subslide"
    }
   },
   "outputs": [
    {
     "name": "stdout",
     "output_type": "stream",
     "text": [
      "1\n",
      "(2, 3)\n"
     ]
    }
   ],
   "source": [
    "# Creating a tuple\n",
    "F_tuple = (1, 2, 3, 4, 5)\n",
    "\n",
    "# Accessing elements of a tuple\n",
    "print(F_tuple[0])  # Output: 1\n",
    "print(F_tuple[1:3])  # Output: (2, 3)"
   ]
  },
  {
   "cell_type": "code",
   "execution_count": 78,
   "metadata": {
    "slideshow": {
     "slide_type": "subslide"
    }
   },
   "outputs": [
    {
     "name": "stdout",
     "output_type": "stream",
     "text": [
      "1\n",
      "2\n",
      "3\n",
      "4\n",
      "5\n"
     ]
    }
   ],
   "source": [
    "# Iterating through a tuple\n",
    "for item in F_tuple:\n",
    "    print(item)\n",
    "    \n",
    "    #Output: 1 2 3 4 5 "
   ]
  },
  {
   "cell_type": "code",
   "execution_count": 79,
   "metadata": {
    "slideshow": {
     "slide_type": "subslide"
    }
   },
   "outputs": [
    {
     "name": "stdout",
     "output_type": "stream",
     "text": [
      "(1, 2, 3, 4, 5, 6)\n"
     ]
    }
   ],
   "source": [
    "# Concatenating tuples\n",
    "tuple_M = (1, 2, 3)\n",
    "tuple_N = (4, 5, 6)\n",
    "tuple_concatenated = tuple_M + tuple_N\n",
    "print(tuple_concatenated)  # Output: (1, 2, 3, 4, 5, 6)"
   ]
  },
  {
   "cell_type": "code",
   "execution_count": 81,
   "metadata": {
    "slideshow": {
     "slide_type": "subslide"
    }
   },
   "outputs": [
    {
     "name": "stdout",
     "output_type": "stream",
     "text": [
      "Found\n"
     ]
    }
   ],
   "source": [
    "# Checking membership in a tuple\n",
    "if 3 in F_tuple:\n",
    "    print(\"Found\")\n",
    "else:\n",
    "    print(\"Not found\")\n",
    "# Output: Found"
   ]
  },
  {
   "cell_type": "code",
   "execution_count": 85,
   "metadata": {
    "slideshow": {
     "slide_type": "subslide"
    }
   },
   "outputs": [
    {
     "name": "stdout",
     "output_type": "stream",
     "text": [
      "5\n",
      "1\n",
      "2\n",
      "(2, 3, 4)\n"
     ]
    }
   ],
   "source": [
    "# Finding length of a tuple\n",
    "print(len(F_tuple))  # Output: 5\n",
    "\n",
    "# Counting occurrences of an element in a tuple\n",
    "count = F_tuple.count(3)\n",
    "print(count)  # Output: 1\n",
    "\n",
    "# Finding index of an element in a tuple\n",
    "index = F_tuple.index(3)\n",
    "print(index)  # Output: 2\n",
    "\n",
    "# Slicing tuples\n",
    "slice_tuple = F_tuple[1:4]\n",
    "print(slice_tuple)  # Output: (2, 3, 4)"
   ]
  },
  {
   "cell_type": "markdown",
   "metadata": {
    "slideshow": {
     "slide_type": "subslide"
    }
   },
   "source": [
    "#### Appending or Removing Elements:\n",
    "- Tuples do not have methods like append() or remove() because these would modify the tuple, which is not allowed.\n",
    "\n",
    "#### Sorting:\n",
    "- Tuples cannot be sorted in place. You can use the sorted() function to get a sorted list of tuple elements.\n",
    "\n",
    "#### Modifying Elements:\n",
    "- You cannot change the elements of a tuple once it's created.\n",
    "\n",
    "If your tasks involve operations that modify the tuple (like appending elements), then you won't be able to perform those specific tasks. Otherwise, for tasks that involve accessing, iterating, counting, and finding elements in a tuple, you can perform those operations just as you would with a list."
   ]
  },
  {
   "cell_type": "markdown",
   "metadata": {
    "slideshow": {
     "slide_type": "slide"
    }
   },
   "source": [
    "<div style=\"background-color:beige;color:beige\">\n",
    "\n",
    "<h2 style=\"padding:1em;text-align:left;color:#00008B\">Dictionary</h2>\n",
    "\n",
    "<ul><li><span style=\"color:#00008B;font-size:20px\">\n",
    "A collection data type that stores key-value pairs (sequence of items). <br><br>\n",
    "It is an unordered, mutable, and indexed collection.<br><br>\n",
    "Each item is made of a key and its corresponding value. <br><br>\n",
    "To create a dictonary, key and its value are specified within {}, seperated by a \":\". Each key-value pair is seprated by a \",\". <br>\n",
    "<b>Syntax:</b> Object_Name = {key1:item1, key2:item2, key3:item3} <br><br>\n",
    "Keys are unique and can't be duplicated. <br><br>\n",
    "</span></li></ul> <br><br>\n",
    " \n",
    "<footer>\n",
    "<table style=\"border:none;width:100%\">\n",
    "<tr><td style= \"text-align:left;background-color:blue;color:white;font-size:80%;\"> Farah Ibrar </td><td style= \"text-align:right;background-color:blue;color:white;font-size:80%;\"> Programming in Python </td></tr></table>\n",
    "</footer>\n",
    "\n",
    "</div>"
   ]
  },
  {
   "cell_type": "markdown",
   "metadata": {
    "slideshow": {
     "slide_type": "subslide"
    }
   },
   "source": [
    "<div style=\"background-color:beige;color:beige\">\n",
    "\n",
    "<h2 style=\"padding:1em;text-align:left;color:#00008B\">Dictionary</h2>\n",
    "\n",
    "<ul><li><span style=\"color:#00008B;font-size:20px\">\n",
    "<b>Unordered:</b> <br>\n",
    "The elements in a dictionary are not stored in a specific order. As of Python 3.7, dictionaries maintain the insertion order, but this is considered an implementation detail rather than a guarantee. <br><br>\n",
    "<b>Mutable:</b> <br>\n",
    "Dictionaries can be changed after they are created. You can add, remove, and modify key-value pairs.<br><br>\n",
    "<b>Indexed by Keys:</b> <br>\n",
    "Each element in a dictionary is a key-value pair. Keys are unique within a dictionary, and they are used to access the corresponding values.<br><br>\n",
    "<b>Efficient:</b> <br>\n",
    "Dictionaries provide fast lookups, insertions, and deletions because they are implemented using hash tables.\n",
    "</span></li></ul> <br><br>\n",
    " \n",
    "<footer>\n",
    "<table style=\"border:none;width:100%\">\n",
    "<tr><td style= \"text-align:left;background-color:blue;color:white;font-size:80%;\"> Farah Ibrar </td><td style= \"text-align:right;background-color:blue;color:white;font-size:80%;\"> Programming in Python </td></tr></table>\n",
    "</footer>\n",
    "\n",
    "</div>"
   ]
  },
  {
   "cell_type": "code",
   "execution_count": 8,
   "metadata": {
    "slideshow": {
     "slide_type": "subslide"
    }
   },
   "outputs": [],
   "source": [
    "#starts at position 1 rather than 0 in dictionary"
   ]
  },
  {
   "cell_type": "code",
   "execution_count": 87,
   "metadata": {
    "slideshow": {
     "slide_type": "subslide"
    }
   },
   "outputs": [
    {
     "name": "stdout",
     "output_type": "stream",
     "text": [
      "{1: 'Farah', 2: 'Python', 3: 'Anaconda'}\n",
      "dict_items([(1, 'Farah'), (2, 'Python'), (3, 'Anaconda')])\n",
      "dict_keys([1, 2, 3])\n",
      "dict_values(['Farah', 'Python', 'Anaconda'])\n",
      "Anaconda\n",
      "{1: 'Farah', 2: 'Python', 3: 'Anaconda', 4: 'Test'}\n"
     ]
    }
   ],
   "source": [
    "# Creating a dictionary\n",
    "dict1 = {1:\"Farah\", 2:\"Python\", 3:\"Anaconda\"}\n",
    "print(dict1) \n",
    "\n",
    "# List all the items in a dictionary as key-value pair\n",
    "print(dict1.items()) \n",
    "\n",
    "# Get the keys in a dictionary\n",
    "print(dict1.keys()) \n",
    "\n",
    "# Get the values in a dictionary\n",
    "print(dict1.values()) \n",
    "\n",
    "# Access a particular value\n",
    "print(dict1[3]) \n",
    "\n",
    "# Add a new key-value pair\n",
    "dict1[4]=\"Test\"\n",
    "print(dict1)"
   ]
  },
  {
   "cell_type": "code",
   "execution_count": 88,
   "metadata": {
    "slideshow": {
     "slide_type": "subslide"
    }
   },
   "outputs": [
    {
     "name": "stdout",
     "output_type": "stream",
     "text": [
      "{1: 'Farah', 2: 'Python', 3: 'Anaconda', 4: 'Test'}\n"
     ]
    }
   ],
   "source": [
    "# Add a new key-value pair\n",
    "dict1[4]=\"Test\"\n",
    "print(dict1)"
   ]
  },
  {
   "cell_type": "code",
   "execution_count": 90,
   "metadata": {
    "collapsed": true,
    "slideshow": {
     "slide_type": "subslide"
    }
   },
   "outputs": [
    {
     "name": "stdout",
     "output_type": "stream",
     "text": [
      "Help on class dict in module builtins:\n",
      "\n",
      "class dict(object)\n",
      " |  dict() -> new empty dictionary\n",
      " |  dict(mapping) -> new dictionary initialized from a mapping object's\n",
      " |      (key, value) pairs\n",
      " |  dict(iterable) -> new dictionary initialized as if via:\n",
      " |      d = {}\n",
      " |      for k, v in iterable:\n",
      " |          d[k] = v\n",
      " |  dict(**kwargs) -> new dictionary initialized with the name=value pairs\n",
      " |      in the keyword argument list.  For example:  dict(one=1, two=2)\n",
      " |  \n",
      " |  Built-in subclasses:\n",
      " |      StgDict\n",
      " |  \n",
      " |  Methods defined here:\n",
      " |  \n",
      " |  __contains__(self, key, /)\n",
      " |      True if the dictionary has the specified key, else False.\n",
      " |  \n",
      " |  __delitem__(self, key, /)\n",
      " |      Delete self[key].\n",
      " |  \n",
      " |  __eq__(self, value, /)\n",
      " |      Return self==value.\n",
      " |  \n",
      " |  __ge__(self, value, /)\n",
      " |      Return self>=value.\n",
      " |  \n",
      " |  __getattribute__(self, name, /)\n",
      " |      Return getattr(self, name).\n",
      " |  \n",
      " |  __getitem__(...)\n",
      " |      x.__getitem__(y) <==> x[y]\n",
      " |  \n",
      " |  __gt__(self, value, /)\n",
      " |      Return self>value.\n",
      " |  \n",
      " |  __init__(self, /, *args, **kwargs)\n",
      " |      Initialize self.  See help(type(self)) for accurate signature.\n",
      " |  \n",
      " |  __ior__(self, value, /)\n",
      " |      Return self|=value.\n",
      " |  \n",
      " |  __iter__(self, /)\n",
      " |      Implement iter(self).\n",
      " |  \n",
      " |  __le__(self, value, /)\n",
      " |      Return self<=value.\n",
      " |  \n",
      " |  __len__(self, /)\n",
      " |      Return len(self).\n",
      " |  \n",
      " |  __lt__(self, value, /)\n",
      " |      Return self<value.\n",
      " |  \n",
      " |  __ne__(self, value, /)\n",
      " |      Return self!=value.\n",
      " |  \n",
      " |  __or__(self, value, /)\n",
      " |      Return self|value.\n",
      " |  \n",
      " |  __repr__(self, /)\n",
      " |      Return repr(self).\n",
      " |  \n",
      " |  __reversed__(self, /)\n",
      " |      Return a reverse iterator over the dict keys.\n",
      " |  \n",
      " |  __ror__(self, value, /)\n",
      " |      Return value|self.\n",
      " |  \n",
      " |  __setitem__(self, key, value, /)\n",
      " |      Set self[key] to value.\n",
      " |  \n",
      " |  __sizeof__(...)\n",
      " |      D.__sizeof__() -> size of D in memory, in bytes\n",
      " |  \n",
      " |  clear(...)\n",
      " |      D.clear() -> None.  Remove all items from D.\n",
      " |  \n",
      " |  copy(...)\n",
      " |      D.copy() -> a shallow copy of D\n",
      " |  \n",
      " |  get(self, key, default=None, /)\n",
      " |      Return the value for key if key is in the dictionary, else default.\n",
      " |  \n",
      " |  items(...)\n",
      " |      D.items() -> a set-like object providing a view on D's items\n",
      " |  \n",
      " |  keys(...)\n",
      " |      D.keys() -> a set-like object providing a view on D's keys\n",
      " |  \n",
      " |  pop(...)\n",
      " |      D.pop(k[,d]) -> v, remove specified key and return the corresponding value.\n",
      " |      \n",
      " |      If the key is not found, return the default if given; otherwise,\n",
      " |      raise a KeyError.\n",
      " |  \n",
      " |  popitem(self, /)\n",
      " |      Remove and return a (key, value) pair as a 2-tuple.\n",
      " |      \n",
      " |      Pairs are returned in LIFO (last-in, first-out) order.\n",
      " |      Raises KeyError if the dict is empty.\n",
      " |  \n",
      " |  setdefault(self, key, default=None, /)\n",
      " |      Insert key with a value of default if key is not in the dictionary.\n",
      " |      \n",
      " |      Return the value for key if key is in the dictionary, else default.\n",
      " |  \n",
      " |  update(...)\n",
      " |      D.update([E, ]**F) -> None.  Update D from dict/iterable E and F.\n",
      " |      If E is present and has a .keys() method, then does:  for k in E: D[k] = E[k]\n",
      " |      If E is present and lacks a .keys() method, then does:  for k, v in E: D[k] = v\n",
      " |      In either case, this is followed by: for k in F:  D[k] = F[k]\n",
      " |  \n",
      " |  values(...)\n",
      " |      D.values() -> an object providing a view on D's values\n",
      " |  \n",
      " |  ----------------------------------------------------------------------\n",
      " |  Class methods defined here:\n",
      " |  \n",
      " |  __class_getitem__(...) from builtins.type\n",
      " |      See PEP 585\n",
      " |  \n",
      " |  fromkeys(iterable, value=None, /) from builtins.type\n",
      " |      Create a new dictionary with keys from iterable and values set to value.\n",
      " |  \n",
      " |  ----------------------------------------------------------------------\n",
      " |  Static methods defined here:\n",
      " |  \n",
      " |  __new__(*args, **kwargs) from builtins.type\n",
      " |      Create and return a new object.  See help(type) for accurate signature.\n",
      " |  \n",
      " |  ----------------------------------------------------------------------\n",
      " |  Data and other attributes defined here:\n",
      " |  \n",
      " |  __hash__ = None\n",
      "\n"
     ]
    }
   ],
   "source": [
    "# Use the help to check for other methods which can be used for dictionary\n",
    "help(dict)"
   ]
  },
  {
   "cell_type": "code",
   "execution_count": 91,
   "metadata": {
    "slideshow": {
     "slide_type": "subslide"
    }
   },
   "outputs": [
    {
     "data": {
      "text/plain": [
       "{'name': 'Umar', 'age': 12, 'city': 'Manchester'}"
      ]
     },
     "execution_count": 91,
     "metadata": {},
     "output_type": "execute_result"
    }
   ],
   "source": [
    "# Using curly braces\n",
    "my_dict = {\"name\": \"Umar\", \"age\": 12, \"city\": \"Manchester\"}\n",
    "\n",
    "# Using the dict() function\n",
    "my_dict = dict(name=\"Umar\", age=12, city=\"Manchester\")\n",
    "my_dict #Output: {'name': 'Umar', 'age': 12, 'city': 'Manchester'}"
   ]
  },
  {
   "cell_type": "code",
   "execution_count": 94,
   "metadata": {
    "slideshow": {
     "slide_type": "subslide"
    }
   },
   "outputs": [
    {
     "name": "stdout",
     "output_type": "stream",
     "text": [
      "Umar\n",
      "Umar\n",
      "United Kingdom\n"
     ]
    }
   ],
   "source": [
    "# Accessing Elements\n",
    "print(my_dict[\"name\"])  # Output: Umar\n",
    "\n",
    "print(my_dict.get(\"name\"))  # Output: Umar\n",
    "print(my_dict.get(\"country\", \"United Kingdom\"))  # Output: United Kingdom\n",
    "\n",
    "# You can also use the get() method, which returns None or a specified default value if the key is not found."
   ]
  },
  {
   "cell_type": "code",
   "execution_count": 96,
   "metadata": {
    "slideshow": {
     "slide_type": "subslide"
    }
   },
   "outputs": [
    {
     "data": {
      "text/plain": [
       "{'name': 'Umar', 'age': 13, 'city': 'Manchester', 'country': 'USA'}"
      ]
     },
     "execution_count": 96,
     "metadata": {},
     "output_type": "execute_result"
    }
   ],
   "source": [
    "# Modifying Elements\n",
    "my_dict[\"age\"] = 13  # Modify existing key-value pair\n",
    "my_dict[\"country\"] = \"USA\"  # Add new key-value pair\n",
    "my_dict #Output: {'name': 'Umar', 'age': 13, 'city': 'Manchester', 'country': 'USA'}"
   ]
  },
  {
   "cell_type": "code",
   "execution_count": 98,
   "metadata": {
    "collapsed": true,
    "slideshow": {
     "slide_type": "subslide"
    }
   },
   "outputs": [
    {
     "ename": "KeyError",
     "evalue": "'city'",
     "output_type": "error",
     "traceback": [
      "\u001b[0;31m---------------------------------------------------------------------------\u001b[0m",
      "\u001b[0;31mKeyError\u001b[0m                                  Traceback (most recent call last)",
      "Cell \u001b[0;32mIn[98], line 4\u001b[0m\n\u001b[1;32m      1\u001b[0m \u001b[38;5;66;03m# Removing Elements\u001b[39;00m\n\u001b[1;32m      2\u001b[0m \u001b[38;5;66;03m# You can remove elements using the del statement or the pop() method.\u001b[39;00m\n\u001b[0;32m----> 4\u001b[0m \u001b[38;5;28;01mdel\u001b[39;00m my_dict[\u001b[38;5;124m\"\u001b[39m\u001b[38;5;124mcity\u001b[39m\u001b[38;5;124m\"\u001b[39m]  \u001b[38;5;66;03m# Removes the key \"city\"\u001b[39;00m\n\u001b[1;32m      5\u001b[0m \u001b[38;5;28mprint\u001b[39m(my_dict)\n\u001b[1;32m      7\u001b[0m age \u001b[38;5;241m=\u001b[39m my_dict\u001b[38;5;241m.\u001b[39mpop(\u001b[38;5;124m\"\u001b[39m\u001b[38;5;124mage\u001b[39m\u001b[38;5;124m\"\u001b[39m)  \u001b[38;5;66;03m# Removes the key \"age\" and returns its value\u001b[39;00m\n",
      "\u001b[0;31mKeyError\u001b[0m: 'city'"
     ]
    }
   ],
   "source": [
    "# Removing Elements\n",
    "# You can remove elements using the del statement or the pop() method.\n",
    "\n",
    "del my_dict[\"city\"]  # Removes the key \"city\"\n",
    "print(my_dict)\n",
    "\n",
    "age = my_dict.pop(\"age\")  # Removes the key \"age\" and returns its value\n",
    "print(age)  # Output: 13"
   ]
  },
  {
   "cell_type": "code",
   "execution_count": 100,
   "metadata": {
    "slideshow": {
     "slide_type": "subslide"
    }
   },
   "outputs": [
    {
     "name": "stdout",
     "output_type": "stream",
     "text": [
      "name\n",
      "country\n",
      "Umar\n",
      "USA\n",
      "name: Umar\n",
      "country: USA\n"
     ]
    }
   ],
   "source": [
    "# Iterating through keys\n",
    "for key in my_dict.keys():\n",
    "    print(key)\n",
    "\n",
    "# Iterating through values\n",
    "for value in my_dict.values():\n",
    "    print(value)\n",
    "\n",
    "# Iterating through key-value pairs\n",
    "for key, value in my_dict.items():\n",
    "    print(f\"{key}: {value}\")\n",
    "    \n",
    "# Output: \n",
    "# name\n",
    "# country\n",
    "# Umar\n",
    "# USA\n",
    "# name: Umar\n",
    "# country: USA"
   ]
  },
  {
   "cell_type": "markdown",
   "metadata": {
    "slideshow": {
     "slide_type": "subslide"
    }
   },
   "source": [
    "<div style=\"background-color:beige;color:beige\">\n",
    "\n",
    "<h2 style=\"padding:1em;text-align:left;color:#00008B\">Iterating Through a Dictionary</h2>\n",
    "\n",
    "<ul><li><span style=\"color:#00008B;font-size:20px\">\n",
    "<b>keys():</b> <br>\n",
    "Returns a view object containing the dictionary's keys. <br><br>\n",
    "<b>values():</b> <br>\n",
    "Returns a view object containing the dictionary's values.<br><br>\n",
    "<b>items():</b> <br>\n",
    "Returns a view object containing the dictionary's key-value pairs.<br><br>\n",
    "<b>update():</b> <br>\n",
    "Updates the dictionary with elements from another dictionary or an iterable of key-value pairs.<br><br>\n",
    "<b>clear():</b>\n",
    "Removes all elements from the dictionary.<br><br>\n",
    "    \n",
    "</span></li></ul> <br><br>\n",
    " \n",
    "<footer>\n",
    "<table style=\"border:none;width:100%\">\n",
    "<tr><td style= \"text-align:left;background-color:blue;color:white;font-size:80%;\"> Farah Ibrar </td><td style= \"text-align:right;background-color:blue;color:white;font-size:80%;\"> Programming in Python </td></tr></table>\n",
    "</footer>\n",
    "\n",
    "</div>"
   ]
  },
  {
   "cell_type": "code",
   "execution_count": 101,
   "metadata": {
    "slideshow": {
     "slide_type": "subslide"
    }
   },
   "outputs": [
    {
     "name": "stdout",
     "output_type": "stream",
     "text": [
      "Alice\n",
      "name: Alice\n",
      "age: 26\n",
      "country: USA\n"
     ]
    }
   ],
   "source": [
    "# Creating a dictionary\n",
    "person = {\"name\": \"Alice\", \"age\": 25, \"city\": \"New York\"}\n",
    "\n",
    "# Accessing elements\n",
    "print(person[\"name\"])  # Output: Alice\n",
    "\n",
    "# Modifying elements\n",
    "person[\"age\"] = 26\n",
    "person[\"country\"] = \"USA\"\n",
    "\n",
    "# Removing elements\n",
    "del person[\"city\"]\n",
    "\n",
    "# Iterating through the dictionary\n",
    "for key, value in person.items():\n",
    "    print(f\"{key}: {value}\")\n",
    "\n",
    "# Output:\n",
    "# name: Alice\n",
    "# age: 26\n",
    "# country: USA"
   ]
  },
  {
   "cell_type": "markdown",
   "metadata": {
    "slideshow": {
     "slide_type": "slide"
    }
   },
   "source": [
    "<div style=\"background-color:beige;color:beige\">\n",
    "\n",
    "<h1 style=\"padding:1em;text-align:center;color:#00008B\">EXERCISE</h1>\n",
    "\n",
    "<ul><li><span style=\"color:#00008B;font-size:20px\">\n",
    "    \n",
    "Create a dictionary to store the following protein expression values observed in a patient: protein_a - 5.686, protein_b - 11.356, protein_c - 9.875, protein_d - 45.678. Print the expression value of protein_c (from this dictionary). <br><br>\n",
    "\n",
    "</span></li></ul>\n",
    "    \n",
    "<footer>\n",
    "<table style=\"border:none;width:100%\">\n",
    "<tr><td style= \"text-align:left;background-color:blue;color:white;font-size:80%;\"> Farah Ibrar </td><td style= \"text-align:right;background-color:blue;color:white;font-size:80%;\"> Programming in Python </td></tr></table>\n",
    "</footer>\n",
    "\n",
    "</div>"
   ]
  },
  {
   "cell_type": "code",
   "execution_count": 102,
   "metadata": {
    "slideshow": {
     "slide_type": "subslide"
    }
   },
   "outputs": [
    {
     "name": "stdout",
     "output_type": "stream",
     "text": [
      "9.875\n"
     ]
    }
   ],
   "source": [
    "# Creating the dictionary with protein expression values\n",
    "protein_expression = {\"protein_a\": 5.686, \"protein_b\": 11.356, \"protein_c\": 9.875, \"protein_d\": 45.678}\n",
    "\n",
    "# Printing the expression value of protein_c\n",
    "print(protein_expression[\"protein_c\"])\n",
    "\n",
    "#Output: 9.875"
   ]
  },
  {
   "cell_type": "markdown",
   "metadata": {
    "slideshow": {
     "slide_type": "slide"
    }
   },
   "source": [
    "<div style=\"background-color:beige;color:beige\">\n",
    "\n",
    "<h2 style=\"padding:1em;text-align:left;color:#00008B\">Sets</h2>\n",
    "\n",
    "<ul><li><span style=\"color:#00008B;font-size:20px\">\n",
    "Constructed from a sequence.<br><br>\n",
    "An unordered collection of unique elements. <br><br>\n",
    "Useful for storing elements when the presence of an element matters more than the order or number of occurrences.<br><br>\n",
    "Cannot have duplicate values in a particular set. <br><br>\n",
    "They support mathematical operations like union, intersection, difference, and symmetric difference. <br><br>\n",
    "<b>Syntax:</b> Object_Name = set([item1, item2]) <br><br>\n",
    "Set operations can be performed - Union, Intersection, Difference, Subset, Superset. <br><br>\n",
    "</span></li></ul> <br><br>\n",
    " \n",
    "<footer>\n",
    "<table style=\"border:none;width:100%\">\n",
    "<tr><td style= \"text-align:left;background-color:blue;color:white;font-size:80%;\"> Farah Ibrar</td><td style= \"text-align:right;background-color:blue;color:white;font-size:80%;\"> Programming in Python </td></tr></table>\n",
    "</footer>\n",
    "\n",
    "</div>"
   ]
  },
  {
   "cell_type": "code",
   "execution_count": 103,
   "metadata": {
    "slideshow": {
     "slide_type": "subslide"
    }
   },
   "outputs": [
    {
     "name": "stdout",
     "output_type": "stream",
     "text": [
      "{1, 2, 3, 4}\n",
      "{4, 5, 6, 7, 8}\n"
     ]
    }
   ],
   "source": [
    "# Creating two sets\n",
    "set1 = set([1, 2, 3, 4])\n",
    "print(set1)\n",
    "\n",
    "set2 = set([4, 5, 6, 7, 8])\n",
    "print(set2)"
   ]
  },
  {
   "cell_type": "code",
   "execution_count": 104,
   "metadata": {
    "slideshow": {
     "slide_type": "subslide"
    }
   },
   "outputs": [
    {
     "name": "stdout",
     "output_type": "stream",
     "text": [
      "{1, 2, 3, 4, 5, 6, 7, 8}\n"
     ]
    }
   ],
   "source": [
    "# Set operation: Union\n",
    "print(set1.union(set2))"
   ]
  },
  {
   "cell_type": "code",
   "execution_count": 105,
   "metadata": {
    "slideshow": {
     "slide_type": "subslide"
    }
   },
   "outputs": [
    {
     "name": "stdout",
     "output_type": "stream",
     "text": [
      "{4}\n"
     ]
    }
   ],
   "source": [
    "# Set operation: Intersection\n",
    "print(set1.intersection(set2))"
   ]
  },
  {
   "cell_type": "code",
   "execution_count": 106,
   "metadata": {
    "slideshow": {
     "slide_type": "subslide"
    }
   },
   "outputs": [
    {
     "name": "stdout",
     "output_type": "stream",
     "text": [
      "{1, 2, 3}\n",
      "{8, 5, 6, 7}\n"
     ]
    }
   ],
   "source": [
    "# Set operation: Difference\n",
    "print(set1.difference(set2))\n",
    "print(set2.difference(set1))"
   ]
  },
  {
   "cell_type": "code",
   "execution_count": 107,
   "metadata": {
    "slideshow": {
     "slide_type": "subslide"
    }
   },
   "outputs": [
    {
     "name": "stdout",
     "output_type": "stream",
     "text": [
      "False\n"
     ]
    }
   ],
   "source": [
    "# Set operation: Subset\n",
    "print(set1.issubset(set2))"
   ]
  },
  {
   "cell_type": "code",
   "execution_count": 108,
   "metadata": {
    "slideshow": {
     "slide_type": "subslide"
    }
   },
   "outputs": [
    {
     "name": "stdout",
     "output_type": "stream",
     "text": [
      "False\n"
     ]
    }
   ],
   "source": [
    "# Set operation: Superset\n",
    "print(set1.issuperset(set2))"
   ]
  },
  {
   "cell_type": "markdown",
   "metadata": {
    "slideshow": {
     "slide_type": "subslide"
    }
   },
   "source": [
    "<div style=\"background-color:beige;color:beige\">\n",
    "\n",
    "<h2 style=\"padding:1em;text-align:left;color:#00008B\">Key Features of Sets</h2>\n",
    "\n",
    "<ul><li><span style=\"color:#00008B;font-size:20px\">\n",
    "<b>Unordered:</b> <br>\n",
    "The elements in a set do not have a specific order. <br><br>\n",
    "<b>Unique Elements:</b> <br>\n",
    "Each element in a set must be unique. Duplicate elements are automatically removed.<br><br>\n",
    "<b>Mutable:</b> <br>\n",
    "Sets can be changed after their creation. You can add or remove elements.<br><br>\n",
    "<b>Hashable Elements:</b> <br>\n",
    "Elements in a set must be immutable (hashable), which means you can only store hashable types such as numbers, strings, and tuples (if they contain only hashable types).<br><br>\n",
    "    \n",
    "</span></li></ul> <br><br>\n",
    " \n",
    "<footer>\n",
    "<table style=\"border:none;width:100%\">\n",
    "<tr><td style= \"text-align:left;background-color:blue;color:white;font-size:80%;\"> Farah Ibrar </td><td style= \"text-align:right;background-color:blue;color:white;font-size:80%;\"> Programming in Python </td></tr></table>\n",
    "</footer>\n",
    "\n",
    "</div>"
   ]
  },
  {
   "cell_type": "code",
   "execution_count": 110,
   "metadata": {
    "slideshow": {
     "slide_type": "subslide"
    }
   },
   "outputs": [
    {
     "data": {
      "text/plain": [
       "{1, 2, 3, 4, 5}"
      ]
     },
     "execution_count": 110,
     "metadata": {},
     "output_type": "execute_result"
    }
   ],
   "source": [
    "# Using curly braces\n",
    "my_set = {1, 2, 3, 4, 5}\n",
    "\n",
    "# Using the set() function\n",
    "my_set = set([1, 2, 3, 4, 5])\n",
    "my_set"
   ]
  },
  {
   "cell_type": "code",
   "execution_count": 111,
   "metadata": {
    "slideshow": {
     "slide_type": "subslide"
    }
   },
   "outputs": [
    {
     "name": "stdout",
     "output_type": "stream",
     "text": [
      "{1, 2, 3, 4, 5, 6}\n"
     ]
    }
   ],
   "source": [
    "# You can add elements to a set using the add() method\n",
    "my_set.add(6)\n",
    "print(my_set)  # Output: {1, 2, 3, 4, 5, 6}"
   ]
  },
  {
   "cell_type": "code",
   "execution_count": 112,
   "metadata": {
    "slideshow": {
     "slide_type": "subslide"
    }
   },
   "outputs": [
    {
     "name": "stdout",
     "output_type": "stream",
     "text": [
      "{1, 2, 3, 4, 5}\n"
     ]
    }
   ],
   "source": [
    "# You can remove elements using the remove() method or the discard() method. \n",
    "# The remove() method will raise an error if the element is not found, while the discard() method will not.\n",
    "my_set.remove(6)\n",
    "my_set.discard(6)  # No error if 6 is not found\n",
    "print(my_set)  # Output: {1, 2, 3, 4, 5}"
   ]
  },
  {
   "cell_type": "code",
   "execution_count": 113,
   "metadata": {
    "slideshow": {
     "slide_type": "subslide"
    }
   },
   "outputs": [
    {
     "name": "stdout",
     "output_type": "stream",
     "text": [
      "{1, 2, 3, 4, 5}\n"
     ]
    }
   ],
   "source": [
    "# The union of two sets contains all elements from both sets.\n",
    "set1 = {1, 2, 3}\n",
    "set2 = {3, 4, 5}\n",
    "union_set = set1.union(set2)\n",
    "print(union_set)  # Output: {1, 2, 3, 4, 5}"
   ]
  },
  {
   "cell_type": "code",
   "execution_count": 115,
   "metadata": {
    "slideshow": {
     "slide_type": "subslide"
    }
   },
   "outputs": [
    {
     "name": "stdout",
     "output_type": "stream",
     "text": [
      "{3}\n"
     ]
    }
   ],
   "source": [
    "# The intersection of two sets contains only the elements that are present in both sets.\n",
    "intersection_set = set1.intersection(set2)\n",
    "print(intersection_set)  # Output: {3}"
   ]
  },
  {
   "cell_type": "code",
   "execution_count": 117,
   "metadata": {
    "slideshow": {
     "slide_type": "subslide"
    }
   },
   "outputs": [
    {
     "name": "stdout",
     "output_type": "stream",
     "text": [
      "{1, 2}\n"
     ]
    }
   ],
   "source": [
    "# The difference between two sets contains the elements that are in the first set but not in the second set.\n",
    "difference_set = set1.difference(set2)\n",
    "print(difference_set)  # Output: {1, 2}"
   ]
  },
  {
   "cell_type": "code",
   "execution_count": 118,
   "metadata": {
    "slideshow": {
     "slide_type": "subslide"
    }
   },
   "outputs": [
    {
     "name": "stdout",
     "output_type": "stream",
     "text": [
      "{1, 2, 4, 5}\n"
     ]
    }
   ],
   "source": [
    "# The symmetric difference contains elements that are in either of the sets but not in both.\n",
    "sym_diff_set = set1.symmetric_difference(set2)\n",
    "print(sym_diff_set)  # Output: {1, 2, 4, 5}"
   ]
  },
  {
   "cell_type": "code",
   "execution_count": 119,
   "metadata": {
    "slideshow": {
     "slide_type": "subslide"
    }
   },
   "outputs": [
    {
     "name": "stdout",
     "output_type": "stream",
     "text": [
      "Union: {1, 2, 3, 4, 5, 6, 7, 8}\n",
      "Intersection: {4, 5}\n",
      "Difference (set1 - set2): {1, 2, 3}\n",
      "Difference (set2 - set1): {8, 6, 7}\n",
      "Symmetric Difference: {1, 2, 3, 6, 7, 8}\n",
      "set1 is subset of set2: False\n",
      "{1, 2, 3} is subset of set1: True\n",
      "set1 is superset of {1, 2, 3}: True\n",
      "set1 is superset of set2: False\n"
     ]
    }
   ],
   "source": [
    "# Creating two sets\n",
    "set1 = {1, 2, 3, 4, 5}\n",
    "set2 = {4, 5, 6, 7, 8}\n",
    "\n",
    "# Union: combines all elements from both sets\n",
    "union_set = set1.union(set2)\n",
    "print(\"Union:\", union_set)\n",
    "# Output: Union: {1, 2, 3, 4, 5, 6, 7, 8}\n",
    "\n",
    "# Intersection: elements present in both sets\n",
    "intersection_set = set1.intersection(set2)\n",
    "print(\"Intersection:\", intersection_set)\n",
    "# Output: Intersection: {4, 5}\n",
    "\n",
    "# Difference: elements in set1 but not in set2\n",
    "difference_set = set1.difference(set2)\n",
    "print(\"Difference (set1 - set2):\", difference_set)\n",
    "# Output: Difference (set1 - set2): {1, 2, 3}\n",
    "\n",
    "# Difference: elements in set2 but not in set1\n",
    "difference_set2 = set2.difference(set1)\n",
    "print(\"Difference (set2 - set1):\", difference_set2)\n",
    "# Output: Difference (set2 - set1): {8, 6, 7}\n",
    "\n",
    "# Symmetric Difference: elements in either set1 or set2 but not in both\n",
    "sym_diff_set = set1.symmetric_difference(set2)\n",
    "print(\"Symmetric Difference:\", sym_diff_set)\n",
    "# Output: Symmetric Difference: {1, 2, 3, 6, 7, 8}\n",
    "\n",
    "# Subset: set1 is a subset of set2 (all elements of set1 are in set2)\n",
    "is_subset = set1.issubset(set2)\n",
    "print(\"set1 is subset of set2:\", is_subset)\n",
    "# Output: set1 is subset of set2: False\n",
    "\n",
    "# Subset: {1, 2, 3} is a subset of set1\n",
    "is_subset2 = {1, 2, 3}.issubset(set1)\n",
    "print(\"{1, 2, 3} is subset of set1:\", is_subset2)\n",
    "# Output: {1, 2, 3} is subset of set1: True\n",
    "\n",
    "# Superset: set1 is a superset of {1, 2, 3} (set1 contains all elements of {1, 2, 3})\n",
    "is_superset = set1.issuperset({1, 2, 3})\n",
    "print(\"set1 is superset of {1, 2, 3}:\", is_superset)\n",
    "# Output: set1 is superset of {1, 2, 3}: True\n",
    "\n",
    "# Superset: set1 is a superset of set2\n",
    "is_superset2 = set1.issuperset(set2)\n",
    "print(\"set1 is superset of set2:\", is_superset2)\n",
    "# Output: set1 is superset of set2: False"
   ]
  },
  {
   "cell_type": "markdown",
   "metadata": {
    "slideshow": {
     "slide_type": "subslide"
    }
   },
   "source": [
    "<div style=\"background-color:beige;color:beige\">\n",
    "\n",
    "<h1 style=\"padding:1em;text-align:center;color:#00008B\">EXERCISE</h1>\n",
    "\n",
    "<ul><li><span style=\"color:#00008B;font-size:20px\">\n",
    "\n",
    "Write python code(s) to perform the following tasks:<br>\n",
    "  <ul><li><span style=\"color:#00008B;font-size:16px\">\n",
    "   a. Create a set to store the following values: Gene_a, Gene_b, Gene_c. Create another set to store the following values: Gene_x, Gene_y, Gene_b, Gene_z.<br>\n",
    "   b. Perform the following set operations and print the output: union, intersection, difference. <br>\n",
    "</span></li></ul>\n",
    "</span></li></ul>\n",
    "    <br><br><br><br>\n",
    "<footer>\n",
    "<table style=\"border:none;width:100%\">\n",
    "<tr><td style= \"text-align:left;background-color:blue;color:white;font-size:80%;\"> Farah Ibrar </td><td style= \"text-align:right;background-color:blue;color:white;font-size:80%;\"> Programming in Python </td></tr></table>\n",
    "</footer>\n",
    "\n",
    "</div>"
   ]
  },
  {
   "cell_type": "code",
   "execution_count": 120,
   "metadata": {
    "slideshow": {
     "slide_type": "subslide"
    }
   },
   "outputs": [
    {
     "name": "stdout",
     "output_type": "stream",
     "text": [
      "Union: {'Gene_b', 'Gene_y', 'Gene_z', 'Gene_c', 'Gene_a', 'Gene_x'}\n",
      "Intersection: {'Gene_b'}\n",
      "Difference (set1 - set2): {'Gene_c', 'Gene_a'}\n",
      "Difference (set2 - set1): {'Gene_z', 'Gene_x', 'Gene_y'}\n"
     ]
    }
   ],
   "source": [
    "# a. Create sets\n",
    "set1 = {\"Gene_a\", \"Gene_b\", \"Gene_c\"}\n",
    "set2 = {\"Gene_x\", \"Gene_y\", \"Gene_b\", \"Gene_z\"}\n",
    "\n",
    "# b. Perform set operations and print the output\n",
    "\n",
    "# Union\n",
    "union_set = set1.union(set2)\n",
    "print(\"Union:\", union_set)\n",
    "\n",
    "# Intersection\n",
    "intersection_set = set1.intersection(set2)\n",
    "print(\"Intersection:\", intersection_set)\n",
    "\n",
    "# Difference (set1 - set2)\n",
    "difference_set = set1.difference(set2)\n",
    "print(\"Difference (set1 - set2):\", difference_set)\n",
    "\n",
    "# Difference (set2 - set1)\n",
    "difference_set2 = set2.difference(set1)\n",
    "print(\"Difference (set2 - set1):\", difference_set2)\n",
    "\n",
    "# Union: {'Gene_c', 'Gene_b', 'Gene_a', 'Gene_x', 'Gene_y', 'Gene_z'}\n",
    "# Intersection: {'Gene_b'}\n",
    "# Difference (set1 - set2): {'Gene_a', 'Gene_c'}\n",
    "# Difference (set2 - set1): {'Gene_x', 'Gene_z', 'Gene_y'}"
   ]
  },
  {
   "cell_type": "markdown",
   "metadata": {
    "slideshow": {
     "slide_type": "subslide"
    }
   },
   "source": [
    "#### Intersection:\n",
    "- The set of elements that are common to both sets.\n",
    "\n",
    "#### Difference (set1 - set2):\n",
    "- The set of elements that are in `set1` but not in `set2`.\n",
    "\n",
    "#### Difference (set2 - set1):\n",
    "- The set of elements that are in `set2` but not in `set1`."
   ]
  },
  {
   "cell_type": "markdown",
   "metadata": {
    "slideshow": {
     "slide_type": "slide"
    }
   },
   "source": [
    "<div style=\"background-color:beige;color:beige\">\n",
    "\n",
    "<h2 style=\"padding:1em;text-align:left;color:#00008B\">Summary</h2>\n",
    "\n",
    "<ul><li><span style=\"color:#00008B;font-size:20px\">\n",
    "Data Structures in Python - List, Tuple, Dictionary, Set. <br><br>\n",
    "List, Dictionary and Set are mutable, while Tuple is immutable.<br><br>\n",
    "<a href=\"https://docs.python.org/3/tutorial/datastructures.html#tuples-and-sequences\">Python Data Structures - Resource 1</a> <br><br>\n",
    "<a href=\"https://thomas-cokelaer.info/tutorials/python/data_structures.html#:~:text=Data%20Structures%20(list%2C%20dict%2C%20tuples%2C%20sets%2C%20strings),-There%20are%20quite&text=The%20builtins%20data%20structures%20are,contain%20any%20type%20of%20objects.\">Python Data Structures - Resource 2</a>\n",
    "</span></li>\n",
    "    </ul>\n",
    "\n",
    "<br><br><br><br>\n",
    "<footer>\n",
    "<table style=\"border:none;width:100%\">\n",
    "<tr><td style= \"text-align:left;background-color:blue;color:white;font-size:80%;\"> Farah Ibrar </td><td style= \"text-align:right;background-color:blue;color:white;font-size:80%;\"> Programming in Python </td></tr></table>\n",
    "</footer>\n",
    "\n",
    "</div>"
   ]
  }
 ],
 "metadata": {
  "celltoolbar": "Slideshow",
  "kernelspec": {
   "display_name": "Python 3 (ipykernel)",
   "language": "python",
   "name": "python3"
  },
  "language_info": {
   "codemirror_mode": {
    "name": "ipython",
    "version": 3
   },
   "file_extension": ".py",
   "mimetype": "text/x-python",
   "name": "python",
   "nbconvert_exporter": "python",
   "pygments_lexer": "ipython3",
   "version": "3.10.9"
  }
 },
 "nbformat": 4,
 "nbformat_minor": 4
}
