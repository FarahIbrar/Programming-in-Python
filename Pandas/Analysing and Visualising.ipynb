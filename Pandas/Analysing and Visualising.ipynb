{
 "cells": [
  {
   "cell_type": "markdown",
   "metadata": {
    "slideshow": {
     "slide_type": "slide"
    }
   },
   "source": [
    "<div style=\"background-color:beige;color:blue\">\n",
    "<header>\n",
    "<h1 style=\"padding:1em;text-align:center;color:#00008B\">Python programming <br><br> &nbsp;&nbsp; Pandas Library </h1> \n",
    "</header>\n",
    "<br><br><br><br><br><br>\n",
    "<footer>\n",
    "<table style=\"border:none;width:100%\">\n",
    "<tr><td style= \"text-align:left;background-color:blue;color:white;font-size:80%;\"> Farah Ibrar </td><td style= \"text-align:right;background-color:blue;color:white;font-size:80%;\"> Programming in Python </td></tr></table>\n",
    "</footer>\n",
    "\n",
    "</div>"
   ]
  },
  {
   "cell_type": "markdown",
   "metadata": {
    "slideshow": {
     "slide_type": "slide"
    }
   },
   "source": [
    "<div style=\"background-color:beige;color:beige\">\n",
    "<header>\n",
    "<h1 style=\"padding:1em;text-align:left;color:#00008B\">Outline</h1>\n",
    "</header>\n",
    "\n",
    "    \n",
    "<ul><li><span style=\"color:#00008B;font-size:24px\">What is Pandas? </span> <br><br>\n",
    "        <li><span style=\"color:#00008B; font-size:24px\">Importing Data </span> <br><br>\n",
    "        <li><span style=\"color:#00008B; font-size:24px\">Analysing Data </span><br><br>\n",
    "        <li><span style=\"color:#00008B; font-size:24px\">Visualising Data </span> \n",
    "        </li>\n",
    "       </ul>\n",
    "\n",
    "<br><br><span style=\"color:#00008B;font-size:20px\">\n",
    " <b>Note</b> - Using Python Libraries will allow you to analyse big datasets. Pandas is a must in the data science world, it is the most popular and widely used python librarie for data science along with NumPy, which is a mathematical python library.</span><br>\n",
    "<span style=\"color:#00008B;font-size:16px\">\n",
    "Other Libraries you can use for data analysis. <a href=\"https://www.simplilearn.com/top-python-libraries-for-data-science-article\">Python Libraries</a>\n",
    "    </span>\n",
    "<br><br>\n",
    "<footer>\n",
    "<table style=\"border:none;width:100%\">\n",
    "<tr><td style= \"text-align:left;background-color:blue;color:white;font-size:80%;\"> Farah Ibrar </td><td style= \"text-align:right;background-color:blue;color:white;font-size:80%;\"> Programming in Python </td></tr></table>\n",
    "</footer>\n",
    "\n",
    "</div>"
   ]
  },
  {
   "cell_type": "markdown",
   "metadata": {
    "slideshow": {
     "slide_type": "slide"
    }
   },
   "source": [
    "<div style=\"background-color:beige;color:beige\">\n",
    "\n",
    "<h2 style=\"padding:1em;text-align:left;color:#00008B\">Pandas Library</h2>\n",
    "\n",
    "<ul><li><span style=\"color:#00008B;font-size:20px\">\n",
    "Pandas can be applied in many different ways. <br><br>\n",
    "Loading and Saving Data <br><br>   \n",
    "Data Cleansing. <br><br>\n",
    "Data Inspection. <br><br>\n",
    "Data Visualisation. <br><br>\n",
    "\n",
    "<a href=\"https://pandas.pydata.org/docs/user_guide/index.html\">Pandas Documentation and User Guide</a>\n",
    "\n",
    "\n",
    "<h3 style=\"padding:1em;text-align:left;color:#00008B\">Importing Pandas</h3>\n",
    "\n",
    "import pandas as pd <br><br>\n",
    "\n",
    "</span></li></ul> <br><br>\n",
    " \n",
    "\n",
    "<br><br>\n",
    "<footer>\n",
    "<table style=\"border:none;width:100%\">\n",
    "<tr><td style= \"text-align:left;background-color:blue;color:white;font-size:80%;\"> Farah Ibrar </td><td style= \"text-align:right;background-color:blue;color:white;font-size:80%;\"> Programming in Python </td></tr></table>\n",
    "</footer>\n",
    "\n",
    "</div>"
   ]
  },
  {
   "cell_type": "markdown",
   "metadata": {
    "slideshow": {
     "slide_type": "subslide"
    }
   },
   "source": [
    "### Pandas Library in Python\n",
    "\n",
    "**What is Pandas?**\n",
    "Pandas is a powerful and easy-to-use library for data manipulation and analysis in Python. It provides data structures like DataFrames and Series, which are ideal for handling structured data.\n",
    "\n",
    "### Key Features\n",
    "- **DataFrames**: 2-dimensional labeled data structure, similar to a table in a database or an Excel spreadsheet.\n",
    "- **Series**: 1-dimensional labeled array, useful for storing data along a single column or row.\n",
    "- **Data Manipulation**: Functions for filtering, grouping, aggregating, and merging data.\n",
    "- **Data Cleaning**: Tools for handling missing data, duplicates, and transforming data.\n",
    "- **Input/Output**: Easily read and write data from/to CSV, Excel, SQL databases, and more.\n",
    "\n",
    "### When to Use Pandas?\n",
    "- **Data Analysis**: When you need to explore and analyze data, perform statistical operations, or generate summary statistics.\n",
    "- **Data Cleaning**: When you have raw data that requires cleaning and preprocessing before analysis.\n",
    "- **Data Transformation**: When you need to transform data, like merging datasets, reshaping data, or handling time series data.\n",
    "- **Data Visualization**: When you want to quickly plot data for exploratory data analysis (often used with libraries like Matplotlib or Seaborn).\n",
    "\n",
    "### When Not to Use Pandas?\n",
    "- **Large Datasets**: For extremely large datasets that do not fit into memory, consider using libraries like Dask or PySpark.\n",
    "- **Performance-Critical Applications**: When you need high-performance operations, consider using NumPy or other optimized libraries, as Pandas can be slower due to its high-level functionality.\n",
    "- **Simple Calculations**: For basic mathematical operations on small datasets, using pure Python or NumPy might be simpler and faster.\n",
    "\n",
    "### Top points\n",
    "- **Pandas**: Ideal for data manipulation, analysis, and cleaning.\n",
    "- **Use for**: Exploratory data analysis, data preprocessing, handling structured data.\n",
    "- **Avoid for**: Large-scale data processing, performance-critical tasks, simple operations."
   ]
  },
  {
   "cell_type": "code",
   "execution_count": null,
   "metadata": {
    "slideshow": {
     "slide_type": "subslide"
    }
   },
   "outputs": [],
   "source": [
    "# Try importing pandas -> code below"
   ]
  },
  {
   "cell_type": "code",
   "execution_count": 1,
   "metadata": {
    "slideshow": {
     "slide_type": "subslide"
    }
   },
   "outputs": [],
   "source": [
    "import pandas as pd"
   ]
  },
  {
   "cell_type": "markdown",
   "metadata": {
    "slideshow": {
     "slide_type": "subslide"
    }
   },
   "source": [
    "<div style=\"background-color:beige;color:beige\">\n",
    "\n",
    "<h2 style=\"padding:1em;text-align:left;color:#00008B\">Importing Data</h2>\n",
    "\n",
    "<ul><li><span style=\"color:#00008B;font-size:20px\">\n",
    "With Pandas you can import multiple types of data. <br><br>\n",
    "Such as CSV files, Excel files, SQL databases, JSON files, HTML tables, Parquet files, HDF5 files, Feather format, MessagePack, Stata files, SAS files, SPSS files, Pickle files, ORC files, BigQuery.<br><br>\n",
    "First step is identifying your file type.<br><br>   \n",
    "CSV or XLS. <br><br>\n",
    "Copy file path (shift right click). <br><br>\n",
    "Remeber to name your dataset in Jupyter. I will name mine 'data'.<br><br>\n",
    "Load your dataset: data = pd.read_csv(r'').<br><br>\n",
    "    \n",
    "How to create a Dataframe with pandas: df = pd.DataFrame(data=[define,your,data], columns = ['define', 'your','columns'], index=['define','your','indexes'])\n",
    "\n",
    "Databases for datasets:\n",
    "      <li> <a href=\"https://www.kaggle.com/datasets\">Kaggle </li> <br>\n",
    "      <li> <a href=\"https://archive.ics.uci.edu/ml/datasets/Iris\">Machine Learning Repository</a><br>\n",
    "\n",
    "</span></li></ul> <br><br>\n",
    " \n",
    "<footer>\n",
    "<table style=\"border:none;width:100%\">\n",
    "<tr><td style= \"text-align:left;background-color:blue;color:white;font-size:80%;\"> Farah Ibrar </td><td style= \"text-align:right;background-color:blue;color:white;font-size:80%;\"> Programming in Python </td></tr></table>\n",
    "</footer>\n",
    "\n",
    "</div>"
   ]
  },
  {
   "cell_type": "code",
   "execution_count": 2,
   "metadata": {
    "slideshow": {
     "slide_type": "subslide"
    }
   },
   "outputs": [],
   "source": [
    "#Importing Iris dataset - > try here\n",
    "iris_dataset = pd.read_csv(r'/Users/farah/Desktop/iris.csv')\n"
   ]
  },
  {
   "cell_type": "markdown",
   "metadata": {
    "slideshow": {
     "slide_type": "slide"
    }
   },
   "source": [
    "<div style=\"background-color:beige;color:beige\">\n",
    "\n",
    "<h1 style=\"padding:1em;text-align:center;color:#00008B\">ANALYSING DATA</h1>\n",
    "\n",
    "<ul><li><span style=\"color:#00008B;font-size:20px\">\n",
    "    \n",
    "Understanding Basic information<br>\n",
    "<ul>\n",
    "  <li>.info() - Will return basic information about the dataframe </li>\n",
    "  <li>.shape - Will return the number of rows and columns in the dataframe </li>\n",
    "  <li>.head() - Will return the first 5 rows of the dataframe</li>\n",
    "  <li>.tail() - Will return the last 5 rows of the dataframe</li>\n",
    "</ul>\n",
    "<br><br>    \n",
    "Example: data.info()\n",
    "\n",
    "</span></li></ul>\n",
    "    \n",
    "<footer>\n",
    "<table style=\"border:none;width:100%\">\n",
    "<tr><td style= \"text-align:left;background-color:blue;color:white;font-size:80%;\"> Farah Ibrar </td><td style= \"text-align:right;background-color:blue;color:white;font-size:80%;\"> Programming in Python </td></tr></table>\n",
    "</footer>\n",
    "\n",
    "</div>"
   ]
  },
  {
   "cell_type": "markdown",
   "metadata": {
    "slideshow": {
     "slide_type": "fragment"
    }
   },
   "source": [
    "### Exercise Time"
   ]
  },
  {
   "cell_type": "code",
   "execution_count": 3,
   "metadata": {
    "slideshow": {
     "slide_type": "subslide"
    }
   },
   "outputs": [
    {
     "name": "stdout",
     "output_type": "stream",
     "text": [
      "<class 'pandas.core.frame.DataFrame'>\n",
      "RangeIndex: 150 entries, 0 to 149\n",
      "Data columns (total 5 columns):\n",
      " #   Column        Non-Null Count  Dtype  \n",
      "---  ------        --------------  -----  \n",
      " 0   sepal_length  150 non-null    float64\n",
      " 1   sepal_width   150 non-null    float64\n",
      " 2   petal_length  150 non-null    float64\n",
      " 3   petal_width   150 non-null    float64\n",
      " 4   species       150 non-null    object \n",
      "dtypes: float64(4), object(1)\n",
      "memory usage: 6.0+ KB\n"
     ]
    }
   ],
   "source": [
    "# Try .info()\n",
    "iris_dataset.info()"
   ]
  },
  {
   "cell_type": "code",
   "execution_count": 4,
   "metadata": {
    "slideshow": {
     "slide_type": "subslide"
    }
   },
   "outputs": [
    {
     "data": {
      "text/plain": [
       "(150, 5)"
      ]
     },
     "execution_count": 4,
     "metadata": {},
     "output_type": "execute_result"
    }
   ],
   "source": [
    "# Try .shape\n",
    "# Rows first, then column in the output\n",
    "iris_dataset.shape"
   ]
  },
  {
   "cell_type": "code",
   "execution_count": 5,
   "metadata": {
    "slideshow": {
     "slide_type": "subslide"
    }
   },
   "outputs": [
    {
     "data": {
      "text/html": [
       "<div>\n",
       "<style scoped>\n",
       "    .dataframe tbody tr th:only-of-type {\n",
       "        vertical-align: middle;\n",
       "    }\n",
       "\n",
       "    .dataframe tbody tr th {\n",
       "        vertical-align: top;\n",
       "    }\n",
       "\n",
       "    .dataframe thead th {\n",
       "        text-align: right;\n",
       "    }\n",
       "</style>\n",
       "<table border=\"1\" class=\"dataframe\">\n",
       "  <thead>\n",
       "    <tr style=\"text-align: right;\">\n",
       "      <th></th>\n",
       "      <th>sepal_length</th>\n",
       "      <th>sepal_width</th>\n",
       "      <th>petal_length</th>\n",
       "      <th>petal_width</th>\n",
       "      <th>species</th>\n",
       "    </tr>\n",
       "  </thead>\n",
       "  <tbody>\n",
       "    <tr>\n",
       "      <th>0</th>\n",
       "      <td>5.1</td>\n",
       "      <td>3.5</td>\n",
       "      <td>1.4</td>\n",
       "      <td>0.2</td>\n",
       "      <td>setosa</td>\n",
       "    </tr>\n",
       "    <tr>\n",
       "      <th>1</th>\n",
       "      <td>4.9</td>\n",
       "      <td>3.0</td>\n",
       "      <td>1.4</td>\n",
       "      <td>0.2</td>\n",
       "      <td>setosa</td>\n",
       "    </tr>\n",
       "    <tr>\n",
       "      <th>2</th>\n",
       "      <td>4.7</td>\n",
       "      <td>3.2</td>\n",
       "      <td>1.3</td>\n",
       "      <td>0.2</td>\n",
       "      <td>setosa</td>\n",
       "    </tr>\n",
       "    <tr>\n",
       "      <th>3</th>\n",
       "      <td>4.6</td>\n",
       "      <td>3.1</td>\n",
       "      <td>1.5</td>\n",
       "      <td>0.2</td>\n",
       "      <td>setosa</td>\n",
       "    </tr>\n",
       "    <tr>\n",
       "      <th>4</th>\n",
       "      <td>5.0</td>\n",
       "      <td>3.6</td>\n",
       "      <td>1.4</td>\n",
       "      <td>0.2</td>\n",
       "      <td>setosa</td>\n",
       "    </tr>\n",
       "  </tbody>\n",
       "</table>\n",
       "</div>"
      ],
      "text/plain": [
       "   sepal_length  sepal_width  petal_length  petal_width species\n",
       "0           5.1          3.5           1.4          0.2  setosa\n",
       "1           4.9          3.0           1.4          0.2  setosa\n",
       "2           4.7          3.2           1.3          0.2  setosa\n",
       "3           4.6          3.1           1.5          0.2  setosa\n",
       "4           5.0          3.6           1.4          0.2  setosa"
      ]
     },
     "execution_count": 5,
     "metadata": {},
     "output_type": "execute_result"
    }
   ],
   "source": [
    "# Try .head()\n",
    "\n",
    "iris_dataset.head()"
   ]
  },
  {
   "cell_type": "code",
   "execution_count": 6,
   "metadata": {
    "slideshow": {
     "slide_type": "subslide"
    }
   },
   "outputs": [
    {
     "data": {
      "text/html": [
       "<div>\n",
       "<style scoped>\n",
       "    .dataframe tbody tr th:only-of-type {\n",
       "        vertical-align: middle;\n",
       "    }\n",
       "\n",
       "    .dataframe tbody tr th {\n",
       "        vertical-align: top;\n",
       "    }\n",
       "\n",
       "    .dataframe thead th {\n",
       "        text-align: right;\n",
       "    }\n",
       "</style>\n",
       "<table border=\"1\" class=\"dataframe\">\n",
       "  <thead>\n",
       "    <tr style=\"text-align: right;\">\n",
       "      <th></th>\n",
       "      <th>sepal_length</th>\n",
       "      <th>sepal_width</th>\n",
       "      <th>petal_length</th>\n",
       "      <th>petal_width</th>\n",
       "      <th>species</th>\n",
       "    </tr>\n",
       "  </thead>\n",
       "  <tbody>\n",
       "    <tr>\n",
       "      <th>145</th>\n",
       "      <td>6.7</td>\n",
       "      <td>3.0</td>\n",
       "      <td>5.2</td>\n",
       "      <td>2.3</td>\n",
       "      <td>virginica</td>\n",
       "    </tr>\n",
       "    <tr>\n",
       "      <th>146</th>\n",
       "      <td>6.3</td>\n",
       "      <td>2.5</td>\n",
       "      <td>5.0</td>\n",
       "      <td>1.9</td>\n",
       "      <td>virginica</td>\n",
       "    </tr>\n",
       "    <tr>\n",
       "      <th>147</th>\n",
       "      <td>6.5</td>\n",
       "      <td>3.0</td>\n",
       "      <td>5.2</td>\n",
       "      <td>2.0</td>\n",
       "      <td>virginica</td>\n",
       "    </tr>\n",
       "    <tr>\n",
       "      <th>148</th>\n",
       "      <td>6.2</td>\n",
       "      <td>3.4</td>\n",
       "      <td>5.4</td>\n",
       "      <td>2.3</td>\n",
       "      <td>virginica</td>\n",
       "    </tr>\n",
       "    <tr>\n",
       "      <th>149</th>\n",
       "      <td>5.9</td>\n",
       "      <td>3.0</td>\n",
       "      <td>5.1</td>\n",
       "      <td>1.8</td>\n",
       "      <td>virginica</td>\n",
       "    </tr>\n",
       "  </tbody>\n",
       "</table>\n",
       "</div>"
      ],
      "text/plain": [
       "     sepal_length  sepal_width  petal_length  petal_width    species\n",
       "145           6.7          3.0           5.2          2.3  virginica\n",
       "146           6.3          2.5           5.0          1.9  virginica\n",
       "147           6.5          3.0           5.2          2.0  virginica\n",
       "148           6.2          3.4           5.4          2.3  virginica\n",
       "149           5.9          3.0           5.1          1.8  virginica"
      ]
     },
     "execution_count": 6,
     "metadata": {},
     "output_type": "execute_result"
    }
   ],
   "source": [
    "# Try .tail()\n",
    "iris_dataset.tail()"
   ]
  },
  {
   "cell_type": "markdown",
   "metadata": {
    "slideshow": {
     "slide_type": "subslide"
    }
   },
   "source": [
    "<div style=\"background-color:beige;color:beige\">\n",
    "\n",
    "<h1 style=\"padding:1em;text-align:center;color:#00008B\">Columns and indexes.</h1>\n",
    "\n",
    "<ul><li><span style=\"color:#00008B;font-size:20px\">\n",
    "    \n",
    "Using .columns you will identify what columns your dataframes has.\n",
    "    \n",
    "Using .index you will identify what indexes your dataframe has.<br><br>\n",
    "\n",
    "</span></li></ul>\n",
    "    \n",
    "<footer>\n",
    "<table style=\"border:none;width:100%\">\n",
    "<tr><td style= \"text-align:left;background-color:blue;color:white;font-size:80%;\"> Farah Ibrar </td><td style= \"text-align:right;background-color:blue;color:white;font-size:80%;\"> Programming in Python </td></tr></table>\n",
    "</footer>\n",
    "\n",
    "</div>"
   ]
  },
  {
   "cell_type": "code",
   "execution_count": 7,
   "metadata": {
    "slideshow": {
     "slide_type": "subslide"
    }
   },
   "outputs": [
    {
     "data": {
      "text/plain": [
       "Index(['sepal_length', 'sepal_width', 'petal_length', 'petal_width',\n",
       "       'species'],\n",
       "      dtype='object')"
      ]
     },
     "execution_count": 7,
     "metadata": {},
     "output_type": "execute_result"
    }
   ],
   "source": [
    "# Try below - What are the dataframes Columns?\n",
    "\n",
    "iris_dataset.columns"
   ]
  },
  {
   "cell_type": "code",
   "execution_count": 8,
   "metadata": {
    "slideshow": {
     "slide_type": "subslide"
    }
   },
   "outputs": [
    {
     "data": {
      "text/plain": [
       "RangeIndex(start=0, stop=150, step=1)"
      ]
     },
     "execution_count": 8,
     "metadata": {},
     "output_type": "execute_result"
    }
   ],
   "source": [
    "# Try below - what are the dataframes Indexes?\n",
    "\n",
    "iris_dataset.index"
   ]
  },
  {
   "cell_type": "markdown",
   "metadata": {
    "tags": []
   },
   "source": [
    "<div style=\"background-color:beige;color:beige\">\n",
    "\n",
    "<h1 style=\"padding:1em;text-align:center;color:#00008B\">Descriptive Statistics</h1>\n",
    "\n",
    "<ul><li><span style=\"color:#00008B;font-size:20px\">\n",
    "    \n",
    "Using .describe() will enable you to identify a quick statistic summary of your dataset.<br><br>\n",
    "\n",
    "</span></li></ul>\n",
    "    \n",
    "<footer>\n",
    "<table style=\"border:none;width:100%\">\n",
    "<tr><td style= \"text-align:left;background-color:blue;color:white;font-size:80%;\"> Farah Ibrar </td><td style= \"text-align:right;background-color:blue;color:white;font-size:80%;\"> Programming in Python </td></tr></table>\n",
    "</footer>\n",
    "\n",
    "</div>"
   ]
  },
  {
   "cell_type": "code",
   "execution_count": 9,
   "metadata": {
    "slideshow": {
     "slide_type": "subslide"
    }
   },
   "outputs": [
    {
     "data": {
      "text/html": [
       "<div>\n",
       "<style scoped>\n",
       "    .dataframe tbody tr th:only-of-type {\n",
       "        vertical-align: middle;\n",
       "    }\n",
       "\n",
       "    .dataframe tbody tr th {\n",
       "        vertical-align: top;\n",
       "    }\n",
       "\n",
       "    .dataframe thead th {\n",
       "        text-align: right;\n",
       "    }\n",
       "</style>\n",
       "<table border=\"1\" class=\"dataframe\">\n",
       "  <thead>\n",
       "    <tr style=\"text-align: right;\">\n",
       "      <th></th>\n",
       "      <th>sepal_length</th>\n",
       "      <th>sepal_width</th>\n",
       "      <th>petal_length</th>\n",
       "      <th>petal_width</th>\n",
       "    </tr>\n",
       "  </thead>\n",
       "  <tbody>\n",
       "    <tr>\n",
       "      <th>count</th>\n",
       "      <td>150.000000</td>\n",
       "      <td>150.000000</td>\n",
       "      <td>150.000000</td>\n",
       "      <td>150.000000</td>\n",
       "    </tr>\n",
       "    <tr>\n",
       "      <th>mean</th>\n",
       "      <td>5.843333</td>\n",
       "      <td>3.057333</td>\n",
       "      <td>3.758000</td>\n",
       "      <td>1.199333</td>\n",
       "    </tr>\n",
       "    <tr>\n",
       "      <th>std</th>\n",
       "      <td>0.828066</td>\n",
       "      <td>0.435866</td>\n",
       "      <td>1.765298</td>\n",
       "      <td>0.762238</td>\n",
       "    </tr>\n",
       "    <tr>\n",
       "      <th>min</th>\n",
       "      <td>4.300000</td>\n",
       "      <td>2.000000</td>\n",
       "      <td>1.000000</td>\n",
       "      <td>0.100000</td>\n",
       "    </tr>\n",
       "    <tr>\n",
       "      <th>25%</th>\n",
       "      <td>5.100000</td>\n",
       "      <td>2.800000</td>\n",
       "      <td>1.600000</td>\n",
       "      <td>0.300000</td>\n",
       "    </tr>\n",
       "    <tr>\n",
       "      <th>50%</th>\n",
       "      <td>5.800000</td>\n",
       "      <td>3.000000</td>\n",
       "      <td>4.350000</td>\n",
       "      <td>1.300000</td>\n",
       "    </tr>\n",
       "    <tr>\n",
       "      <th>75%</th>\n",
       "      <td>6.400000</td>\n",
       "      <td>3.300000</td>\n",
       "      <td>5.100000</td>\n",
       "      <td>1.800000</td>\n",
       "    </tr>\n",
       "    <tr>\n",
       "      <th>max</th>\n",
       "      <td>7.900000</td>\n",
       "      <td>4.400000</td>\n",
       "      <td>6.900000</td>\n",
       "      <td>2.500000</td>\n",
       "    </tr>\n",
       "  </tbody>\n",
       "</table>\n",
       "</div>"
      ],
      "text/plain": [
       "       sepal_length  sepal_width  petal_length  petal_width\n",
       "count    150.000000   150.000000    150.000000   150.000000\n",
       "mean       5.843333     3.057333      3.758000     1.199333\n",
       "std        0.828066     0.435866      1.765298     0.762238\n",
       "min        4.300000     2.000000      1.000000     0.100000\n",
       "25%        5.100000     2.800000      1.600000     0.300000\n",
       "50%        5.800000     3.000000      4.350000     1.300000\n",
       "75%        6.400000     3.300000      5.100000     1.800000\n",
       "max        7.900000     4.400000      6.900000     2.500000"
      ]
     },
     "execution_count": 9,
     "metadata": {},
     "output_type": "execute_result"
    }
   ],
   "source": [
    "# Try .describe() \n",
    "\n",
    "iris_dataset.describe()"
   ]
  },
  {
   "cell_type": "markdown",
   "metadata": {
    "slideshow": {
     "slide_type": "slide"
    }
   },
   "source": [
    "<div style=\"background-color:beige;color:beige\">\n",
    "\n",
    "<h1 style=\"padding:1em;text-align:center;color:#00008B\">What if you have null values?</h1>\n",
    "\n",
    "<ul><li><span style=\"color:#00008B;font-size:20px\">\n",
    "    \n",
    "Using .isnull().sum() will allow you to identify if your dataset has any null values or nan.<br><br>\n",
    "\n",
    "</span></li></ul>\n",
    "    \n",
    "<footer>\n",
    "<table style=\"border:none;width:100%\">\n",
    "<tr><td style= \"text-align:left;background-color:blue;color:white;font-size:80%;\"> Farah Ibrar </td><td style= \"text-align:right;background-color:blue;color:white;font-size:80%;\"> Programming in Python </td></tr></table>\n",
    "</footer>\n",
    "\n",
    "</div>"
   ]
  },
  {
   "cell_type": "code",
   "execution_count": 10,
   "metadata": {
    "slideshow": {
     "slide_type": "subslide"
    }
   },
   "outputs": [
    {
     "data": {
      "text/plain": [
       "sepal_length    0\n",
       "sepal_width     0\n",
       "petal_length    0\n",
       "petal_width     0\n",
       "species         0\n",
       "dtype: int64"
      ]
     },
     "execution_count": 10,
     "metadata": {},
     "output_type": "execute_result"
    }
   ],
   "source": [
    "# Try .isnull().sum()\n",
    "\n",
    "iris_dataset.isnull().sum()"
   ]
  },
  {
   "cell_type": "markdown",
   "metadata": {
    "slideshow": {
     "slide_type": "subslide"
    }
   },
   "source": [
    "<div style=\"background-color:beige;color:beige\">\n",
    "\n",
    "<h1 style=\"padding:1em;text-align:center;color:#00008B\">Selecting a specific position?</h1>\n",
    "\n",
    "<ul><li><span style=\"color:#00008B;font-size:20px\">\n",
    "    \n",
    "Using .iloc you will be able select a specific position in your dataframe. You need to specify the index position. \n",
    "\n",
    "*Remember - The indexing rule (access other files to remind yourself).  \n",
    "    \n",
    "Example: data.iloc[1]  will select a single row in the dataset\n",
    "\n",
    "Example: data.iloc[:, 0]  will select a single column in the dataset\n",
    "<br><br>\n",
    "\n",
    "</span></li></ul>\n",
    "    \n",
    "<footer>\n",
    "<table style=\"border:none;width:100%\">\n",
    "<tr><td style= \"text-align:left;background-color:blue;color:white;font-size:80%;\"> Farah Ibrar </td><td style= \"text-align:right;background-color:blue;color:white;font-size:80%;\"> Programming in Python </td></tr></table>\n",
    "</footer>\n",
    "\n",
    "</div>"
   ]
  },
  {
   "cell_type": "markdown",
   "metadata": {
    "slideshow": {
     "slide_type": "subslide"
    }
   },
   "source": [
    "### Exercise Time - Try Isolating your data\n",
    "\n"
   ]
  },
  {
   "cell_type": "code",
   "execution_count": 11,
   "metadata": {
    "slideshow": {
     "slide_type": "subslide"
    }
   },
   "outputs": [
    {
     "data": {
      "text/html": [
       "<div>\n",
       "<style scoped>\n",
       "    .dataframe tbody tr th:only-of-type {\n",
       "        vertical-align: middle;\n",
       "    }\n",
       "\n",
       "    .dataframe tbody tr th {\n",
       "        vertical-align: top;\n",
       "    }\n",
       "\n",
       "    .dataframe thead th {\n",
       "        text-align: right;\n",
       "    }\n",
       "</style>\n",
       "<table border=\"1\" class=\"dataframe\">\n",
       "  <thead>\n",
       "    <tr style=\"text-align: right;\">\n",
       "      <th></th>\n",
       "      <th>sepal_length</th>\n",
       "      <th>sepal_width</th>\n",
       "      <th>petal_length</th>\n",
       "      <th>petal_width</th>\n",
       "      <th>species</th>\n",
       "    </tr>\n",
       "  </thead>\n",
       "  <tbody>\n",
       "    <tr>\n",
       "      <th>1</th>\n",
       "      <td>4.9</td>\n",
       "      <td>3.0</td>\n",
       "      <td>1.4</td>\n",
       "      <td>0.2</td>\n",
       "      <td>setosa</td>\n",
       "    </tr>\n",
       "    <tr>\n",
       "      <th>2</th>\n",
       "      <td>4.7</td>\n",
       "      <td>3.2</td>\n",
       "      <td>1.3</td>\n",
       "      <td>0.2</td>\n",
       "      <td>setosa</td>\n",
       "    </tr>\n",
       "    <tr>\n",
       "      <th>3</th>\n",
       "      <td>4.6</td>\n",
       "      <td>3.1</td>\n",
       "      <td>1.5</td>\n",
       "      <td>0.2</td>\n",
       "      <td>setosa</td>\n",
       "    </tr>\n",
       "    <tr>\n",
       "      <th>4</th>\n",
       "      <td>5.0</td>\n",
       "      <td>3.6</td>\n",
       "      <td>1.4</td>\n",
       "      <td>0.2</td>\n",
       "      <td>setosa</td>\n",
       "    </tr>\n",
       "    <tr>\n",
       "      <th>5</th>\n",
       "      <td>5.4</td>\n",
       "      <td>3.9</td>\n",
       "      <td>1.7</td>\n",
       "      <td>0.4</td>\n",
       "      <td>setosa</td>\n",
       "    </tr>\n",
       "    <tr>\n",
       "      <th>6</th>\n",
       "      <td>4.6</td>\n",
       "      <td>3.4</td>\n",
       "      <td>1.4</td>\n",
       "      <td>0.3</td>\n",
       "      <td>setosa</td>\n",
       "    </tr>\n",
       "    <tr>\n",
       "      <th>7</th>\n",
       "      <td>5.0</td>\n",
       "      <td>3.4</td>\n",
       "      <td>1.5</td>\n",
       "      <td>0.2</td>\n",
       "      <td>setosa</td>\n",
       "    </tr>\n",
       "    <tr>\n",
       "      <th>8</th>\n",
       "      <td>4.4</td>\n",
       "      <td>2.9</td>\n",
       "      <td>1.4</td>\n",
       "      <td>0.2</td>\n",
       "      <td>setosa</td>\n",
       "    </tr>\n",
       "    <tr>\n",
       "      <th>9</th>\n",
       "      <td>4.9</td>\n",
       "      <td>3.1</td>\n",
       "      <td>1.5</td>\n",
       "      <td>0.1</td>\n",
       "      <td>setosa</td>\n",
       "    </tr>\n",
       "    <tr>\n",
       "      <th>10</th>\n",
       "      <td>5.4</td>\n",
       "      <td>3.7</td>\n",
       "      <td>1.5</td>\n",
       "      <td>0.2</td>\n",
       "      <td>setosa</td>\n",
       "    </tr>\n",
       "    <tr>\n",
       "      <th>11</th>\n",
       "      <td>4.8</td>\n",
       "      <td>3.4</td>\n",
       "      <td>1.6</td>\n",
       "      <td>0.2</td>\n",
       "      <td>setosa</td>\n",
       "    </tr>\n",
       "    <tr>\n",
       "      <th>12</th>\n",
       "      <td>4.8</td>\n",
       "      <td>3.0</td>\n",
       "      <td>1.4</td>\n",
       "      <td>0.1</td>\n",
       "      <td>setosa</td>\n",
       "    </tr>\n",
       "    <tr>\n",
       "      <th>13</th>\n",
       "      <td>4.3</td>\n",
       "      <td>3.0</td>\n",
       "      <td>1.1</td>\n",
       "      <td>0.1</td>\n",
       "      <td>setosa</td>\n",
       "    </tr>\n",
       "    <tr>\n",
       "      <th>14</th>\n",
       "      <td>5.8</td>\n",
       "      <td>4.0</td>\n",
       "      <td>1.2</td>\n",
       "      <td>0.2</td>\n",
       "      <td>setosa</td>\n",
       "    </tr>\n",
       "    <tr>\n",
       "      <th>15</th>\n",
       "      <td>5.7</td>\n",
       "      <td>4.4</td>\n",
       "      <td>1.5</td>\n",
       "      <td>0.4</td>\n",
       "      <td>setosa</td>\n",
       "    </tr>\n",
       "    <tr>\n",
       "      <th>16</th>\n",
       "      <td>5.4</td>\n",
       "      <td>3.9</td>\n",
       "      <td>1.3</td>\n",
       "      <td>0.4</td>\n",
       "      <td>setosa</td>\n",
       "    </tr>\n",
       "    <tr>\n",
       "      <th>17</th>\n",
       "      <td>5.1</td>\n",
       "      <td>3.5</td>\n",
       "      <td>1.4</td>\n",
       "      <td>0.3</td>\n",
       "      <td>setosa</td>\n",
       "    </tr>\n",
       "    <tr>\n",
       "      <th>18</th>\n",
       "      <td>5.7</td>\n",
       "      <td>3.8</td>\n",
       "      <td>1.7</td>\n",
       "      <td>0.3</td>\n",
       "      <td>setosa</td>\n",
       "    </tr>\n",
       "    <tr>\n",
       "      <th>19</th>\n",
       "      <td>5.1</td>\n",
       "      <td>3.8</td>\n",
       "      <td>1.5</td>\n",
       "      <td>0.3</td>\n",
       "      <td>setosa</td>\n",
       "    </tr>\n",
       "  </tbody>\n",
       "</table>\n",
       "</div>"
      ],
      "text/plain": [
       "    sepal_length  sepal_width  petal_length  petal_width species\n",
       "1            4.9          3.0           1.4          0.2  setosa\n",
       "2            4.7          3.2           1.3          0.2  setosa\n",
       "3            4.6          3.1           1.5          0.2  setosa\n",
       "4            5.0          3.6           1.4          0.2  setosa\n",
       "5            5.4          3.9           1.7          0.4  setosa\n",
       "6            4.6          3.4           1.4          0.3  setosa\n",
       "7            5.0          3.4           1.5          0.2  setosa\n",
       "8            4.4          2.9           1.4          0.2  setosa\n",
       "9            4.9          3.1           1.5          0.1  setosa\n",
       "10           5.4          3.7           1.5          0.2  setosa\n",
       "11           4.8          3.4           1.6          0.2  setosa\n",
       "12           4.8          3.0           1.4          0.1  setosa\n",
       "13           4.3          3.0           1.1          0.1  setosa\n",
       "14           5.8          4.0           1.2          0.2  setosa\n",
       "15           5.7          4.4           1.5          0.4  setosa\n",
       "16           5.4          3.9           1.3          0.4  setosa\n",
       "17           5.1          3.5           1.4          0.3  setosa\n",
       "18           5.7          3.8           1.7          0.3  setosa\n",
       "19           5.1          3.8           1.5          0.3  setosa"
      ]
     },
     "execution_count": 11,
     "metadata": {},
     "output_type": "execute_result"
    }
   ],
   "source": [
    "# Select rows between 1 and 19\n",
    "iris_dataset.iloc[1:20]"
   ]
  },
  {
   "cell_type": "code",
   "execution_count": 12,
   "metadata": {
    "slideshow": {
     "slide_type": "subslide"
    }
   },
   "outputs": [
    {
     "data": {
      "text/html": [
       "<div>\n",
       "<style scoped>\n",
       "    .dataframe tbody tr th:only-of-type {\n",
       "        vertical-align: middle;\n",
       "    }\n",
       "\n",
       "    .dataframe tbody tr th {\n",
       "        vertical-align: top;\n",
       "    }\n",
       "\n",
       "    .dataframe thead th {\n",
       "        text-align: right;\n",
       "    }\n",
       "</style>\n",
       "<table border=\"1\" class=\"dataframe\">\n",
       "  <thead>\n",
       "    <tr style=\"text-align: right;\">\n",
       "      <th></th>\n",
       "      <th>sepal_length</th>\n",
       "      <th>sepal_width</th>\n",
       "      <th>petal_length</th>\n",
       "      <th>petal_width</th>\n",
       "      <th>species</th>\n",
       "    </tr>\n",
       "  </thead>\n",
       "  <tbody>\n",
       "    <tr>\n",
       "      <th>15</th>\n",
       "      <td>5.7</td>\n",
       "      <td>4.4</td>\n",
       "      <td>1.5</td>\n",
       "      <td>0.4</td>\n",
       "      <td>setosa</td>\n",
       "    </tr>\n",
       "    <tr>\n",
       "      <th>16</th>\n",
       "      <td>5.4</td>\n",
       "      <td>3.9</td>\n",
       "      <td>1.3</td>\n",
       "      <td>0.4</td>\n",
       "      <td>setosa</td>\n",
       "    </tr>\n",
       "    <tr>\n",
       "      <th>17</th>\n",
       "      <td>5.1</td>\n",
       "      <td>3.5</td>\n",
       "      <td>1.4</td>\n",
       "      <td>0.3</td>\n",
       "      <td>setosa</td>\n",
       "    </tr>\n",
       "    <tr>\n",
       "      <th>18</th>\n",
       "      <td>5.7</td>\n",
       "      <td>3.8</td>\n",
       "      <td>1.7</td>\n",
       "      <td>0.3</td>\n",
       "      <td>setosa</td>\n",
       "    </tr>\n",
       "    <tr>\n",
       "      <th>19</th>\n",
       "      <td>5.1</td>\n",
       "      <td>3.8</td>\n",
       "      <td>1.5</td>\n",
       "      <td>0.3</td>\n",
       "      <td>setosa</td>\n",
       "    </tr>\n",
       "    <tr>\n",
       "      <th>20</th>\n",
       "      <td>5.4</td>\n",
       "      <td>3.4</td>\n",
       "      <td>1.7</td>\n",
       "      <td>0.2</td>\n",
       "      <td>setosa</td>\n",
       "    </tr>\n",
       "    <tr>\n",
       "      <th>21</th>\n",
       "      <td>5.1</td>\n",
       "      <td>3.7</td>\n",
       "      <td>1.5</td>\n",
       "      <td>0.4</td>\n",
       "      <td>setosa</td>\n",
       "    </tr>\n",
       "    <tr>\n",
       "      <th>22</th>\n",
       "      <td>4.6</td>\n",
       "      <td>3.6</td>\n",
       "      <td>1.0</td>\n",
       "      <td>0.2</td>\n",
       "      <td>setosa</td>\n",
       "    </tr>\n",
       "    <tr>\n",
       "      <th>23</th>\n",
       "      <td>5.1</td>\n",
       "      <td>3.3</td>\n",
       "      <td>1.7</td>\n",
       "      <td>0.5</td>\n",
       "      <td>setosa</td>\n",
       "    </tr>\n",
       "    <tr>\n",
       "      <th>24</th>\n",
       "      <td>4.8</td>\n",
       "      <td>3.4</td>\n",
       "      <td>1.9</td>\n",
       "      <td>0.2</td>\n",
       "      <td>setosa</td>\n",
       "    </tr>\n",
       "    <tr>\n",
       "      <th>25</th>\n",
       "      <td>5.0</td>\n",
       "      <td>3.0</td>\n",
       "      <td>1.6</td>\n",
       "      <td>0.2</td>\n",
       "      <td>setosa</td>\n",
       "    </tr>\n",
       "  </tbody>\n",
       "</table>\n",
       "</div>"
      ],
      "text/plain": [
       "    sepal_length  sepal_width  petal_length  petal_width species\n",
       "15           5.7          4.4           1.5          0.4  setosa\n",
       "16           5.4          3.9           1.3          0.4  setosa\n",
       "17           5.1          3.5           1.4          0.3  setosa\n",
       "18           5.7          3.8           1.7          0.3  setosa\n",
       "19           5.1          3.8           1.5          0.3  setosa\n",
       "20           5.4          3.4           1.7          0.2  setosa\n",
       "21           5.1          3.7           1.5          0.4  setosa\n",
       "22           4.6          3.6           1.0          0.2  setosa\n",
       "23           5.1          3.3           1.7          0.5  setosa\n",
       "24           4.8          3.4           1.9          0.2  setosa\n",
       "25           5.0          3.0           1.6          0.2  setosa"
      ]
     },
     "execution_count": 12,
     "metadata": {},
     "output_type": "execute_result"
    }
   ],
   "source": [
    "# Select rows between 15 and 25\n",
    "iris_dataset.iloc[15:26]"
   ]
  },
  {
   "cell_type": "code",
   "execution_count": 13,
   "metadata": {
    "slideshow": {
     "slide_type": "subslide"
    }
   },
   "outputs": [
    {
     "data": {
      "text/html": [
       "<div>\n",
       "<style scoped>\n",
       "    .dataframe tbody tr th:only-of-type {\n",
       "        vertical-align: middle;\n",
       "    }\n",
       "\n",
       "    .dataframe tbody tr th {\n",
       "        vertical-align: top;\n",
       "    }\n",
       "\n",
       "    .dataframe thead th {\n",
       "        text-align: right;\n",
       "    }\n",
       "</style>\n",
       "<table border=\"1\" class=\"dataframe\">\n",
       "  <thead>\n",
       "    <tr style=\"text-align: right;\">\n",
       "      <th></th>\n",
       "      <th>petal_width</th>\n",
       "      <th>species</th>\n",
       "    </tr>\n",
       "  </thead>\n",
       "  <tbody>\n",
       "    <tr>\n",
       "      <th>0</th>\n",
       "      <td>0.2</td>\n",
       "      <td>setosa</td>\n",
       "    </tr>\n",
       "    <tr>\n",
       "      <th>1</th>\n",
       "      <td>0.2</td>\n",
       "      <td>setosa</td>\n",
       "    </tr>\n",
       "    <tr>\n",
       "      <th>2</th>\n",
       "      <td>0.2</td>\n",
       "      <td>setosa</td>\n",
       "    </tr>\n",
       "    <tr>\n",
       "      <th>3</th>\n",
       "      <td>0.2</td>\n",
       "      <td>setosa</td>\n",
       "    </tr>\n",
       "    <tr>\n",
       "      <th>4</th>\n",
       "      <td>0.2</td>\n",
       "      <td>setosa</td>\n",
       "    </tr>\n",
       "    <tr>\n",
       "      <th>...</th>\n",
       "      <td>...</td>\n",
       "      <td>...</td>\n",
       "    </tr>\n",
       "    <tr>\n",
       "      <th>145</th>\n",
       "      <td>2.3</td>\n",
       "      <td>virginica</td>\n",
       "    </tr>\n",
       "    <tr>\n",
       "      <th>146</th>\n",
       "      <td>1.9</td>\n",
       "      <td>virginica</td>\n",
       "    </tr>\n",
       "    <tr>\n",
       "      <th>147</th>\n",
       "      <td>2.0</td>\n",
       "      <td>virginica</td>\n",
       "    </tr>\n",
       "    <tr>\n",
       "      <th>148</th>\n",
       "      <td>2.3</td>\n",
       "      <td>virginica</td>\n",
       "    </tr>\n",
       "    <tr>\n",
       "      <th>149</th>\n",
       "      <td>1.8</td>\n",
       "      <td>virginica</td>\n",
       "    </tr>\n",
       "  </tbody>\n",
       "</table>\n",
       "<p>150 rows × 2 columns</p>\n",
       "</div>"
      ],
      "text/plain": [
       "     petal_width    species\n",
       "0            0.2     setosa\n",
       "1            0.2     setosa\n",
       "2            0.2     setosa\n",
       "3            0.2     setosa\n",
       "4            0.2     setosa\n",
       "..           ...        ...\n",
       "145          2.3  virginica\n",
       "146          1.9  virginica\n",
       "147          2.0  virginica\n",
       "148          2.3  virginica\n",
       "149          1.8  virginica\n",
       "\n",
       "[150 rows x 2 columns]"
      ]
     },
     "execution_count": 13,
     "metadata": {},
     "output_type": "execute_result"
    }
   ],
   "source": [
    "# Select only the last two colums\n",
    "\n",
    "iris_dataset.iloc[:,3:5]"
   ]
  },
  {
   "cell_type": "code",
   "execution_count": 14,
   "metadata": {
    "slideshow": {
     "slide_type": "subslide"
    }
   },
   "outputs": [
    {
     "data": {
      "text/html": [
       "<div>\n",
       "<style scoped>\n",
       "    .dataframe tbody tr th:only-of-type {\n",
       "        vertical-align: middle;\n",
       "    }\n",
       "\n",
       "    .dataframe tbody tr th {\n",
       "        vertical-align: top;\n",
       "    }\n",
       "\n",
       "    .dataframe thead th {\n",
       "        text-align: right;\n",
       "    }\n",
       "</style>\n",
       "<table border=\"1\" class=\"dataframe\">\n",
       "  <thead>\n",
       "    <tr style=\"text-align: right;\">\n",
       "      <th></th>\n",
       "      <th>sepal_width</th>\n",
       "      <th>petal_width</th>\n",
       "    </tr>\n",
       "  </thead>\n",
       "  <tbody>\n",
       "    <tr>\n",
       "      <th>0</th>\n",
       "      <td>3.5</td>\n",
       "      <td>0.2</td>\n",
       "    </tr>\n",
       "    <tr>\n",
       "      <th>1</th>\n",
       "      <td>3.0</td>\n",
       "      <td>0.2</td>\n",
       "    </tr>\n",
       "    <tr>\n",
       "      <th>2</th>\n",
       "      <td>3.2</td>\n",
       "      <td>0.2</td>\n",
       "    </tr>\n",
       "    <tr>\n",
       "      <th>3</th>\n",
       "      <td>3.1</td>\n",
       "      <td>0.2</td>\n",
       "    </tr>\n",
       "    <tr>\n",
       "      <th>4</th>\n",
       "      <td>3.6</td>\n",
       "      <td>0.2</td>\n",
       "    </tr>\n",
       "    <tr>\n",
       "      <th>...</th>\n",
       "      <td>...</td>\n",
       "      <td>...</td>\n",
       "    </tr>\n",
       "    <tr>\n",
       "      <th>145</th>\n",
       "      <td>3.0</td>\n",
       "      <td>2.3</td>\n",
       "    </tr>\n",
       "    <tr>\n",
       "      <th>146</th>\n",
       "      <td>2.5</td>\n",
       "      <td>1.9</td>\n",
       "    </tr>\n",
       "    <tr>\n",
       "      <th>147</th>\n",
       "      <td>3.0</td>\n",
       "      <td>2.0</td>\n",
       "    </tr>\n",
       "    <tr>\n",
       "      <th>148</th>\n",
       "      <td>3.4</td>\n",
       "      <td>2.3</td>\n",
       "    </tr>\n",
       "    <tr>\n",
       "      <th>149</th>\n",
       "      <td>3.0</td>\n",
       "      <td>1.8</td>\n",
       "    </tr>\n",
       "  </tbody>\n",
       "</table>\n",
       "<p>150 rows × 2 columns</p>\n",
       "</div>"
      ],
      "text/plain": [
       "     sepal_width  petal_width\n",
       "0            3.5          0.2\n",
       "1            3.0          0.2\n",
       "2            3.2          0.2\n",
       "3            3.1          0.2\n",
       "4            3.6          0.2\n",
       "..           ...          ...\n",
       "145          3.0          2.3\n",
       "146          2.5          1.9\n",
       "147          3.0          2.0\n",
       "148          3.4          2.3\n",
       "149          3.0          1.8\n",
       "\n",
       "[150 rows x 2 columns]"
      ]
     },
     "execution_count": 14,
     "metadata": {},
     "output_type": "execute_result"
    }
   ],
   "source": [
    "# A bit more Challenging - Select only column 2 and 4 (Sepal Width and Petal Width)\n",
    "\n",
    "iris_dataset.iloc[:,1:4:2] \n",
    "# skipping would come at the end."
   ]
  },
  {
   "cell_type": "markdown",
   "metadata": {
    "slideshow": {
     "slide_type": "subslide"
    }
   },
   "source": [
    "<div style=\"background-color:beige;color:beige\">\n",
    "\n",
    "<h1 style=\"padding:1em;text-align:center;color:#00008B\">Other Important functions you can use with pandas.</h1>\n",
    "\n",
    "<ul><li><span style=\"color:#00008B;font-size:20px\">\n",
    ".copy() - will copy your dataframe<br><br>\n",
    ".concat() - will concatenate two dataframes<br><br>\n",
    ".dropna() - will drop all rows with nan values<br><br>\n",
    ".mean() - will give you the mean of whatever you have selected<br><br>\n",
    "<br><br>\n",
    "\n",
    "</span></li></ul>\n",
    "    \n",
    "<footer>\n",
    "<table style=\"border:none;width:100%\">\n",
    "<tr><td style= \"text-align:left;background-color:blue;color:white;font-size:80%;\"> Farah Ibrar </td><td style= \"text-align:right;background-color:blue;color:white;font-size:80%;\"> Programming in Python </td></tr></table>\n",
    "</footer>\n",
    "\n",
    "</div>"
   ]
  },
  {
   "cell_type": "markdown",
   "metadata": {
    "slideshow": {
     "slide_type": "subslide"
    }
   },
   "source": [
    "<div style=\"background-color:beige;color:beige\">\n",
    "\n",
    "<h1 style=\"padding:1em;text-align:center;color:#00008B\">Exercise Time.</h1>\n",
    "\n",
    "<ul><li><span style=\"color:#00008B;font-size:20px\">\n",
    "With the information you have gained so far. Please give me the mean of the column petal length. <br><br>\n",
    "\n",
    "*Remember you can rename your new datasets<br><br>\n",
    "\n",
    "Example: data1 = data.copy()\n",
    "\n",
    "\n",
    "<br><br>\n",
    "\n",
    "</span></li></ul>\n",
    "    \n",
    "<footer>\n",
    "<table style=\"border:none;width:100%\">\n",
    "<tr><td style= \"text-align:left;background-color:blue;color:white;font-size:80%;\"> Farah Ibrar </td><td style= \"text-align:right;background-color:blue;color:white;font-size:80%;\"> Programming in Python </td></tr></table>\n",
    "</footer>\n",
    "\n",
    "</div>\n"
   ]
  },
  {
   "cell_type": "code",
   "execution_count": null,
   "metadata": {
    "slideshow": {
     "slide_type": "subslide"
    }
   },
   "outputs": [],
   "source": [
    "# With the information you have gained so far. Please give me the mean of the column petal length."
   ]
  },
  {
   "cell_type": "code",
   "execution_count": 15,
   "metadata": {
    "slideshow": {
     "slide_type": "subslide"
    }
   },
   "outputs": [
    {
     "data": {
      "text/html": [
       "<div>\n",
       "<style scoped>\n",
       "    .dataframe tbody tr th:only-of-type {\n",
       "        vertical-align: middle;\n",
       "    }\n",
       "\n",
       "    .dataframe tbody tr th {\n",
       "        vertical-align: top;\n",
       "    }\n",
       "\n",
       "    .dataframe thead th {\n",
       "        text-align: right;\n",
       "    }\n",
       "</style>\n",
       "<table border=\"1\" class=\"dataframe\">\n",
       "  <thead>\n",
       "    <tr style=\"text-align: right;\">\n",
       "      <th></th>\n",
       "      <th>sepal_length</th>\n",
       "      <th>sepal_width</th>\n",
       "      <th>petal_length</th>\n",
       "      <th>petal_width</th>\n",
       "      <th>species</th>\n",
       "    </tr>\n",
       "  </thead>\n",
       "  <tbody>\n",
       "    <tr>\n",
       "      <th>0</th>\n",
       "      <td>5.1</td>\n",
       "      <td>3.5</td>\n",
       "      <td>1.4</td>\n",
       "      <td>0.2</td>\n",
       "      <td>setosa</td>\n",
       "    </tr>\n",
       "    <tr>\n",
       "      <th>1</th>\n",
       "      <td>4.9</td>\n",
       "      <td>3.0</td>\n",
       "      <td>1.4</td>\n",
       "      <td>0.2</td>\n",
       "      <td>setosa</td>\n",
       "    </tr>\n",
       "    <tr>\n",
       "      <th>2</th>\n",
       "      <td>4.7</td>\n",
       "      <td>3.2</td>\n",
       "      <td>1.3</td>\n",
       "      <td>0.2</td>\n",
       "      <td>setosa</td>\n",
       "    </tr>\n",
       "    <tr>\n",
       "      <th>3</th>\n",
       "      <td>4.6</td>\n",
       "      <td>3.1</td>\n",
       "      <td>1.5</td>\n",
       "      <td>0.2</td>\n",
       "      <td>setosa</td>\n",
       "    </tr>\n",
       "    <tr>\n",
       "      <th>4</th>\n",
       "      <td>5.0</td>\n",
       "      <td>3.6</td>\n",
       "      <td>1.4</td>\n",
       "      <td>0.2</td>\n",
       "      <td>setosa</td>\n",
       "    </tr>\n",
       "    <tr>\n",
       "      <th>...</th>\n",
       "      <td>...</td>\n",
       "      <td>...</td>\n",
       "      <td>...</td>\n",
       "      <td>...</td>\n",
       "      <td>...</td>\n",
       "    </tr>\n",
       "    <tr>\n",
       "      <th>145</th>\n",
       "      <td>6.7</td>\n",
       "      <td>3.0</td>\n",
       "      <td>5.2</td>\n",
       "      <td>2.3</td>\n",
       "      <td>virginica</td>\n",
       "    </tr>\n",
       "    <tr>\n",
       "      <th>146</th>\n",
       "      <td>6.3</td>\n",
       "      <td>2.5</td>\n",
       "      <td>5.0</td>\n",
       "      <td>1.9</td>\n",
       "      <td>virginica</td>\n",
       "    </tr>\n",
       "    <tr>\n",
       "      <th>147</th>\n",
       "      <td>6.5</td>\n",
       "      <td>3.0</td>\n",
       "      <td>5.2</td>\n",
       "      <td>2.0</td>\n",
       "      <td>virginica</td>\n",
       "    </tr>\n",
       "    <tr>\n",
       "      <th>148</th>\n",
       "      <td>6.2</td>\n",
       "      <td>3.4</td>\n",
       "      <td>5.4</td>\n",
       "      <td>2.3</td>\n",
       "      <td>virginica</td>\n",
       "    </tr>\n",
       "    <tr>\n",
       "      <th>149</th>\n",
       "      <td>5.9</td>\n",
       "      <td>3.0</td>\n",
       "      <td>5.1</td>\n",
       "      <td>1.8</td>\n",
       "      <td>virginica</td>\n",
       "    </tr>\n",
       "  </tbody>\n",
       "</table>\n",
       "<p>150 rows × 5 columns</p>\n",
       "</div>"
      ],
      "text/plain": [
       "     sepal_length  sepal_width  petal_length  petal_width    species\n",
       "0             5.1          3.5           1.4          0.2     setosa\n",
       "1             4.9          3.0           1.4          0.2     setosa\n",
       "2             4.7          3.2           1.3          0.2     setosa\n",
       "3             4.6          3.1           1.5          0.2     setosa\n",
       "4             5.0          3.6           1.4          0.2     setosa\n",
       "..            ...          ...           ...          ...        ...\n",
       "145           6.7          3.0           5.2          2.3  virginica\n",
       "146           6.3          2.5           5.0          1.9  virginica\n",
       "147           6.5          3.0           5.2          2.0  virginica\n",
       "148           6.2          3.4           5.4          2.3  virginica\n",
       "149           5.9          3.0           5.1          1.8  virginica\n",
       "\n",
       "[150 rows x 5 columns]"
      ]
     },
     "execution_count": 15,
     "metadata": {},
     "output_type": "execute_result"
    }
   ],
   "source": [
    "iris_dataset_copy = iris_dataset.copy()\n",
    "iris_dataset_copy"
   ]
  },
  {
   "cell_type": "code",
   "execution_count": 18,
   "metadata": {
    "slideshow": {
     "slide_type": "subslide"
    }
   },
   "outputs": [
    {
     "name": "stdout",
     "output_type": "stream",
     "text": [
      "Index(['sepal_length', 'sepal_width', 'petal_length', 'petal_width',\n",
      "       'species'],\n",
      "      dtype='object')\n"
     ]
    }
   ],
   "source": [
    "# Step 1: Print the column names to check for the correct name\n",
    "print(iris_dataset_copy.columns)"
   ]
  },
  {
   "cell_type": "code",
   "execution_count": 17,
   "metadata": {
    "slideshow": {
     "slide_type": "subslide"
    }
   },
   "outputs": [
    {
     "name": "stdout",
     "output_type": "stream",
     "text": [
      "Mean of petal length: 3.7580000000000005\n"
     ]
    }
   ],
   "source": [
    "# Step 2: Use the correct column name to calculate the mean\n",
    "# The correct name is 'petal_length' after checking\n",
    "petal_length_mean = iris_dataset_copy['petal_length'].mean()\n",
    "print(\"Mean of petal length:\", petal_length_mean)"
   ]
  },
  {
   "cell_type": "markdown",
   "metadata": {
    "slideshow": {
     "slide_type": "subslide"
    }
   },
   "source": [
    "\n",
    "<div style=\"background-color:beige;color:beige\">\n",
    "\n",
    "<h1 style=\"padding:1em;text-align:center;color:#00008B\">Exercise Time.</h1>\n",
    "\n",
    "<ul><li><span style=\"color:#00008B;font-size:20px\">\n",
    "Q1 Using .iloc() and .copy() <br><br>\n",
    "I want you to split the dataset in two. Use .copy() to not alter your original dataset. <br><br>\n",
    "*Remember to name your two new datasets<br><br>\n",
    "\n",
    "Hint for Q2: data1 = data.concat([dataframe1,dataframe2], axis=1)\n",
    "\n",
    "<br><br>\n",
    "\n",
    "</span></li></ul>\n",
    "    \n",
    "<footer>\n",
    "<table style=\"border:none;width:100%\">\n",
    "<tr><td style= \"text-align:left;background-color:blue;color:white;font-size:80%;\"> Farah Ibrar </td><td style= \"text-align:right;background-color:blue;color:white;font-size:80%;\"> Programming in Python </td></tr></table>\n",
    "</footer>\n",
    "\n",
    "</div>\n",
    "\n"
   ]
  },
  {
   "cell_type": "code",
   "execution_count": 19,
   "metadata": {
    "slideshow": {
     "slide_type": "subslide"
    }
   },
   "outputs": [
    {
     "data": {
      "text/html": [
       "<div>\n",
       "<style scoped>\n",
       "    .dataframe tbody tr th:only-of-type {\n",
       "        vertical-align: middle;\n",
       "    }\n",
       "\n",
       "    .dataframe tbody tr th {\n",
       "        vertical-align: top;\n",
       "    }\n",
       "\n",
       "    .dataframe thead th {\n",
       "        text-align: right;\n",
       "    }\n",
       "</style>\n",
       "<table border=\"1\" class=\"dataframe\">\n",
       "  <thead>\n",
       "    <tr style=\"text-align: right;\">\n",
       "      <th></th>\n",
       "      <th>sepal_length</th>\n",
       "      <th>sepal_width</th>\n",
       "      <th>petal_length</th>\n",
       "      <th>petal_width</th>\n",
       "      <th>species</th>\n",
       "    </tr>\n",
       "  </thead>\n",
       "  <tbody>\n",
       "    <tr>\n",
       "      <th>1</th>\n",
       "      <td>4.9</td>\n",
       "      <td>3.0</td>\n",
       "      <td>1.4</td>\n",
       "      <td>0.2</td>\n",
       "      <td>setosa</td>\n",
       "    </tr>\n",
       "    <tr>\n",
       "      <th>2</th>\n",
       "      <td>4.7</td>\n",
       "      <td>3.2</td>\n",
       "      <td>1.3</td>\n",
       "      <td>0.2</td>\n",
       "      <td>setosa</td>\n",
       "    </tr>\n",
       "    <tr>\n",
       "      <th>3</th>\n",
       "      <td>4.6</td>\n",
       "      <td>3.1</td>\n",
       "      <td>1.5</td>\n",
       "      <td>0.2</td>\n",
       "      <td>setosa</td>\n",
       "    </tr>\n",
       "  </tbody>\n",
       "</table>\n",
       "</div>"
      ],
      "text/plain": [
       "   sepal_length  sepal_width  petal_length  petal_width species\n",
       "1           4.9          3.0           1.4          0.2  setosa\n",
       "2           4.7          3.2           1.3          0.2  setosa\n",
       "3           4.6          3.1           1.5          0.2  setosa"
      ]
     },
     "execution_count": 19,
     "metadata": {},
     "output_type": "execute_result"
    }
   ],
   "source": [
    "# Q1 - Try Here - split the dataset in two, not loosing any value\n",
    "\n",
    "number_one = iris_dataset_copy.iloc[1:4]\n",
    "number_one"
   ]
  },
  {
   "cell_type": "code",
   "execution_count": 20,
   "metadata": {
    "slideshow": {
     "slide_type": "subslide"
    }
   },
   "outputs": [
    {
     "data": {
      "text/html": [
       "<div>\n",
       "<style scoped>\n",
       "    .dataframe tbody tr th:only-of-type {\n",
       "        vertical-align: middle;\n",
       "    }\n",
       "\n",
       "    .dataframe tbody tr th {\n",
       "        vertical-align: top;\n",
       "    }\n",
       "\n",
       "    .dataframe thead th {\n",
       "        text-align: right;\n",
       "    }\n",
       "</style>\n",
       "<table border=\"1\" class=\"dataframe\">\n",
       "  <thead>\n",
       "    <tr style=\"text-align: right;\">\n",
       "      <th></th>\n",
       "      <th>sepal_length</th>\n",
       "      <th>sepal_width</th>\n",
       "      <th>petal_length</th>\n",
       "      <th>petal_width</th>\n",
       "      <th>species</th>\n",
       "    </tr>\n",
       "  </thead>\n",
       "  <tbody>\n",
       "    <tr>\n",
       "      <th>50</th>\n",
       "      <td>7.0</td>\n",
       "      <td>3.2</td>\n",
       "      <td>4.7</td>\n",
       "      <td>1.4</td>\n",
       "      <td>versicolor</td>\n",
       "    </tr>\n",
       "    <tr>\n",
       "      <th>51</th>\n",
       "      <td>6.4</td>\n",
       "      <td>3.2</td>\n",
       "      <td>4.5</td>\n",
       "      <td>1.5</td>\n",
       "      <td>versicolor</td>\n",
       "    </tr>\n",
       "    <tr>\n",
       "      <th>52</th>\n",
       "      <td>6.9</td>\n",
       "      <td>3.1</td>\n",
       "      <td>4.9</td>\n",
       "      <td>1.5</td>\n",
       "      <td>versicolor</td>\n",
       "    </tr>\n",
       "    <tr>\n",
       "      <th>53</th>\n",
       "      <td>5.5</td>\n",
       "      <td>2.3</td>\n",
       "      <td>4.0</td>\n",
       "      <td>1.3</td>\n",
       "      <td>versicolor</td>\n",
       "    </tr>\n",
       "    <tr>\n",
       "      <th>54</th>\n",
       "      <td>6.5</td>\n",
       "      <td>2.8</td>\n",
       "      <td>4.6</td>\n",
       "      <td>1.5</td>\n",
       "      <td>versicolor</td>\n",
       "    </tr>\n",
       "    <tr>\n",
       "      <th>...</th>\n",
       "      <td>...</td>\n",
       "      <td>...</td>\n",
       "      <td>...</td>\n",
       "      <td>...</td>\n",
       "      <td>...</td>\n",
       "    </tr>\n",
       "    <tr>\n",
       "      <th>115</th>\n",
       "      <td>6.4</td>\n",
       "      <td>3.2</td>\n",
       "      <td>5.3</td>\n",
       "      <td>2.3</td>\n",
       "      <td>virginica</td>\n",
       "    </tr>\n",
       "    <tr>\n",
       "      <th>116</th>\n",
       "      <td>6.5</td>\n",
       "      <td>3.0</td>\n",
       "      <td>5.5</td>\n",
       "      <td>1.8</td>\n",
       "      <td>virginica</td>\n",
       "    </tr>\n",
       "    <tr>\n",
       "      <th>117</th>\n",
       "      <td>7.7</td>\n",
       "      <td>3.8</td>\n",
       "      <td>6.7</td>\n",
       "      <td>2.2</td>\n",
       "      <td>virginica</td>\n",
       "    </tr>\n",
       "    <tr>\n",
       "      <th>118</th>\n",
       "      <td>7.7</td>\n",
       "      <td>2.6</td>\n",
       "      <td>6.9</td>\n",
       "      <td>2.3</td>\n",
       "      <td>virginica</td>\n",
       "    </tr>\n",
       "    <tr>\n",
       "      <th>119</th>\n",
       "      <td>6.0</td>\n",
       "      <td>2.2</td>\n",
       "      <td>5.0</td>\n",
       "      <td>1.5</td>\n",
       "      <td>virginica</td>\n",
       "    </tr>\n",
       "  </tbody>\n",
       "</table>\n",
       "<p>70 rows × 5 columns</p>\n",
       "</div>"
      ],
      "text/plain": [
       "     sepal_length  sepal_width  petal_length  petal_width     species\n",
       "50            7.0          3.2           4.7          1.4  versicolor\n",
       "51            6.4          3.2           4.5          1.5  versicolor\n",
       "52            6.9          3.1           4.9          1.5  versicolor\n",
       "53            5.5          2.3           4.0          1.3  versicolor\n",
       "54            6.5          2.8           4.6          1.5  versicolor\n",
       "..            ...          ...           ...          ...         ...\n",
       "115           6.4          3.2           5.3          2.3   virginica\n",
       "116           6.5          3.0           5.5          1.8   virginica\n",
       "117           7.7          3.8           6.7          2.2   virginica\n",
       "118           7.7          2.6           6.9          2.3   virginica\n",
       "119           6.0          2.2           5.0          1.5   virginica\n",
       "\n",
       "[70 rows x 5 columns]"
      ]
     },
     "execution_count": 20,
     "metadata": {},
     "output_type": "execute_result"
    }
   ],
   "source": [
    "number_two = iris_dataset_copy.iloc[50:120]\n",
    "number_two"
   ]
  },
  {
   "cell_type": "code",
   "execution_count": 21,
   "metadata": {},
   "outputs": [
    {
     "ename": "AttributeError",
     "evalue": "'DataFrame' object has no attribute 'concat'",
     "output_type": "error",
     "traceback": [
      "\u001b[0;31m---------------------------------------------------------------------------\u001b[0m",
      "\u001b[0;31mAttributeError\u001b[0m                            Traceback (most recent call last)",
      "Cell \u001b[0;32mIn[21], line 3\u001b[0m\n\u001b[1;32m      1\u001b[0m \u001b[38;5;66;03m# Q2 - Now concatenate the two dataframes into Iris_2 a new dataframe. hint use .concat()\u001b[39;00m\n\u001b[0;32m----> 3\u001b[0m iris_2 \u001b[38;5;241m=\u001b[39m \u001b[43miris_dataset_copy\u001b[49m\u001b[38;5;241;43m.\u001b[39;49m\u001b[43mconcat\u001b[49m([number_one \u001b[38;5;129;01mand\u001b[39;00m number_2])\n\u001b[1;32m      4\u001b[0m iris_2\n",
      "File \u001b[0;32m~/anaconda3/lib/python3.10/site-packages/pandas/core/generic.py:5902\u001b[0m, in \u001b[0;36mNDFrame.__getattr__\u001b[0;34m(self, name)\u001b[0m\n\u001b[1;32m   5895\u001b[0m \u001b[38;5;28;01mif\u001b[39;00m (\n\u001b[1;32m   5896\u001b[0m     name \u001b[38;5;129;01mnot\u001b[39;00m \u001b[38;5;129;01min\u001b[39;00m \u001b[38;5;28mself\u001b[39m\u001b[38;5;241m.\u001b[39m_internal_names_set\n\u001b[1;32m   5897\u001b[0m     \u001b[38;5;129;01mand\u001b[39;00m name \u001b[38;5;129;01mnot\u001b[39;00m \u001b[38;5;129;01min\u001b[39;00m \u001b[38;5;28mself\u001b[39m\u001b[38;5;241m.\u001b[39m_metadata\n\u001b[1;32m   5898\u001b[0m     \u001b[38;5;129;01mand\u001b[39;00m name \u001b[38;5;129;01mnot\u001b[39;00m \u001b[38;5;129;01min\u001b[39;00m \u001b[38;5;28mself\u001b[39m\u001b[38;5;241m.\u001b[39m_accessors\n\u001b[1;32m   5899\u001b[0m     \u001b[38;5;129;01mand\u001b[39;00m \u001b[38;5;28mself\u001b[39m\u001b[38;5;241m.\u001b[39m_info_axis\u001b[38;5;241m.\u001b[39m_can_hold_identifiers_and_holds_name(name)\n\u001b[1;32m   5900\u001b[0m ):\n\u001b[1;32m   5901\u001b[0m     \u001b[38;5;28;01mreturn\u001b[39;00m \u001b[38;5;28mself\u001b[39m[name]\n\u001b[0;32m-> 5902\u001b[0m \u001b[38;5;28;01mreturn\u001b[39;00m \u001b[38;5;28;43mobject\u001b[39;49m\u001b[38;5;241;43m.\u001b[39;49m\u001b[38;5;21;43m__getattribute__\u001b[39;49m\u001b[43m(\u001b[49m\u001b[38;5;28;43mself\u001b[39;49m\u001b[43m,\u001b[49m\u001b[43m \u001b[49m\u001b[43mname\u001b[49m\u001b[43m)\u001b[49m\n",
      "\u001b[0;31mAttributeError\u001b[0m: 'DataFrame' object has no attribute 'concat'"
     ]
    }
   ],
   "source": [
    "# Q2 - Now concatenate the two dataframes into Iris_2 a new dataframe. hint use .concat()\n",
    "# This comes with an error - reason? (below)\n",
    "iris_2 = iris_dataset_copy.concat([number_one and number_2])\n",
    "iris_2"
   ]
  },
  {
   "cell_type": "markdown",
   "metadata": {},
   "source": [
    "- The error is because `concat()` is not a method of individual DataFrame objects like `iris_dataset_copy`. \n",
    "- Instead, `concat()` is a function provided by Pandas `pd.concat()` specifically designed to concatenate or join multiple DataFrames together along rows or columns. \n",
    "- It's used to combine DataFrames into a single DataFrame, preserving the original structure of the individual DataFrames.\n",
    "- So, one should use `pd.concat()` because it's the correct way to concatenate DataFrames in Pandas, allowing you to efficiently combine data from multiple sources or parts of a dataset."
   ]
  },
  {
   "cell_type": "code",
   "execution_count": 22,
   "metadata": {},
   "outputs": [
    {
     "data": {
      "text/html": [
       "<div>\n",
       "<style scoped>\n",
       "    .dataframe tbody tr th:only-of-type {\n",
       "        vertical-align: middle;\n",
       "    }\n",
       "\n",
       "    .dataframe tbody tr th {\n",
       "        vertical-align: top;\n",
       "    }\n",
       "\n",
       "    .dataframe thead th {\n",
       "        text-align: right;\n",
       "    }\n",
       "</style>\n",
       "<table border=\"1\" class=\"dataframe\">\n",
       "  <thead>\n",
       "    <tr style=\"text-align: right;\">\n",
       "      <th></th>\n",
       "      <th>sepal_length</th>\n",
       "      <th>sepal_width</th>\n",
       "      <th>petal_length</th>\n",
       "      <th>petal_width</th>\n",
       "      <th>species</th>\n",
       "    </tr>\n",
       "  </thead>\n",
       "  <tbody>\n",
       "    <tr>\n",
       "      <th>1</th>\n",
       "      <td>4.9</td>\n",
       "      <td>3.0</td>\n",
       "      <td>1.4</td>\n",
       "      <td>0.2</td>\n",
       "      <td>setosa</td>\n",
       "    </tr>\n",
       "    <tr>\n",
       "      <th>2</th>\n",
       "      <td>4.7</td>\n",
       "      <td>3.2</td>\n",
       "      <td>1.3</td>\n",
       "      <td>0.2</td>\n",
       "      <td>setosa</td>\n",
       "    </tr>\n",
       "    <tr>\n",
       "      <th>3</th>\n",
       "      <td>4.6</td>\n",
       "      <td>3.1</td>\n",
       "      <td>1.5</td>\n",
       "      <td>0.2</td>\n",
       "      <td>setosa</td>\n",
       "    </tr>\n",
       "    <tr>\n",
       "      <th>50</th>\n",
       "      <td>7.0</td>\n",
       "      <td>3.2</td>\n",
       "      <td>4.7</td>\n",
       "      <td>1.4</td>\n",
       "      <td>versicolor</td>\n",
       "    </tr>\n",
       "    <tr>\n",
       "      <th>51</th>\n",
       "      <td>6.4</td>\n",
       "      <td>3.2</td>\n",
       "      <td>4.5</td>\n",
       "      <td>1.5</td>\n",
       "      <td>versicolor</td>\n",
       "    </tr>\n",
       "    <tr>\n",
       "      <th>...</th>\n",
       "      <td>...</td>\n",
       "      <td>...</td>\n",
       "      <td>...</td>\n",
       "      <td>...</td>\n",
       "      <td>...</td>\n",
       "    </tr>\n",
       "    <tr>\n",
       "      <th>115</th>\n",
       "      <td>6.4</td>\n",
       "      <td>3.2</td>\n",
       "      <td>5.3</td>\n",
       "      <td>2.3</td>\n",
       "      <td>virginica</td>\n",
       "    </tr>\n",
       "    <tr>\n",
       "      <th>116</th>\n",
       "      <td>6.5</td>\n",
       "      <td>3.0</td>\n",
       "      <td>5.5</td>\n",
       "      <td>1.8</td>\n",
       "      <td>virginica</td>\n",
       "    </tr>\n",
       "    <tr>\n",
       "      <th>117</th>\n",
       "      <td>7.7</td>\n",
       "      <td>3.8</td>\n",
       "      <td>6.7</td>\n",
       "      <td>2.2</td>\n",
       "      <td>virginica</td>\n",
       "    </tr>\n",
       "    <tr>\n",
       "      <th>118</th>\n",
       "      <td>7.7</td>\n",
       "      <td>2.6</td>\n",
       "      <td>6.9</td>\n",
       "      <td>2.3</td>\n",
       "      <td>virginica</td>\n",
       "    </tr>\n",
       "    <tr>\n",
       "      <th>119</th>\n",
       "      <td>6.0</td>\n",
       "      <td>2.2</td>\n",
       "      <td>5.0</td>\n",
       "      <td>1.5</td>\n",
       "      <td>virginica</td>\n",
       "    </tr>\n",
       "  </tbody>\n",
       "</table>\n",
       "<p>73 rows × 5 columns</p>\n",
       "</div>"
      ],
      "text/plain": [
       "     sepal_length  sepal_width  petal_length  petal_width     species\n",
       "1             4.9          3.0           1.4          0.2      setosa\n",
       "2             4.7          3.2           1.3          0.2      setosa\n",
       "3             4.6          3.1           1.5          0.2      setosa\n",
       "50            7.0          3.2           4.7          1.4  versicolor\n",
       "51            6.4          3.2           4.5          1.5  versicolor\n",
       "..            ...          ...           ...          ...         ...\n",
       "115           6.4          3.2           5.3          2.3   virginica\n",
       "116           6.5          3.0           5.5          1.8   virginica\n",
       "117           7.7          3.8           6.7          2.2   virginica\n",
       "118           7.7          2.6           6.9          2.3   virginica\n",
       "119           6.0          2.2           5.0          1.5   virginica\n",
       "\n",
       "[73 rows x 5 columns]"
      ]
     },
     "execution_count": 22,
     "metadata": {},
     "output_type": "execute_result"
    }
   ],
   "source": [
    "iris_2 = pd.concat([number_one, number_two])\n",
    "iris_2"
   ]
  },
  {
   "cell_type": "markdown",
   "metadata": {
    "slideshow": {
     "slide_type": "subslide"
    }
   },
   "source": [
    "<div style=\"background-color:beige;color:beige\">\n",
    "\n",
    "<h1 style=\"padding:1em;text-align:center;color:#00008B\">Renaming Columns</h1>\n",
    "\n",
    "<ul><li><span style=\"color:#00008B;font-size:20px\">\n",
    "Using .rename() will allow you to rename either index or columns <br><br>\n",
    "You habe to specify which ones<br><br>\n",
    "\n",
    "Example: data.rename(columns= {'Original column name':'New columns name'}, inplace=True)\n",
    "\n",
    "<br><br>\n",
    "\n",
    "</span></li></ul>\n",
    "    \n",
    "<footer>\n",
    "<table style=\"border:none;width:100%\">\n",
    "<tr><td style= \"text-align:left;background-color:blue;color:white;font-size:80%;\"> Farah Ibrar </td><td style= \"text-align:right;background-color:blue;color:white;font-size:80%;\"> Programming in Python </td></tr></table>\n",
    "</footer>\n",
    "\n",
    "</div>\n"
   ]
  },
  {
   "cell_type": "code",
   "execution_count": 23,
   "metadata": {},
   "outputs": [
    {
     "name": "stdout",
     "output_type": "stream",
     "text": [
      "     sepal_length  sepal_width  petal_length  petal_width    species\n",
      "0             5.1          3.5           1.4          0.2     setosa\n",
      "1             4.9          3.0           1.4          0.2     setosa\n",
      "2             4.7          3.2           1.3          0.2     setosa\n",
      "3             4.6          3.1           1.5          0.2     setosa\n",
      "4             5.0          3.6           1.4          0.2     setosa\n",
      "..            ...          ...           ...          ...        ...\n",
      "145           6.7          3.0           5.2          2.3  virginica\n",
      "146           6.3          2.5           5.0          1.9  virginica\n",
      "147           6.5          3.0           5.2          2.0  virginica\n",
      "148           6.2          3.4           5.4          2.3  virginica\n",
      "149           5.9          3.0           5.1          1.8  virginica\n",
      "\n",
      "[150 rows x 5 columns]\n"
     ]
    }
   ],
   "source": [
    "print (iris_dataset_copy)"
   ]
  },
  {
   "cell_type": "code",
   "execution_count": 27,
   "metadata": {
    "slideshow": {
     "slide_type": "subslide"
    }
   },
   "outputs": [
    {
     "name": "stdout",
     "output_type": "stream",
     "text": [
      "    SL   SW   PL   PW species\n",
      "0  5.1  3.5  1.4  0.2  setosa\n",
      "1  4.9  3.0  1.4  0.2  setosa\n",
      "2  4.7  3.2  1.3  0.2  setosa\n",
      "3  4.6  3.1  1.5  0.2  setosa\n",
      "4  5.0  3.6  1.4  0.2  setosa\n"
     ]
    }
   ],
   "source": [
    "# Try renaming columns to (SL, SW, PL, PW)\n",
    "iris_dataset_copy.rename(columns={'sepal_length': 'SL', 'sepal_width': 'SW', 'petal_length': 'PL', 'petal_width': 'PW'}, inplace=True)\n",
    "\n",
    "# Print the DataFrame to verify\n",
    "print(iris_dataset_copy.head())"
   ]
  },
  {
   "cell_type": "markdown",
   "metadata": {
    "slideshow": {
     "slide_type": "subslide"
    }
   },
   "source": [
    "### Question:\n",
    "For each length type:\n",
    "Find out the average length for each species, Then figure out for each length type, which species has the highest average?"
   ]
  },
  {
   "cell_type": "code",
   "execution_count": 32,
   "metadata": {},
   "outputs": [
    {
     "name": "stdout",
     "output_type": "stream",
     "text": [
      "Average length for each species:\n",
      "               SL     SW     PL     PW\n",
      "species                               \n",
      "setosa      5.006  3.428  1.462  0.246\n",
      "versicolor  5.936  2.770  4.260  1.326\n",
      "virginica   6.588  2.974  5.552  2.026\n"
     ]
    }
   ],
   "source": [
    "# Group by species and calculate the mean\n",
    "avg_lengths_species = iris_dataset_copy.groupby('species').mean()\n",
    "\n",
    "# Display the average length for each species\n",
    "print(\"Average length for each species:\")\n",
    "print(avg_lengths_species)"
   ]
  },
  {
   "cell_type": "code",
   "execution_count": 33,
   "metadata": {},
   "outputs": [
    {
     "name": "stdout",
     "output_type": "stream",
     "text": [
      "Species with the highest average length for each length type:\n",
      "SL    virginica\n",
      "SW       setosa\n",
      "PL    virginica\n",
      "PW    virginica\n",
      "dtype: object\n"
     ]
    }
   ],
   "source": [
    "# Group by species and calculate the mean\n",
    "avg_lengths_species = iris_dataset_copy.groupby('species').mean()\n",
    "\n",
    "# Find the species with the highest average length for each length type\n",
    "highest_avg_species = avg_lengths_species.idxmax()\n",
    "\n",
    "# Display the results\n",
    "print(\"Species with the highest average length for each length type:\")\n",
    "print(highest_avg_species)"
   ]
  },
  {
   "cell_type": "markdown",
   "metadata": {
    "slideshow": {
     "slide_type": "subslide"
    }
   },
   "source": [
    "### Explanation:\n",
    "1. **Group by Species**: `iris_dataset_copy.groupby('species').mean()` groups the DataFrame by species and calculates the mean of each numerical column (`SL`, `SW`, `PL`, `PW`).\n",
    "\n",
    "2. **Find Species with Highest Average Length**:\n",
    "   - `avg_lengths.idxmax()` finds the index (species name) with the highest value in each column.\n",
    "   - This will give you a Series where each index represents a type of length (e.g., 'SL', 'SW', 'PL', 'PW') and each value is the species with the highest average length for that type.\n",
    "\n",
    "3. **Print Results**:\n",
    "   - `print(highest_avg_lengths)` prints the species with the highest average length for each type of length."
   ]
  },
  {
   "cell_type": "markdown",
   "metadata": {
    "slideshow": {
     "slide_type": "subslide"
    }
   },
   "source": [
    "<div style=\"background-color:beige;color:beige\">\n",
    "\n",
    "<h1 style=\"padding:1em;text-align:center;color:#00008B\">Graphical Analysis</h1>\n",
    "\n",
    "<ul><li><span style=\"color:#00008B;font-size:20px\">\n",
    "\n",
    "\n",
    "Visualisation Libraries<br>\n",
    "<ul>\n",
    "  <li> pandas </li>\n",
    "  <li> seaborn </li>\n",
    "  <li> matplotlib</li>\n",
    "</ul>\n",
    "    \n",
    "<br><br>\n",
    "\n",
    "</span></li></ul>\n",
    "    \n",
    "<footer>\n",
    "<table style=\"border:none;width:100%\">\n",
    "<tr><td style= \"text-align:left;background-color:blue;color:white;font-size:80%;\"> Farah Ibrar </td><td style= \"text-align:right;background-color:blue;color:white;font-size:80%;\"> Programming in Python </td></tr></table>\n",
    "</footer>\n",
    "\n",
    "</div>\n"
   ]
  },
  {
   "cell_type": "code",
   "execution_count": 28,
   "metadata": {
    "slideshow": {
     "slide_type": "subslide"
    }
   },
   "outputs": [
    {
     "data": {
      "text/html": [
       "<div>\n",
       "<style scoped>\n",
       "    .dataframe tbody tr th:only-of-type {\n",
       "        vertical-align: middle;\n",
       "    }\n",
       "\n",
       "    .dataframe tbody tr th {\n",
       "        vertical-align: top;\n",
       "    }\n",
       "\n",
       "    .dataframe thead th {\n",
       "        text-align: right;\n",
       "    }\n",
       "</style>\n",
       "<table border=\"1\" class=\"dataframe\">\n",
       "  <thead>\n",
       "    <tr style=\"text-align: right;\">\n",
       "      <th></th>\n",
       "      <th>SL</th>\n",
       "      <th>SW</th>\n",
       "      <th>PL</th>\n",
       "      <th>PW</th>\n",
       "      <th>species</th>\n",
       "    </tr>\n",
       "  </thead>\n",
       "  <tbody>\n",
       "    <tr>\n",
       "      <th>0</th>\n",
       "      <td>5.1</td>\n",
       "      <td>3.5</td>\n",
       "      <td>1.4</td>\n",
       "      <td>0.2</td>\n",
       "      <td>setosa</td>\n",
       "    </tr>\n",
       "    <tr>\n",
       "      <th>1</th>\n",
       "      <td>4.9</td>\n",
       "      <td>3.0</td>\n",
       "      <td>1.4</td>\n",
       "      <td>0.2</td>\n",
       "      <td>setosa</td>\n",
       "    </tr>\n",
       "    <tr>\n",
       "      <th>2</th>\n",
       "      <td>4.7</td>\n",
       "      <td>3.2</td>\n",
       "      <td>1.3</td>\n",
       "      <td>0.2</td>\n",
       "      <td>setosa</td>\n",
       "    </tr>\n",
       "    <tr>\n",
       "      <th>3</th>\n",
       "      <td>4.6</td>\n",
       "      <td>3.1</td>\n",
       "      <td>1.5</td>\n",
       "      <td>0.2</td>\n",
       "      <td>setosa</td>\n",
       "    </tr>\n",
       "    <tr>\n",
       "      <th>4</th>\n",
       "      <td>5.0</td>\n",
       "      <td>3.6</td>\n",
       "      <td>1.4</td>\n",
       "      <td>0.2</td>\n",
       "      <td>setosa</td>\n",
       "    </tr>\n",
       "    <tr>\n",
       "      <th>...</th>\n",
       "      <td>...</td>\n",
       "      <td>...</td>\n",
       "      <td>...</td>\n",
       "      <td>...</td>\n",
       "      <td>...</td>\n",
       "    </tr>\n",
       "    <tr>\n",
       "      <th>145</th>\n",
       "      <td>6.7</td>\n",
       "      <td>3.0</td>\n",
       "      <td>5.2</td>\n",
       "      <td>2.3</td>\n",
       "      <td>virginica</td>\n",
       "    </tr>\n",
       "    <tr>\n",
       "      <th>146</th>\n",
       "      <td>6.3</td>\n",
       "      <td>2.5</td>\n",
       "      <td>5.0</td>\n",
       "      <td>1.9</td>\n",
       "      <td>virginica</td>\n",
       "    </tr>\n",
       "    <tr>\n",
       "      <th>147</th>\n",
       "      <td>6.5</td>\n",
       "      <td>3.0</td>\n",
       "      <td>5.2</td>\n",
       "      <td>2.0</td>\n",
       "      <td>virginica</td>\n",
       "    </tr>\n",
       "    <tr>\n",
       "      <th>148</th>\n",
       "      <td>6.2</td>\n",
       "      <td>3.4</td>\n",
       "      <td>5.4</td>\n",
       "      <td>2.3</td>\n",
       "      <td>virginica</td>\n",
       "    </tr>\n",
       "    <tr>\n",
       "      <th>149</th>\n",
       "      <td>5.9</td>\n",
       "      <td>3.0</td>\n",
       "      <td>5.1</td>\n",
       "      <td>1.8</td>\n",
       "      <td>virginica</td>\n",
       "    </tr>\n",
       "  </tbody>\n",
       "</table>\n",
       "<p>150 rows × 5 columns</p>\n",
       "</div>"
      ],
      "text/plain": [
       "      SL   SW   PL   PW    species\n",
       "0    5.1  3.5  1.4  0.2     setosa\n",
       "1    4.9  3.0  1.4  0.2     setosa\n",
       "2    4.7  3.2  1.3  0.2     setosa\n",
       "3    4.6  3.1  1.5  0.2     setosa\n",
       "4    5.0  3.6  1.4  0.2     setosa\n",
       "..   ...  ...  ...  ...        ...\n",
       "145  6.7  3.0  5.2  2.3  virginica\n",
       "146  6.3  2.5  5.0  1.9  virginica\n",
       "147  6.5  3.0  5.2  2.0  virginica\n",
       "148  6.2  3.4  5.4  2.3  virginica\n",
       "149  5.9  3.0  5.1  1.8  virginica\n",
       "\n",
       "[150 rows x 5 columns]"
      ]
     },
     "execution_count": 28,
     "metadata": {},
     "output_type": "execute_result"
    },
    {
     "data": {
      "image/png": "[encoded data removed]",
      "text/plain": [
       "<Figure size 640x480 with 1 Axes>"
      ]
     },
     "metadata": {},
     "output_type": "display_data"
    }
   ],
   "source": [
    "# to plot a simple graph use .plot() with your dataframe - Try below\n",
    "iris_dataset_copy.plot()\n",
    "iris_dataset_copy"
   ]
  },
  {
   "cell_type": "markdown",
   "metadata": {
    "slideshow": {
     "slide_type": "subslide"
    }
   },
   "source": [
    "- The `.plot()` function in Pandas generates a simple line plot by default when applied directly to a DataFrame. \n",
    "- This might not be the most meaningful representation for all types of data, especially when working with a DataFrame that contains both numeric and categorical data like the Iris dataset.\n",
    "\n",
    "\n",
    "To plot a meaningful graph, it's important to select appropriate columns and plot types. For example, plotting numerical columns like 'SL' (sepal length), 'SW' (sepal width), 'PL' (petal length), and 'PW' (petal width) against each other or against the index would make more sense. Here’s how you can plot these columns:\n",
    "\n",
    "### Explanation:\n",
    "1. **Scatter Plot**: `.plot()` with `kind='scatter'` is used to create scatter plots, which are suitable for comparing two numeric variables.\n",
    "\n",
    "2. **Plotting Example**: The first plot (`Sepal Length vs Sepal Width`) plots 'SL' against 'SW', and the second plot (`Petal Length vs Petal Width`) plots 'PL' against 'PW'.\n",
    "\n",
    "3. **Matplotlib**: Matplotlib is used to customize the plot by adding titles, labels, and showing the plot.\n",
    "\n",
    "### Output:\n",
    "- Scatter plot of Sepal Length vs Sepal Width\n",
    "- Scatter plot of Petal Length vs Petal Width"
   ]
  },
  {
   "cell_type": "markdown",
   "metadata": {
    "slideshow": {
     "slide_type": "subslide"
    }
   },
   "source": [
    "- `import matplotlib.pyplot as plt`: This line imports the `pyplot` module from the `matplotlib` library under the alias `plt`, which provides a MATLAB-like plotting framework."
   ]
  },
  {
   "cell_type": "code",
   "execution_count": 30,
   "metadata": {
    "slideshow": {
     "slide_type": "subslide"
    }
   },
   "outputs": [
    {
     "data": {
      "image/png": "[encoded data removed]",
      "text/plain": [
       "<Figure size 800x1000 with 2 Axes>"
      ]
     },
     "metadata": {},
     "output_type": "display_data"
    }
   ],
   "source": [
    "import matplotlib.pyplot as plt\n",
    "\n",
    "# Plotting numerical columns against each other\n",
    "fig, axes = plt.subplots(nrows=2, figsize=(8, 10))\n",
    "\n",
    "# Plot 1: Sepal Length vs Sepal Width\n",
    "iris_dataset_copy.plot(x='SL', y='SW', kind='scatter', ax=axes[0], title='Sepal Length vs Sepal Width')\n",
    "axes[0].set_xlabel('Sepal Length')\n",
    "axes[0].set_ylabel('Sepal Width')\n",
    "\n",
    "# Plot 2: Petal Length vs Petal Width\n",
    "iris_dataset_copy.plot(x='PL', y='PW', kind='scatter', ax=axes[1], title='Petal Length vs Petal Width')\n",
    "axes[1].set_xlabel('Petal Length')\n",
    "axes[1].set_ylabel('Petal Width')\n",
    "\n",
    "# Adjust layout to prevent overlapping - you can also skip this\n",
    "plt.tight_layout()\n",
    "\n",
    "# Save the figure as PNG format (you can change the format as needed)\n",
    "plt.savefig('/Users/farah/Desktop/iris_plots.png')\n",
    "\n",
    "# Display the plot\n",
    "plt.show()"
   ]
  },
  {
   "cell_type": "markdown",
   "metadata": {
    "slideshow": {
     "slide_type": "slide"
    }
   },
   "source": [
    "<div style=\"background-color:beige;color:beige\">\n",
    "\n",
    "<h1 style=\"padding:1em;text-align:center;color:#00008B\">Graphical Analysis</h1>\n",
    "\n",
    "<ul><li><span style=\"color:#00008B;font-size:20px\">\n",
    "\n",
    "\n",
    "Graphical Analysis<br>\n",
    "<ul>\n",
    "  <li> Using Sublpots will automatically create plots according to the amount of columns you have.</li>\n",
    "  <li> Example: data.plot(subplots=True, figsize=(8, 8))</li>\n",
    "</ul>\n",
    "    \n",
    "<br><br>\n",
    "\n",
    "</span></li></ul>\n",
    "    \n",
    "<footer>\n",
    "<table style=\"border:none;width:100%\">\n",
    "<tr><td style= \"text-align:left;background-color:blue;color:white;font-size:80%;\"> Farah Ibrar </td><td style= \"text-align:right;background-color:blue;color:white;font-size:80%;\"> Programming in Python </td></tr></table>\n",
    "</footer>\n",
    "\n",
    "</div>"
   ]
  },
  {
   "cell_type": "code",
   "execution_count": 35,
   "metadata": {
    "slideshow": {
     "slide_type": "subslide"
    }
   },
   "outputs": [
    {
     "data": {
      "image/png": "[encoded data removed]",
      "text/plain": [
       "<Figure size 1000x1000 with 4 Axes>"
      ]
     },
     "metadata": {},
     "output_type": "display_data"
    }
   ],
   "source": [
    "import matplotlib.pyplot as plt\n",
    "\n",
    "# Create subplots for each column\n",
    "iris_dataset_copy.plot(subplots=True, figsize=(10, 10))\n",
    "\n",
    "# Adjust layout to prevent overlapping\n",
    "plt.tight_layout()\n",
    "\n",
    "# Specify the file path where you want to save the plots\n",
    "file_path = '/Users/farah/Desktop/iris_subplots.png'\n",
    "\n",
    "# Save the figure as PNG format\n",
    "plt.savefig(file_path)\n",
    "\n",
    "# Show the plot\n",
    "plt.show()"
   ]
  },
  {
   "cell_type": "markdown",
   "metadata": {
    "slideshow": {
     "slide_type": "subslide"
    }
   },
   "source": [
    "### Explanation:\n",
    "- **Create Subplots**: `iris_dataset_copy.plot(subplots=True, figsize=(10, 10))` creates subplots for each column in the DataFrame.\n",
    "  - `subplots=True` creates separate subplots for each column.\n",
    "  - `figsize=(10, 10)` sets the figure size to 10x10 inches.\n",
    "\n",
    "- **Adjust Layout**: `plt.tight_layout()` adjusts the layout to prevent overlapping of subplots.\n",
    "\n",
    "- **Specify File Path**: `file_path = '/Users/your_username/Desktop/iris_subplots.png'` specifies the file path where you want to save the plots. Replace `'your_username'` with your actual Mac username.\n",
    "\n",
    "- **Save the Figure**: `plt.savefig(file_path)` saves the figure as 'iris_subplots.png' at the specified file path.\n",
    "\n",
    "- **Show the Plot**: `plt.show()` displays the plot on your screen."
   ]
  },
  {
   "cell_type": "markdown",
   "metadata": {
    "slideshow": {
     "slide_type": "subslide"
    }
   },
   "source": [
    "<div style=\"background-color:beige;color:beige\">\n",
    "\n",
    "<h1 style=\"padding:1em;text-align:center;color:#00008B\">Other plots with pandas</h1>\n",
    "\n",
    "<ul><li><span style=\"color:#00008B;font-size:20px\">\n",
    "\n",
    "\n",
    "Graphical Analysis<br>\n",
    "<ul>\n",
    "  <li> Bar Graph - Example: df.plot(kind='bar')</li>\n",
    "  <li> Histogram - Example: df.plot.hist()</li>\n",
    "  <li> Boxplot - Example: df.plot.box() or df.boxplot()</li>\n",
    "  <li> Scatter plot - Example: df.plot.scatter(x='define', y='define')</li>\n",
    "</ul>\n",
    "    \n",
    "<br><br>\n",
    "\n",
    "</span></li></ul>\n",
    "    \n",
    "<footer>\n",
    "<table style=\"border:none;width:100%\">\n",
    "<tr><td style= \"text-align:left;background-color:blue;color:white;font-size:80%;\"> Farah Ibrar </td><td style= \"text-align:right;background-color:blue;color:white;font-size:80%;\"> Programming in Python </td></tr></table>\n",
    "</footer>\n",
    "\n",
    "</div>"
   ]
  },
  {
   "cell_type": "markdown",
   "metadata": {
    "slideshow": {
     "slide_type": "subslide"
    }
   },
   "source": [
    "__Now you try!__"
   ]
  },
  {
   "cell_type": "markdown",
   "metadata": {
    "slideshow": {
     "slide_type": "slide"
    }
   },
   "source": [
    "### 1. Bar Graph\n",
    "A bar graph can be used to show the distribution of a categorical variable."
   ]
  },
  {
   "cell_type": "code",
   "execution_count": 36,
   "metadata": {
    "slideshow": {
     "slide_type": "subslide"
    }
   },
   "outputs": [
    {
     "data": {
      "image/png": "[encoded data removed]",
      "text/plain": [
       "<Figure size 800x600 with 1 Axes>"
      ]
     },
     "metadata": {},
     "output_type": "display_data"
    }
   ],
   "source": [
    "#Try plotting a Bargraph\n",
    "\n",
    "import matplotlib.pyplot as plt\n",
    "\n",
    "# Bar graph\n",
    "iris_dataset_copy['species'].value_counts().plot(kind='bar', figsize=(8, 6))\n",
    "plt.title('Species Distribution')\n",
    "plt.xlabel('Species')\n",
    "plt.ylabel('Count')\n",
    "\n",
    "# Save the figure\n",
    "file_path = '/Users/farah/Desktop/iris_species_bar.png'\n",
    "plt.savefig(file_path)\n",
    "\n",
    "# Show the plot\n",
    "plt.show()"
   ]
  },
  {
   "cell_type": "markdown",
   "metadata": {},
   "source": [
    "### Explanation:\n",
    "- **Bar Graph**: `iris_dataset_copy['species'].value_counts().plot(kind='bar', figsize=(8, 6))` creates a bar graph showing the count of each species.\n",
    "  - `kind='bar'` specifies the type of plot as a bar graph.\n",
    "  - `figsize=(8, 6)` sets the figure size to 8x6 inches.\n",
    "- **Title and Labels**: `plt.title('Species Distribution')`, `plt.xlabel('Species')`, `plt.ylabel('Count')` set the title and axis labels.\n",
    "- **Save the Figure**: `plt.savefig(file_path)` saves the figure as 'iris_species_bar.png' to your desktop.\n",
    "- **Show the Plot**: `plt.show()` displays the plot."
   ]
  },
  {
   "cell_type": "markdown",
   "metadata": {
    "slideshow": {
     "slide_type": "slide"
    }
   },
   "source": [
    "### 2. Histogram\n",
    "A histogram is used to visualize the distribution of a numerical variable."
   ]
  },
  {
   "cell_type": "code",
   "execution_count": 37,
   "metadata": {
    "slideshow": {
     "slide_type": "subslide"
    }
   },
   "outputs": [
    {
     "data": {
      "image/png": "[encoded data removed]",
      "text/plain": [
       "<Figure size 800x600 with 1 Axes>"
      ]
     },
     "metadata": {},
     "output_type": "display_data"
    }
   ],
   "source": [
    "#Try plotting a Histogram\n",
    "\n",
    "# Histogram\n",
    "iris_dataset_copy['PL'].plot.hist(figsize=(8, 6))\n",
    "plt.title('Petal Length Distribution')\n",
    "plt.xlabel('Petal Length (cm)')\n",
    "plt.ylabel('Frequency')\n",
    "\n",
    "# Save the figure\n",
    "file_path = '/Users/farah/Desktop/iris_petal_length_hist.png'\n",
    "plt.savefig(file_path)\n",
    "\n",
    "# Show the plot\n",
    "plt.show()"
   ]
  },
  {
   "cell_type": "markdown",
   "metadata": {
    "slideshow": {
     "slide_type": "subslide"
    }
   },
   "source": [
    "### Explanation:\n",
    "- **Histogram**: `iris_dataset_copy['PL'].plot.hist(figsize=(8, 6))` creates a histogram of the 'PL' (Petal Length) column.\n",
    "- **Title and Labels**: `plt.title('Petal Length Distribution')`, `plt.xlabel('Petal Length (cm)')`, `plt.ylabel('Frequency')` set the title and axis labels.\n",
    "- **Save the Figure**: `plt.savefig(file_path)` saves the figure as 'iris_petal_length_hist.png' to your desktop.\n",
    "- **Show the Plot**: `plt.show()` displays the plot."
   ]
  },
  {
   "cell_type": "markdown",
   "metadata": {
    "slideshow": {
     "slide_type": "slide"
    }
   },
   "source": [
    "### 3. Boxplot\n",
    "A boxplot is used to show the distribution of numerical data in quartiles."
   ]
  },
  {
   "cell_type": "code",
   "execution_count": 38,
   "metadata": {
    "slideshow": {
     "slide_type": "subslide"
    }
   },
   "outputs": [
    {
     "data": {
      "image/png": "[encoded data removed]",
      "text/plain": [
       "<Figure size 1000x800 with 1 Axes>"
      ]
     },
     "metadata": {},
     "output_type": "display_data"
    }
   ],
   "source": [
    "#Try plotting a Boxblot\n",
    "\n",
    "# Boxplot\n",
    "iris_dataset_copy[['SL', 'SW', 'PL', 'PW']].plot.box(figsize=(10, 8))\n",
    "plt.title('Boxplot of Sepal and Petal Dimensions')\n",
    "plt.ylabel('Length (cm)')\n",
    "\n",
    "# Save the figure\n",
    "file_path = '/Users/farah/Desktop/iris_boxplot.png'\n",
    "plt.savefig(file_path)\n",
    "\n",
    "# Show the plot\n",
    "plt.show()"
   ]
  },
  {
   "cell_type": "markdown",
   "metadata": {
    "slideshow": {
     "slide_type": "subslide"
    }
   },
   "source": [
    "### Explanation:\n",
    "- **Boxplot**: `iris_dataset_copy[['SL', 'SW', 'PL', 'PW']].plot.box(figsize=(10, 8))` creates a boxplot of the numerical columns 'SL', 'SW', 'PL', 'PW'.\n",
    "- **Title and Labels**: `plt.title('Boxplot of Sepal and Petal Dimensions')`, `plt.ylabel('Length (cm)')` set the title and axis labels.\n",
    "- **Save the Figure**: `plt.savefig(file_path)` saves the figure as 'iris_boxplot.png' to your desktop.\n",
    "- **Show the Plot**: `plt.show()` displays the plot."
   ]
  },
  {
   "cell_type": "markdown",
   "metadata": {
    "slideshow": {
     "slide_type": "slide"
    }
   },
   "source": [
    "### 4. Scatter Plot\n",
    "A scatter plot is used to show the relationship between two numerical variables."
   ]
  },
  {
   "cell_type": "code",
   "execution_count": 39,
   "metadata": {
    "slideshow": {
     "slide_type": "subslide"
    }
   },
   "outputs": [
    {
     "data": {
      "image/png": "[encoded data removed]",
      "text/plain": [
       "<Figure size 800x600 with 1 Axes>"
      ]
     },
     "metadata": {},
     "output_type": "display_data"
    }
   ],
   "source": [
    "#Try plotting a Scatterplot with column 1 and 3\n",
    "\n",
    "# Scatter plot\n",
    "iris_dataset_copy.plot.scatter(x='PL', y='PW', figsize=(8, 6))\n",
    "plt.title('Scatter Plot of Petal Length vs Petal Width')\n",
    "plt.xlabel('Petal Length (cm)')\n",
    "plt.ylabel('Petal Width (cm)')\n",
    "\n",
    "# Save the figure\n",
    "file_path = '/Users/farah/Desktop/iris_scatter_plot.png'\n",
    "plt.savefig(file_path)\n",
    "\n",
    "# Show the plot\n",
    "plt.show()"
   ]
  },
  {
   "cell_type": "markdown",
   "metadata": {
    "slideshow": {
     "slide_type": "subslide"
    }
   },
   "source": [
    "### Explanation:\n",
    "- **Scatter Plot**: `iris_dataset_copy.plot.scatter(x='PL', y='PW', figsize=(8, 6))` creates a scatter plot of 'PL' (Petal Length) vs 'PW' (Petal Width).\n",
    "- **Title and Labels**: `plt.title('Scatter Plot of Petal Length vs Petal Width')`, `plt.xlabel('Petal Length (cm)')`, `plt.ylabel('Petal Width (cm)')` set the title and axis labels.\n",
    "- **Save the Figure**: `plt.savefig(file_path)` saves the figure as 'iris_scatter_plot.png' to your desktop.\n",
    "- **Show the Plot**: `plt.show()` displays the plot."
   ]
  },
  {
   "cell_type": "markdown",
   "metadata": {},
   "source": [
    "<div style=\"background-color:beige;color:beige\">\n",
    "\n",
    "<h1 style=\"padding:1em;text-align:center;color:#00008B\">Exercise</h1>\n",
    "\n",
    "<ul><li><span style=\"color:#00008B;font-size:20px\">\n",
    "\n",
    "\n",
    "Graphical Analysis exercise of each columns<br>\n",
    "\n",
    "I want you to use all the information you have learnt so far. \n",
    "\n",
    "Task: Plot a bar graph of the means of each column in one graph. Note: not including the last one (species)\n",
    "<ul>\n",
    "  <li> Use the hints at your disposal</li>\n",
    "  <li> Don't be afraid to refer to previous slides</li>\n",
    "  <li> That's where the answer lies</li>\n",
    "  <li> GOOD LUCK! this is a more challenging exercise, but this will definelty help you with manipulating your own datasets - REMEMBER TO TAILOR IT TO YOUR DATASET!!!</li>\n",
    "</ul>\n",
    "     \n",
    "<br><br>\n",
    "\n",
    "</span></li></ul>\n",
    "    \n",
    "<footer>\n",
    "<table style=\"border:none;width:100%\">\n",
    "<tr><td style= \"text-align:left;background-color:blue;color:white;font-size:80%;\"> Farah Ibrar </td><td style= \"text-align:right;background-color:blue;color:white;font-size:80%;\"> Programming in Python </td></tr></table>\n",
    "</footer>\n",
    "\n",
    "</div>"
   ]
  },
  {
   "cell_type": "markdown",
   "metadata": {
    "slideshow": {
     "slide_type": "subslide"
    }
   },
   "source": [
    "__Task: Plot a bar graph of the means of each column in one graph.__"
   ]
  },
  {
   "cell_type": "code",
   "execution_count": null,
   "metadata": {
    "slideshow": {
     "slide_type": "subslide"
    }
   },
   "outputs": [],
   "source": [
    "# Hint 1: Isolate the 4 columns and re-define them."
   ]
  },
  {
   "cell_type": "code",
   "execution_count": null,
   "metadata": {
    "slideshow": {
     "slide_type": "subslide"
    }
   },
   "outputs": [],
   "source": [
    "#Hint 2: Use .mean() function to each of the columns."
   ]
  },
  {
   "cell_type": "code",
   "execution_count": null,
   "metadata": {
    "slideshow": {
     "slide_type": "subslide"
    }
   },
   "outputs": [],
   "source": [
    "#Hint 3: Refer to slide 4 to see how to create a dataframe. (Look carefully how the quote marks are placed)"
   ]
  },
  {
   "cell_type": "code",
   "execution_count": null,
   "metadata": {
    "slideshow": {
     "slide_type": "subslide"
    }
   },
   "outputs": [],
   "source": [
    "# Plot your bar graph below using the code-guide: "
   ]
  },
  {
   "cell_type": "code",
   "execution_count": 40,
   "metadata": {},
   "outputs": [
    {
     "data": {
      "image/png": "[encoded data removed]",
      "text/plain": [
       "<Figure size 1000x600 with 1 Axes>"
      ]
     },
     "metadata": {},
     "output_type": "display_data"
    }
   ],
   "source": [
    "# Import to make sure everything works smoothly\n",
    "\n",
    "import pandas as pd\n",
    "import matplotlib.pyplot as plt\n",
    "\n",
    "# Isolate the 4 columns and compute means\n",
    "means = iris_dataset_copy[['SL', 'SW', 'PL', 'PW']].mean()\n",
    "\n",
    "# Create a DataFrame for means\n",
    "means_df = pd.DataFrame({\n",
    "    'Feature': means.index,\n",
    "    'Mean Value': means.values\n",
    "})\n",
    "\n",
    "# Plot a bar graph\n",
    "means_df.plot(x='Feature', y='Mean Value', kind='bar', figsize=(10, 6))\n",
    "plt.title('Mean Values of Sepal and Petal Dimensions')\n",
    "plt.xlabel('Feature')\n",
    "plt.ylabel('Mean Value')\n",
    "\n",
    "# Save the figure to your desktop\n",
    "file_path = '/Users/farah/Desktop/iris_means_bar.png'\n",
    "plt.savefig(file_path)\n",
    "\n",
    "# Show the plot\n",
    "plt.show()"
   ]
  },
  {
   "cell_type": "markdown",
   "metadata": {},
   "source": [
    "### Steps to Achieve This:\n",
    "\n",
    "1. **Isolate the 4 Columns and Compute Means:**\n",
    "   - Extract the columns 'SL' (Sepal Length), 'SW' (Sepal Width), 'PL' (Petal Length), and 'PW' (Petal Width).\n",
    "   - Compute the mean of each column using the `.mean()` function.\n",
    "\n",
    "2. **Create a DataFrame for Means:**\n",
    "   - Create a new DataFrame with the means of each column.\n",
    "   - Set the column names as 'SL', 'SW', 'PL', and 'PW'.\n",
    "\n",
    "3. **Plot a Bar Graph:**\n",
    "   - Use `.plot(kind='bar')` to create a bar graph of the means of each column.\n",
    "\n",
    "4. **Save the Plot:**\n",
    "   - Save the plot to your desktop.\n",
    "\n",
    "### Explanation:\n",
    "- **Isolate the 4 Columns and Compute Means**: `iris_dataset_copy[['SL', 'SW', 'PL', 'PW']].mean()` selects the columns 'SL', 'SW', 'PL', and 'PW' from `iris_dataset_copy` and computes their means.\n",
    "\n",
    "- **Create a DataFrame for Means**: `pd.DataFrame({...})` creates a new DataFrame `means_df` with columns 'Feature' (column names) and 'Mean Value' (mean values).\n",
    "\n",
    "- **Plot a Bar Graph**: `means_df.plot(x='Feature', y='Mean Value', kind='bar', figsize=(10, 6))` creates a bar graph of mean values where x-axis is 'Feature' and y-axis is 'Mean Value'.\n",
    "\n",
    "- **Save the Figure**: `plt.savefig(file_path)` saves the figure as 'iris_means_bar.png' to your desktop. Replace `'your_username'` with your actual Mac username.\n",
    "\n",
    "- **Show the Plot**: `plt.show()` displays the plot."
   ]
  },
  {
   "cell_type": "code",
   "execution_count": 41,
   "metadata": {
    "slideshow": {
     "slide_type": "slide"
    }
   },
   "outputs": [],
   "source": [
    "# iris_dataset_copy is your DataFrame\n",
    "iris_dataset_copy.to_csv('/Users/farah/Desktop/iris_dataset_copy.csv', index=False)"
   ]
  }
 ],
 "metadata": {
  "celltoolbar": "Slideshow",
  "kernelspec": {
   "display_name": "Python 3 (ipykernel)",
   "language": "python",
   "name": "python3"
  },
  "language_info": {
   "codemirror_mode": {
    "name": "ipython",
    "version": 3
   },
   "file_extension": ".py",
   "mimetype": "text/x-python",
   "name": "python",
   "nbconvert_exporter": "python",
   "pygments_lexer": "ipython3",
   "version": "3.10.9"
  }
 },
 "nbformat": 4,
 "nbformat_minor": 4
}
