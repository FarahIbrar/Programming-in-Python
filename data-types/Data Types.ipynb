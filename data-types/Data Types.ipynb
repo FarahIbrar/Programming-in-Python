{
 "cells": [
  {
   "cell_type": "markdown",
   "metadata": {
    "slideshow": {
     "slide_type": "slide"
    }
   },
   "source": [
    "<div style=\"background-color:beige;color:beige\">\n",
    "<header>\n",
    "<h1 style=\"padding:1em;text-align:center;color:#00008B\">Basics of Python programming <br><br> Data Types </h1> \n",
    "</header>\n",
    "<br><br><br><br><br><br>\n",
    "<footer>\n",
    "<table style=\"border:none;width:100%\">\n",
    "<tr><td style= \"text-align:left;background-color:blue;color:white;font-size:80%;\"> Farah Ibrar </td><td style= \"text-align:right;background-color:blue;color:white;font-size:80%;\"> Programming in Python </td></tr></table>\n",
    "</footer>\n",
    "\n",
    "</div>"
   ]
  },
  {
   "cell_type": "markdown",
   "metadata": {
    "slideshow": {
     "slide_type": "slide"
    }
   },
   "source": [
    "<div style=\"background-color:beige;color:beige\">\n",
    "<header>\n",
    "<h1 style=\"padding:1em;text-align:left;color:#00008B\">Outline</h1>\n",
    "</header>\n",
    "\n",
    "    \n",
    "<ul><li><span style=\"color:#00008B;font-size:24px\">Numeric - Integer, Float</span> <br><br>\n",
    "        <li><span style=\"color:#00008B; font-size:24px\">Strings </span> <br><br>\n",
    "        <li><span style=\"color:#00008B; font-size:24px\">Boolean </span>\n",
    "        </li>\n",
    "       </ul>\n",
    "\n",
    "<br><br><br><br>\n",
    "<footer>\n",
    "<table style=\"border:none;width:100%\">\n",
    "<tr><td style= \"text-align:left;background-color:blue;color:white;font-size:80%;\"> Farah Ibrar </td><td style= \"text-align:right;background-color:blue;color:white;font-size:80%;\"> Programming in Python </td></tr></table>\n",
    "</footer>\n",
    "\n",
    "</div>"
   ]
  },
  {
   "cell_type": "markdown",
   "metadata": {
    "slideshow": {
     "slide_type": "slide"
    }
   },
   "source": [
    "<div style=\"background-color:beige;color:beige\">\n",
    "\n",
    "<h2 style=\"padding:1em;text-align:left;color:#00008B\">Numeric - Integer</h2>\n",
    "\n",
    "<ul><li><span style=\"color:#00008B;font-size:20px\">\n",
    "Represents range of mathematical integer numbers. <br><br>\n",
    "Whole number (not a fraction) that can be positive, negative, or zero. E.g.: 565, -55, 0. <br><br>\n",
    "Works similar as in other programming languages. <br><br>\n",
    "<b>Syntax:</b> Variable_Name = Value <br>\n",
    "</span></li></ul> <br><br>\n",
    " \n",
    "\n",
    "<br><br><br><br>\n",
    "<footer>\n",
    "<table style=\"border:none;width:100%\">\n",
    "<tr><td style= \"text-align:left;background-color:blue;color:white;font-size:80%;\"> Farah Ibrar </td><td style= \"text-align:right;background-color:blue;color:white;font-size:80%;\"> Programming in Python </td></tr></table>\n",
    "</footer>\n",
    "\n",
    "</div>"
   ]
  },
  {
   "cell_type": "code",
   "execution_count": 1,
   "metadata": {
    "slideshow": {
     "slide_type": "subslide"
    }
   },
   "outputs": [],
   "source": [
    "# Creating a variable x which stores a value of 5\n",
    "x = 5"
   ]
  },
  {
   "cell_type": "code",
   "execution_count": 2,
   "metadata": {
    "slideshow": {
     "slide_type": "subslide"
    }
   },
   "outputs": [
    {
     "name": "stdout",
     "output_type": "stream",
     "text": [
      "5\n"
     ]
    }
   ],
   "source": [
    "# To check, specify the variable name or use print function, either of the following works fine: x or print(x)\n",
    "x\n",
    "print (x)"
   ]
  },
  {
   "cell_type": "code",
   "execution_count": 3,
   "metadata": {
    "slideshow": {
     "slide_type": "subslide"
    }
   },
   "outputs": [
    {
     "data": {
      "text/plain": [
       "-2"
      ]
     },
     "execution_count": 3,
     "metadata": {},
     "output_type": "execute_result"
    }
   ],
   "source": [
    "# Another example\n",
    "y = -2\n",
    "y"
   ]
  },
  {
   "cell_type": "code",
   "execution_count": 4,
   "metadata": {
    "slideshow": {
     "slide_type": "subslide"
    }
   },
   "outputs": [
    {
     "name": "stdout",
     "output_type": "stream",
     "text": [
      "Addition value is: 3\n",
      "Subtraction value is: 7\n",
      "Multiplication value is: -10\n",
      "Divison value is: -2.5\n"
     ]
    }
   ],
   "source": [
    "# Creating a variable x which stores a value of 5\n",
    "x = 5\n",
    "\n",
    "# To check, specify the variable name or use print function, either of the following works fine: x or print(x)\n",
    "x\n",
    "\n",
    "# Another example\n",
    "y = -2\n",
    "\n",
    "\n",
    "# Let's try some arithmetic operations - add, subtract, multiply and divde are variable names, which stores the \n",
    "# result values for addition, subtraction, multiplication and division respectively\n",
    "add = x+y\n",
    "subtract = x-y\n",
    "multiply = x*y\n",
    "divide = x/y\n",
    "\n",
    "print(\"Addition value is:\", add)\n",
    "print(\"Subtraction value is:\", subtract)\n",
    "print(\"Multiplication value is:\", multiply)\n",
    "print(\"Divison value is:\", divide)"
   ]
  },
  {
   "cell_type": "markdown",
   "metadata": {
    "slideshow": {
     "slide_type": "slide"
    }
   },
   "source": [
    "<div style=\"background-color:beige;color:beige\">\n",
    "\n",
    "<h1 style=\"padding:1em;text-align:center;color:#00008B\">EXERCISE</h1>\n",
    "\n",
    "<ul><li><span style=\"color:#00008B;font-size:20px\">\n",
    "Write a python code to perform the following tasks:<br>\n",
    "  <ul><li><span style=\"color:#00008B;font-size:16px\">\n",
    "   a. Create two variables to store the following values: 450 (var1), -625 (var2). <br>\n",
    "   b. Perform the following arithmetic operations on var1 and var2: multiplication, addition. <br>\n",
    "   c. Perform the following arithmetic operation and print the result: (var1*var2)/(var1-var2). <br><br>\n",
    "  </span></li></ul>\n",
    " \n",
    "\n",
    "<br><br><br><br>\n",
    "<footer>\n",
    "<table style=\"border:none;width:100%\">\n",
    "<tr><td style= \"text-align:left;background-color:blue;color:white;font-size:80%;\"> Farah Ibrar </td><td style= \"text-align:right;background-color:blue;color:white;font-size:80%;\"> Programming in Python </td></tr></table>\n",
    "</footer>\n",
    "\n",
    "</div>"
   ]
  },
  {
   "cell_type": "code",
   "execution_count": 5,
   "metadata": {
    "slideshow": {
     "slide_type": "subslide"
    }
   },
   "outputs": [
    {
     "name": "stdout",
     "output_type": "stream",
     "text": [
      "Result of (var1 * var2) / (var1 - var2): -261.6279069767442\n",
      "Multiplication result (var1 * var2): -281250\n",
      "Addition result (var1 + var2): -175\n"
     ]
    }
   ],
   "source": [
    "# Part a: Create variables\n",
    "var1 = 450\n",
    "var2 = -625\n",
    "\n",
    "# Part b: Perform arithmetic operations\n",
    "multiplication_result = var1 * var2\n",
    "addition_result = var1 + var2\n",
    "\n",
    "# Part c: Perform arithmetic operation and print the result\n",
    "result_c = (var1 * var2) / (var1 - var2)\n",
    "print(\"Result of (var1 * var2) / (var1 - var2):\", result_c)\n",
    "\n",
    "# Printing the other results as well\n",
    "print(\"Multiplication result (var1 * var2):\", multiplication_result)\n",
    "print(\"Addition result (var1 + var2):\", addition_result)"
   ]
  },
  {
   "cell_type": "markdown",
   "metadata": {
    "slideshow": {
     "slide_type": "slide"
    }
   },
   "source": [
    "<div style=\"background-color:beige;color:beige\">\n",
    "\n",
    "<h2 style=\"padding:1em;text-align:left;color:#00008B\">Numeric - Float</h2>\n",
    "\n",
    "<ul><li><span style=\"color:#00008B;font-size:20px\">\n",
    "Represents range of mathematical rational numbers. <br><br>\n",
    "Values are specified with a decimal point. E.g. - 56.5, 10.686. <br><br>\n",
    "Exponential notation: 'e'/'E' followed by a positive or negative integer value may be appended to specify scientific notation. e.g. - 1e6, 5.6e-5,  <br><br>\n",
    "<b>Syntax:</b> Variable_Name = Value <br>\n",
    "</span></li> <br><br>\n",
    "    </ul> \n",
    "\n",
    "<br><br><br><br>\n",
    "<footer>\n",
    "<table style=\"border:none;width:100%\">\n",
    "<tr><td style= \"text-align:left;background-color:blue;color:white;font-size:80%;\"> Farah Ibrar </td><td style= \"text-align:right;background-color:blue;color:white;font-size:80%;\"> Programming in Python </td></tr></table>\n",
    "</footer>\n",
    "\n",
    "</div>"
   ]
  },
  {
   "cell_type": "code",
   "execution_count": 6,
   "metadata": {
    "slideshow": {
     "slide_type": "subslide"
    }
   },
   "outputs": [
    {
     "data": {
      "text/plain": [
       "56.5"
      ]
     },
     "execution_count": 6,
     "metadata": {},
     "output_type": "execute_result"
    }
   ],
   "source": [
    "# Creating a variable f1 which stores a value of 56.5\n",
    "f1 = 56.5\n",
    "\n",
    "# To check, specify the variable name or use print function, either of the following works fine: f or print(f)\n",
    "f1"
   ]
  },
  {
   "cell_type": "code",
   "execution_count": 7,
   "metadata": {
    "slideshow": {
     "slide_type": "subslide"
    }
   },
   "outputs": [
    {
     "data": {
      "text/plain": [
       "0.00056"
      ]
     },
     "execution_count": 7,
     "metadata": {},
     "output_type": "execute_result"
    }
   ],
   "source": [
    "# Creating a variable f1 which stores a value of 56.5\n",
    "f1 = 56.5\n",
    "\n",
    "# To check, specify the variable name or use print function, either of the following works fine: f1 or print(f1)\n",
    "f1\n",
    "\n",
    "# Creating a variable f2 which stores a value of 0.00056\n",
    "f2 = 5.6e-4\n",
    "f2"
   ]
  },
  {
   "cell_type": "markdown",
   "metadata": {
    "slideshow": {
     "slide_type": "slide"
    }
   },
   "source": [
    "<div style=\"background-color:beige;color:beige\">\n",
    "\n",
    "<h1 style=\"padding:1em;text-align:center;color:#00008B\">EXERCISE</h1>\n",
    "\n",
    "<ul><li><span style=\"color:#00008B;font-size:20px\">\n",
    "Write a python code to perform the following tasks:<br>\n",
    "  <ul><li><span style=\"color:#00008B;font-size:16px\">\n",
    "   a. Create three variables to store the following values: 450 (var1), -625 (var2), 12.78 (var3). <br>\n",
    "   b. Perform the following arithmetic operations on var1, var2 and var3: subtraction, divison. <br>\n",
    "   d. Perform the following arithmetic operation and print the result: (var1*var2+var3)/(var1-var3). <br><br>\n",
    "  </span></li></ul>\n",
    " \n",
    "\n",
    "<br><br><br><br>\n",
    "<footer>\n",
    "<table style=\"border:none;width:100%\">\n",
    "<tr><td style= \"text-align:left;background-color:blue;color:white;font-size:80%;\"> Farah Ibrar </td><td style= \"text-align:right;background-color:blue;color:white;font-size:80%;\"> Programming in Python </td></tr></table>\n",
    "</footer>\n",
    "\n",
    "</div>"
   ]
  },
  {
   "cell_type": "code",
   "execution_count": 8,
   "metadata": {
    "slideshow": {
     "slide_type": "subslide"
    }
   },
   "outputs": [
    {
     "name": "stdout",
     "output_type": "stream",
     "text": [
      "Result of (var1 * var2 + var3) / (var1 - var3): -643.2396047756278\n",
      "Subtraction result (var1 - var2): 1075\n",
      "Division result (var1 / var3): 35.21126760563381\n"
     ]
    }
   ],
   "source": [
    "# Part a: Create variables\n",
    "var1 = 450\n",
    "var2 = -625\n",
    "var3 = 12.78\n",
    "\n",
    "# Part b: Perform arithmetic operations\n",
    "subtraction_result = var1 - var2\n",
    "division_result = var1 / var3\n",
    "\n",
    "# Part d: Perform arithmetic operation and print the result\n",
    "result_d = (var1 * var2 + var3) / (var1 - var3)\n",
    "print(\"Result of (var1 * var2 + var3) / (var1 - var3):\", result_d)\n",
    "\n",
    "# Printing the other results as well\n",
    "print(\"Subtraction result (var1 - var2):\", subtraction_result)\n",
    "print(\"Division result (var1 / var3):\", division_result)"
   ]
  },
  {
   "cell_type": "markdown",
   "metadata": {
    "slideshow": {
     "slide_type": "slide"
    }
   },
   "source": [
    "<div style=\"background-color:beige;color:beige\">\n",
    "\n",
    "<h2 style=\"padding:1em;text-align:left;color:#00008B\">Strings</h2>\n",
    "\n",
    "<ul><li><span style=\"color:#00008B;font-size:20px\">\n",
    "Used to represent text. <br><br>\n",
    "Text is delimited using either single(') or double (\") or triple quotes(\"\"\"). eg: 'My name is Nadeer.'<br><br>\n",
    "<b>Syntax:</b> Variable_Name = Value <br>\n",
    "</span></li> <br><br>\n",
    "    </ul>\n",
    "\n",
    "<br><br><br><br>\n",
    "<footer>\n",
    "<table style=\"border:none;width:100%\">\n",
    "<tr><td style= \"text-align:left;background-color:blue;color:white;font-size:80%;\"> Farah Ibrar </td><td style= \"text-align:right;background-color:blue;color:white;font-size:80%;\"> Programming in Python </td></tr></table>\n",
    "</footer>\n",
    "\n",
    "</div>"
   ]
  },
  {
   "cell_type": "code",
   "execution_count": 9,
   "metadata": {
    "slideshow": {
     "slide_type": "subslide"
    }
   },
   "outputs": [
    {
     "data": {
      "text/plain": [
       "'my name is nadeer.'"
      ]
     },
     "execution_count": 9,
     "metadata": {},
     "output_type": "execute_result"
    }
   ],
   "source": [
    "# Creating a variable line1 which stores a string\n",
    "line1 = \"my name is nadeer.\"\n",
    "\n",
    "line1"
   ]
  },
  {
   "cell_type": "code",
   "execution_count": 10,
   "metadata": {
    "slideshow": {
     "slide_type": "subslide"
    }
   },
   "outputs": [
    {
     "ename": "SyntaxError",
     "evalue": "invalid syntax (1573108010.py, line 5)",
     "output_type": "error",
     "traceback": [
      "\u001b[0;36m  Cell \u001b[0;32mIn[10], line 5\u001b[0;36m\u001b[0m\n\u001b[0;31m    line2 = \"my name is \"nadeer.\"\"\u001b[0m\n\u001b[0m                         ^\u001b[0m\n\u001b[0;31mSyntaxError\u001b[0m\u001b[0;31m:\u001b[0m invalid syntax\n"
     ]
    }
   ],
   "source": [
    "# Creating a variable which stores a string with quotes - my name is \"nadeer\"\n",
    "\n",
    "# If the string has a quotation, don't use the same quote as this will give an error\n",
    "# Use combination of single and double or triple quotes\n",
    "line2 = \"my name is \"nadeer.\"\"\n",
    "\n",
    "line2\n",
    "\n",
    "# it will throw an error because quote marks on different places"
   ]
  },
  {
   "cell_type": "code",
   "execution_count": 11,
   "metadata": {
    "slideshow": {
     "slide_type": "subslide"
    }
   },
   "outputs": [
    {
     "data": {
      "text/plain": [
       "'my name is \"nadeer.\"'"
      ]
     },
     "execution_count": 11,
     "metadata": {},
     "output_type": "execute_result"
    }
   ],
   "source": [
    "# Creating a variable which stores a string with quotes - my name is \"nadeer\"\n",
    "\n",
    "# If the string has a quotation, don't use the same quote as this will give an error\n",
    "# Use combination of single and double or triple quotes\n",
    "line2 = 'my name is \"nadeer.\"'\n",
    "\n",
    "line2\n",
    "\n",
    "#the error can be fixed using single quotes."
   ]
  },
  {
   "cell_type": "code",
   "execution_count": 12,
   "metadata": {
    "slideshow": {
     "slide_type": "subslide"
    }
   },
   "outputs": [
    {
     "name": "stdout",
     "output_type": "stream",
     "text": [
      "My name is nadeer.\n"
     ]
    }
   ],
   "source": [
    "# Creating a variable line1 which stores a string with a single quote\n",
    "line1 = \"my name is nadeer.\"\n",
    "\n",
    "# Capitalize a string - use 'capitalize' function\n",
    "print(line1.capitalize())"
   ]
  },
  {
   "cell_type": "code",
   "execution_count": 13,
   "metadata": {
    "slideshow": {
     "slide_type": "subslide"
    }
   },
   "outputs": [
    {
     "name": "stdout",
     "output_type": "stream",
     "text": [
      "MY NAME IS NADEER.\n"
     ]
    }
   ],
   "source": [
    "# Creating a variable line1 which stores a string with a single quote\n",
    "line1 = \"my name is nadeer.\"\n",
    "\n",
    "# Convert the string to uppercase - use 'upper' function\n",
    "print(line1.upper())"
   ]
  },
  {
   "cell_type": "markdown",
   "metadata": {
    "slideshow": {
     "slide_type": "slide"
    }
   },
   "source": [
    "<div style=\"background-color:beige;color:beige\">\n",
    "\n",
    "<h1 style=\"padding:1em;text-align:center;color:#00008B\">EXERCISE</h1>\n",
    "\n",
    "<ul><li><span style=\"color:#00008B;font-size:20px\">\n",
    "Write a python code to store the following text in a variable: <b>\"Python 3.8 was released on October 14th, 2019\" </b>. Convert and print this entire text in lowercase. <br>\n",
    "  [Hint: use a function which does opposite of upper() function]. <br><br>\n",
    "</span></li></ul>\n",
    " \n",
    "\n",
    "<br><br><br><br>\n",
    "<footer>\n",
    "<table style=\"border:none;width:100%\">\n",
    "<tr><td style= \"text-align:left;background-color:blue;color:white;font-size:80%;\"> Farah Ibrar </td><td style= \"text-align:right;background-color:blue;color:white;font-size:80%;\"> Programming in Python </td></tr></table>\n",
    "</footer>\n",
    "\n",
    "</div>"
   ]
  },
  {
   "cell_type": "code",
   "execution_count": 14,
   "metadata": {
    "slideshow": {
     "slide_type": "subslide"
    }
   },
   "outputs": [
    {
     "name": "stdout",
     "output_type": "stream",
     "text": [
      "python 3.8 was released on october 14th, 2019\n"
     ]
    }
   ],
   "source": [
    "# Store the text in a variable\n",
    "text = \"Python 3.8 was released on October 14th, 2019\"\n",
    "\n",
    "# Convert the text to lowercase\n",
    "lowercase_text = text.lower()\n",
    "\n",
    "# Print the lowercase text\n",
    "print(lowercase_text)"
   ]
  },
  {
   "cell_type": "markdown",
   "metadata": {
    "slideshow": {
     "slide_type": "slide"
    }
   },
   "source": [
    "<div style=\"background-color:beige;color:beige\">\n",
    "\n",
    "<h2 style=\"padding:1em;text-align:left;color:#00008B\">Boolean</h2>\n",
    "\n",
    "<ul><li><span style=\"color:#00008B;font-size:20px\">\n",
    "Intend to represent the truth values of logic/boolean algebra.<br><br>\n",
    "This datatype can have one of the two possible values - <b>TRUE</b> or <b>FALSE</b> <br><br>\n",
    "<b>Syntax:</b> Variable = Value [True/False] <br><br>\n",
    "<br><br>\n",
    "</span></li>\n",
    "    </ul>\n",
    "\n",
    "<br><br><br><br>\n",
    "<footer>\n",
    "<table style=\"border:none;width:100%\">\n",
    "<tr><td style= \"text-align:left;background-color:blue;color:white;font-size:80%;\"> Farah Ibrar </td><td style= \"text-align:right;background-color:blue;color:white;font-size:80%;\"> Programming in Python </td></tr></table>\n",
    "</footer>\n",
    "\n",
    "</div>"
   ]
  },
  {
   "cell_type": "code",
   "execution_count": 15,
   "metadata": {
    "slideshow": {
     "slide_type": "subslide"
    }
   },
   "outputs": [
    {
     "name": "stdout",
     "output_type": "stream",
     "text": [
      "True False\n"
     ]
    }
   ],
   "source": [
    "# Creating variables x and y, which stores boolean values\n",
    "x = True\n",
    "y = False\n",
    "print(x,y)"
   ]
  },
  {
   "cell_type": "markdown",
   "metadata": {
    "slideshow": {
     "slide_type": "slide"
    }
   },
   "source": [
    "<div style=\"background-color:beige;color:beige\">\n",
    "\n",
    "<h2 style=\"padding:1em;text-align:left;color:#00008B\">Boolean</h2>\n",
    "\n",
    "<ul><li><span style=\"color:#00008B;font-size:20px\">\n",
    "Intend to represent the truth values of logic/boolean algebra.<br><br>\n",
    "This datatype can have one of the two possible values - <b>TRUE</b> or <b>FALSE</b> <br><br>\n",
    "<b>Syntax:</b> Variable = Value [True/False] <br><br>\n",
    "Comparison of variables(objects) returns boolean data.<br><br>\n",
    "    \n",
    "#### Check whether a number is greater than 50 or not [a=input_value, b=50]<br><br>\n",
    "    \n",
    "#### Comparission Operations (Relational Operators)\n",
    "1. \"less than\" [eg: a < b] <br><br>\n",
    "2. \"greater than\" [eg: a > b] <br><br>\n",
    "3. \"less than or equal\" [eg: a <= b] <br><br>\n",
    "4. \"greater than or equal\" [eg: a>= b] <br><br>\n",
    "5. \"equal\" [eg: a == b] <br><br>\n",
    "6. \"not equal\" [eg: a!= b] <br><br>\n",
    "\n",
    "#### Boolean Operations (Boolean Operators)\n",
    "1. or [eg: a or b] <br><br>\n",
    "2. and [eg: a and b]<br><br>\n",
    "3. not [eg: a not b]<br><br>\n",
    "    \n",
    "</span></li>\n",
    "    </ul>\n",
    "  \n",
    "<footer>\n",
    "<table style=\"border:none;width:100%\">\n",
    "<tr><td style= \"text-align:left;background-color:blue;color:white;font-size:80%;\"> Farah Ibrar </td><td style= \"text-align:right;background-color:blue;color:white;font-size:80%;\"> Programming in Python </td></tr></table>\n",
    "</footer>\n",
    "\n",
    "</div>"
   ]
  },
  {
   "cell_type": "code",
   "execution_count": 16,
   "metadata": {
    "slideshow": {
     "slide_type": "subslide"
    }
   },
   "outputs": [
    {
     "data": {
      "text/plain": [
       "False"
      ]
     },
     "execution_count": 16,
     "metadata": {},
     "output_type": "execute_result"
    }
   ],
   "source": [
    "# Boolean operations on two variables\n",
    "x = 50\n",
    "y = 75\n",
    "x > y"
   ]
  },
  {
   "cell_type": "code",
   "execution_count": 17,
   "metadata": {
    "slideshow": {
     "slide_type": "subslide"
    }
   },
   "outputs": [
    {
     "name": "stdout",
     "output_type": "stream",
     "text": [
      "Enter a value:79\n",
      "True\n"
     ]
    }
   ],
   "source": [
    "# Creating variables x and y, which stores boolean values\n",
    "x = True\n",
    "y = False\n",
    "\n",
    "# Check whether a number is greater than 50 or not\n",
    "z = int(input(\"Enter a value:\"))\n",
    "if z > 50:\n",
    "    print(x)\n",
    "else:\n",
    "    print(y)"
   ]
  },
  {
   "cell_type": "markdown",
   "metadata": {
    "slideshow": {
     "slide_type": "subslide"
    }
   },
   "source": [
    "<div style=\"background-color:beige;color:beige\">\n",
    "\n",
    "<h2 style=\"padding:1em;text-align:left;color:#00008B\">Boolean</h2>\n",
    "\n",
    "<ul><li><span style=\"color:#00008B;font-size:20px\">\n",
    "Intend to represent the truth values of logic/boolean algebra.<br><br>\n",
    "This datatype can have one of the two possible values - <b>TRUE</b> or <b>FALSE</b> <br><br>\n",
    "<b>Syntax:</b> Variable = Value [True/False] <br><br>\n",
    "Comparison of variables(objects) returns boolean data.<br><br>\n",
    "Can be used to convert numbers [use function: bool()]. A non-zero value is TRUE, while zero is always FALSE.\n",
    "</span></li>\n",
    "    </ul> \n",
    "\n",
    "<br><br><br><br>\n",
    "<footer>\n",
    "<table style=\"border:none;width:100%\">\n",
    "<tr><td style= \"text-align:left;background-color:blue;color:white;font-size:80%;\"> Farah Ibrar </td><td style= \"text-align:right;background-color:blue;color:white;font-size:80%;\"> Programming in Python </td></tr></table>\n",
    "</footer>\n",
    "\n",
    "</div>"
   ]
  },
  {
   "cell_type": "code",
   "execution_count": 18,
   "metadata": {
    "slideshow": {
     "slide_type": "subslide"
    }
   },
   "outputs": [
    {
     "data": {
      "text/plain": [
       "True"
      ]
     },
     "execution_count": 18,
     "metadata": {},
     "output_type": "execute_result"
    }
   ],
   "source": [
    "# Convert numeric to a boolean value\n",
    "bool(5432)"
   ]
  },
  {
   "cell_type": "code",
   "execution_count": 19,
   "metadata": {
    "slideshow": {
     "slide_type": "subslide"
    }
   },
   "outputs": [
    {
     "data": {
      "text/plain": [
       "False"
      ]
     },
     "execution_count": 19,
     "metadata": {},
     "output_type": "execute_result"
    }
   ],
   "source": [
    "# Convert 0 to a boolean value\n",
    "bool(0)"
   ]
  },
  {
   "cell_type": "markdown",
   "metadata": {
    "slideshow": {
     "slide_type": "slide"
    }
   },
   "source": [
    "<div style=\"background-color:beige;color:beige\">\n",
    "\n",
    "<h1 style=\"padding:1em;text-align:center;color:#00008B\">EXERCISE</h1>\n",
    "\n",
    "<ul><li><span style=\"color:#00008B;font-size:20px\">\n",
    "Write a python code asking the user to input two values (value1 and value2). Check value1 is greater than equal to value2.<br>\n",
    "</span></li></ul>\n",
    " \n",
    "\n",
    "<br><br><br><br>\n",
    "<footer>\n",
    "<table style=\"border:none;width:100%\">\n",
    "<tr><td style= \"text-align:left;background-color:blue;color:white;font-size:80%;\"> Farah Ibrar </td><td style= \"text-align:right;background-color:blue;color:white;font-size:80%;\"> Programming in Python </td></tr></table>\n",
    "</footer>\n",
    "\n",
    "</div>"
   ]
  },
  {
   "cell_type": "code",
   "execution_count": 20,
   "metadata": {
    "slideshow": {
     "slide_type": "subslide"
    }
   },
   "outputs": [
    {
     "name": "stdout",
     "output_type": "stream",
     "text": [
      "Enter the first value (value1): 89\n",
      "Enter the second value (value2): 19\n",
      "89.0 is greater than or equal to 19.0\n"
     ]
    }
   ],
   "source": [
    "# Ask the user to input two values\n",
    "value1 = float(input(\"Enter the first value (value1): \"))\n",
    "value2 = float(input(\"Enter the second value (value2): \"))\n",
    "\n",
    "# Check if value1 is greater than or equal to value2\n",
    "if value1 >= value2:\n",
    "    print(f\"{value1} is greater than or equal to {value2}\")\n",
    "else:\n",
    "    print(f\"{value1} is less than {value2}\")"
   ]
  },
  {
   "cell_type": "markdown",
   "metadata": {
    "slideshow": {
     "slide_type": "slide"
    }
   },
   "source": [
    "<div style=\"background-color:beige;color:beige\">\n",
    "\n",
    "<h2 style=\"padding:1em;text-align:left;color:#00008B\">Summary</h2>\n",
    "\n",
    "<ul><li><span style=\"color:#00008B;font-size:20px\">\n",
    "Common data types in Python - Numeric[Integer, Float, Complex], String, Boolean. <br><br>\n",
    "Arithmetic Operations.<br><br>\n",
    "Boolean and Comparison Operations.<br><br>\n",
    "Functions - print(), type(), input(), capitalize(), upper(), bool(). <br><br>\n",
    "</span></li>\n",
    "    </ul>\n",
    "\n",
    "<br><br><br><br>\n",
    "<footer>\n",
    "<table style=\"border:none;width:100%\">\n",
    "<tr><td style= \"text-align:left;background-color:blue;color:white;font-size:80%;\"> Farah Ibrar </td><td style= \"text-align:right;background-color:blue;color:white;font-size:80%;\"> Programming in Python </td></tr></table>\n",
    "</footer>\n",
    "\n",
    "</div>"
   ]
  }
 ],
 "metadata": {
  "celltoolbar": "Slideshow",
  "kernelspec": {
   "display_name": "Python 3 (ipykernel)",
   "language": "python",
   "name": "python3"
  },
  "language_info": {
   "codemirror_mode": {
    "name": "ipython",
    "version": 3
   },
   "file_extension": ".py",
   "mimetype": "text/x-python",
   "name": "python",
   "nbconvert_exporter": "python",
   "pygments_lexer": "ipython3",
   "version": "3.10.9"
  }
 },
 "nbformat": 4,
 "nbformat_minor": 4
}
