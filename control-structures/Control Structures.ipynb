{
 "cells": [
  {
   "cell_type": "markdown",
   "metadata": {
    "slideshow": {
     "slide_type": "slide"
    }
   },
   "source": [
    "<div style=\"background-color:beige;color:beige\">\n",
    "<header>\n",
    "<br><br><br><br>\n",
    "<h1 style=\"padding:1em;text-align:center;color:#00008B\">Basics of Python programming <br><br> &nbsp;&nbsp; Control Structure </h1> \n",
    "</header>\n",
    "<br><br><br><br><br><br>\n",
    "<footer>\n",
    "<table style=\"border:none;width:100%\">\n",
    "<tr><td style= \"text-align:left;background-color:blue;color:white;font-size:80%;\"> Farah Ibrar</td><td style= \"text-align:center;background-color:blue;color:white;font-size:80%;\"> Programming in Python </td><td style= \"text-align:right;background-color:blue;color:white;font-size:80%;\">Control Structure</td></tr></table>\n",
    "</footer>\n",
    "\n",
    "</div>"
   ]
  },
  {
   "cell_type": "markdown",
   "metadata": {
    "slideshow": {
     "slide_type": "slide"
    }
   },
   "source": [
    "<div style=\"background-color:beige;color:beige\">\n",
    "<header>\n",
    "<h1 style=\"padding:1em;text-align:left;color:#00008B\">Control Structure</h1>\n",
    "</header>\n",
    "\n",
    "    \n",
    "<ul><li><span style=\"color:#00008B;font-size:24px\">Control flow of execution of a series of expressions. </span> <br><br>\n",
    "        <li><span style=\"color:#00008B; font-size:24px\">\"Logic” into your code. </span> <br><br>\n",
    "        <li><span style=\"color:#00008B; font-size:24px\">Respond to inputs/features of the data and execute different expressions accordingly. </span><br><br>\n",
    "        </li>\n",
    "       </ul>\n",
    "\n",
    "<br><br>\n",
    "<footer>\n",
    "<table style=\"border:none;width:100%\">\n",
    "<tr><td style= \"text-align:left;background-color:blue;color:white;font-size:80%;\"> Farah Ibrar </td><td style= \"text-align:center;background-color:blue;color:white;font-size:80%;\"> Programming in Python </td><td style= \"text-align:right;background-color:blue;color:white;font-size:80%;\">Control Structure</td></tr></table>\n",
    "</footer>\n",
    "\n",
    "</div>"
   ]
  },
  {
   "cell_type": "markdown",
   "metadata": {},
   "source": [
    "<div style=\"background-color:beige;color:beige\">\n",
    "<header>\n",
    "<h1 style=\"padding:1em;text-align:left;color:#00008B\">Control Structure</h1>\n",
    "</header>\n",
    "\n",
    "    \n",
    "<ul><li><span style=\"color:#00008B;font-size:24px\">A control structure in programming refers to the way in which the execution flow of a program is managed or controlled. <br><br>It determines the order in which individual statements, instructions, or function calls are executed within a program. <br><br>Control structures are fundamental to organizing the logic and flow of a program to achieve specific tasks. </span> <br><br>\n",
    "<br><br>\n",
    "        </li>\n",
    "       </ul>\n",
    "\n",
    "<br><br>\n",
    "<footer>\n",
    "<table style=\"border:none;width:100%\">\n",
    "<tr><td style= \"text-align:left;background-color:blue;color:white;font-size:80%;\"> Farah Ibrar </td><td style= \"text-align:center;background-color:blue;color:white;font-size:80%;\"> Programming in Python </td><td style= \"text-align:right;background-color:blue;color:white;font-size:80%;\">Control Structure</td></tr></table>\n",
    "</footer>\n",
    "\n",
    "</div>"
   ]
  },
  {
   "cell_type": "markdown",
   "metadata": {},
   "source": [
    "<div style=\"background-color:beige;color:beige\">\n",
    "<header>\n",
    "<h1 style=\"padding:1em;text-align:left;color:#00008B\">Control Flow</h1>\n",
    "</header>\n",
    "\n",
    "    \n",
    "<ul><li><span style=\"color:#00008B;font-size:24px\">Control flow refers to the order in which the individual statements, instructions, or function calls of a program are executed. <br><br>Control flow structures dictate how the program moves through its code, determining which statement is executed next based on certain conditions. <br><br>It determines the order in which individual statements, instructions, or function calls are executed within a program.\n",
    "    \n",
    "</span>\n",
    "        </li>\n",
    "       </ul>\n",
    "<h1 style=\"padding:1em;text-align:left;color:#00008B\">Logic</h1>    \n",
    "<ul><li><span style=\"color:#00008B;font-size:24px\">Control flow refers to the order in which the individual statements, instructions, or function calls of a program are executed. <br><br>Control flow structures dictate how the program moves through its code, determining which statement is executed next based on certain conditions. <br><br>It determines the order in which individual statements, instructions, or function calls are executed within a program.\n",
    "    \n",
    "</span> <br>\n",
    "        </li>\n",
    "       </ul>\n",
    "       \n",
    "<footer>\n",
    "<table style=\"border:none;width:100%\">\n",
    "<tr><td style= \"text-align:left;background-color:blue;color:white;font-size:80%;\"> Farah Ibrar </td><td style= \"text-align:center;background-color:blue;color:white;font-size:80%;\"> Programming in Python </td><td style= \"text-align:right;background-color:blue;color:white;font-size:80%;\">Control Structure</td></tr></table>\n",
    "</footer>\n",
    "\n",
    "</div>"
   ]
  },
  {
   "cell_type": "markdown",
   "metadata": {},
   "source": [
    "<div style=\"background-color:beige;color:beige\">\n",
    "<header>\n",
    "<h1 style=\"padding:1em;text-align:left;color:#00008B\">Responding to Inputs/Features</h1>\n",
    "</header>\n",
    "\n",
    "    \n",
    "<ul><li><span style=\"color:#00008B;font-size:24px\"> In programming, your code often needs to react differently based on the input it receives or the features of the data it processes. <br><br>This involves using conditional statements to check certain conditions and executing different blocks of code based on the evaluation of those conditions.\n",
    "</span>\n",
    "        </li>\n",
    "       </ul>\n",
    "<h1 style=\"padding:1em;text-align:left;color:#00008B\">Executing Different Expressions</h1>    \n",
    "<ul><li><span style=\"color:#00008B;font-size:24px\">Expressions in programming are snippets of code that produce a value. Different expressions can be executed based on the control flow of the program. <br><br>For example, you might have different calculations, operations, or function calls that need to be executed based on the input data or specific conditions within the program. <br><br>\n",
    "</span> <br>\n",
    "        </li>\n",
    "       </ul>\n",
    "       \n",
    "<footer>\n",
    "<table style=\"border:none;width:100%\">\n",
    "<tr><td style= \"text-align:left;background-color:blue;color:white;font-size:80%;\"> Farah Ibrar </td><td style= \"text-align:center;background-color:blue;color:white;font-size:80%;\"> Programming in Python </td><td style= \"text-align:right;background-color:blue;color:white;font-size:80%;\">Control Structure</td></tr></table>\n",
    "</footer>\n",
    "\n",
    "</div>"
   ]
  },
  {
   "cell_type": "code",
   "execution_count": 1,
   "metadata": {
    "slideshow": {
     "slide_type": "subslide"
    }
   },
   "outputs": [
    {
     "name": "stdout",
     "output_type": "stream",
     "text": [
      "Take an umbrella.\n"
     ]
    }
   ],
   "source": [
    "weather_forecast = \"rainy\"\n",
    "\n",
    "if weather_forecast == \"sunny\":\n",
    "    print(\"Take sunglasses.\")\n",
    "elif weather_forecast == \"rainy\":\n",
    "    print(\"Take an umbrella.\")\n",
    "else:\n",
    "    print(\"Check the weather again later.\")"
   ]
  },
  {
   "cell_type": "markdown",
   "metadata": {
    "slideshow": {
     "slide_type": "slide"
    }
   },
   "source": [
    "<div style=\"background-color:beige;color:beige\">\n",
    "<header>\n",
    "<h2 style=\"padding:1em;text-align:left;color:#00008B\">Broadly, two types:</h2>\n",
    "</header>\n",
    "\n",
    "    \n",
    "<ul><li><span style=\"color:#00008B;font-size:24px\">Selection - used for decision. [example - if, if-else, if-elif, else] </span> <br><br>\n",
    "        <li><span style=\"color:#00008B; font-size:24px\">Repetition – used for looping. [example - for] </span> <br><br>\n",
    "        </li>\n",
    "       </ul>\n",
    "\n",
    "<br><br>\n",
    "<footer>\n",
    "<table style=\"border:none;width:100%\">\n",
    "<tr><td style= \"text-align:left;background-color:blue;color:white;font-size:80%;\"> Farah Ibrar</td><td style= \"text-align:center;background-color:blue;color:white;font-size:80%;\"> Programming in Python </td><td style= \"text-align:right;background-color:blue;color:white;font-size:80%;\">Control Structure</td></tr></table>\n",
    "</footer>\n",
    "\n",
    "</div>"
   ]
  },
  {
   "cell_type": "markdown",
   "metadata": {
    "slideshow": {
     "slide_type": "slide"
    }
   },
   "source": [
    "<div style=\"background-color:beige;color:beige\">\n",
    "\n",
    " <h2 style=\"padding:1em;text-align:left;color:#00008B\">Control Structure : <b>for </b> </h2>\n",
    "\n",
    "<ul><li><span style=\"color:#00008B;font-size:20px\">\n",
    "Commonly used looping structure. <br><br>\n",
    "Used for iterating over the elements of an object (list, string, etc.)<br><br>\n",
    "Define an iterator (e.g., i) and assign an iterable i.e., an object used for iteration. <br><br>\n",
    "<b>Syntax:</b> for iterator in iterable:<br>\n",
    "&nbsp;&nbsp;&nbsp;&nbsp;&nbsp;&nbsp;&nbsp;&nbsp;&nbsp;&nbsp;&nbsp;&nbsp;&nbsp;&nbsp;&nbsp;&nbsp;&nbsp;&nbsp;&nbsp;&nbsp;&nbsp;&nbsp;&nbsp;&nbsp;&nbsp;&nbsp;&nbsp;&nbsp;&nbsp;&nbsp;&nbsp;&nbsp;&nbsp;&nbsp;&nbsp;&nbsp;&nbsp;&nbsp;&nbsp;&nbsp;&nbsp;&nbsp;     \n",
    "    Statement 1<br>\n",
    "&nbsp;&nbsp;&nbsp;&nbsp;&nbsp;&nbsp;&nbsp;&nbsp;&nbsp;&nbsp;&nbsp;&nbsp;&nbsp;&nbsp;&nbsp;&nbsp;&nbsp;&nbsp;&nbsp;&nbsp;&nbsp;&nbsp;&nbsp;&nbsp;&nbsp;&nbsp;&nbsp;&nbsp;&nbsp;&nbsp;&nbsp;&nbsp;&nbsp;&nbsp;&nbsp;&nbsp;&nbsp;&nbsp;&nbsp;&nbsp;&nbsp;&nbsp; \n",
    "    Statement n \n",
    "<br>\n",
    "</span></li></ul> <br><br>\n",
    " \n",
    "\n",
    "<br><br>\n",
    "<footer>\n",
    "<table style=\"border:none;width:100%\">\n",
    "<tr><td style= \"text-align:left;background-color:blue;color:white;font-size:80%;\"> Farah Ibrar</td><td style= \"text-align:center;background-color:blue;color:white;font-size:80%;\"> Programming in Python </td><td style= \"text-align:right;background-color:blue;color:white;font-size:80%;\">Control Structure</td></tr></table>\n",
    "</footer>\n",
    "\n",
    "</div>"
   ]
  },
  {
   "cell_type": "markdown",
   "metadata": {
    "slideshow": {
     "slide_type": "subslide"
    }
   },
   "source": [
    "**Control Structure: `for`**\n",
    "\n",
    "- **Commonly used looping structure**: The `for` loop is used when you want to repeat a block of code a certain number of times or over a sequence of items. It's one of the most common ways to perform iteration in programming.\n",
    "\n",
    "- **Iterating over elements**: It's used to go through each item in a list, string, or other collections of data (called iterables). For example, you might want to process each character in a string or each element in a list one by one.\n",
    "\n",
    "- **Syntax**: The syntax of a `for` loop is straightforward:\n",
    "\n",
    "```python\n",
    "for iterator in iterable:\n",
    "    # Statement 1\n",
    "    # Statement 2\n",
    "    # ...\n",
    "    # Statement n\n",
    "```\n",
    "\n",
    "Here’s what each part means:\n",
    "\n",
    "- `iterator`: This is a variable name that you choose to represent each element of the `iterable` (the collection of items you're iterating over). It will take on each value of the iterable in turn.\n",
    "  \n",
    "- `in`: This keyword is used to link the iterator variable to the iterable object.\n",
    "\n",
    "- `iterable`: This is the object (like a list, string, or range) that contains the elements you want to loop through.\n",
    "\n",
    "- `Statement 1` to `Statement n`: These are the statements (lines of code) that you want to repeat for each element in the iterable.\n",
    "\n",
    "**Example:**\n",
    "\n",
    "Let's look at an example to iterate over a list of names and print each name:\n",
    "\n",
    "```python\n",
    "names = [\"Alice\", \"Bob\", \"Charlie\", \"David\"]\n",
    "\n",
    "for name in names:\n",
    "    print(\"Hello, \" + name)\n",
    "```\n",
    "\n",
    "- Here, `name` is the iterator variable that takes each name from the `names` list in turn.\n",
    "- The `print(\"Hello, \" + name)` statement is executed for each name in the list, resulting in:\n",
    "  \n",
    "  ```\n",
    "  Hello, Alice\n",
    "  Hello, Bob\n",
    "  Hello, Charlie\n",
    "  Hello, David\n",
    "  ```\n",
    "\n",
    "**Summary:**\n",
    "\n",
    "The `for` loop is used to execute a block of code multiple times, once for each item in a sequence or collection. It simplifies iterating over elements like lists or strings and allows you to perform operations on each item in the sequence."
   ]
  },
  {
   "cell_type": "code",
   "execution_count": 2,
   "metadata": {
    "slideshow": {
     "slide_type": "subslide"
    }
   },
   "outputs": [
    {
     "name": "stdout",
     "output_type": "stream",
     "text": [
      "1\n",
      "2\n",
      "3\n",
      "4\n"
     ]
    }
   ],
   "source": [
    "# Creating a list\n",
    "list1 = [1, 2, 3, 4]  \n",
    "\n",
    "# Using for loop to print all elements in the list\n",
    "for i in list1:\n",
    "    print(i)"
   ]
  },
  {
   "cell_type": "code",
   "execution_count": 3,
   "metadata": {
    "slideshow": {
     "slide_type": "subslide"
    }
   },
   "outputs": [
    {
     "name": "stdout",
     "output_type": "stream",
     "text": [
      "1\n",
      "2.5\n",
      "Nadeer\n"
     ]
    }
   ],
   "source": [
    "# Creating a list having a mix of numeric and string variables\n",
    "list2 = [1, 2.5, 'Nadeer']\n",
    "\n",
    "# Using for loop to print all elements in the list\n",
    "for i in list2:\n",
    "    print(i)"
   ]
  },
  {
   "cell_type": "code",
   "execution_count": 4,
   "metadata": {
    "slideshow": {
     "slide_type": "subslide"
    }
   },
   "outputs": [
    {
     "name": "stdout",
     "output_type": "stream",
     "text": [
      "1\n",
      "2\n",
      "3\n"
     ]
    }
   ],
   "source": [
    "# Creating a tuple\n",
    "tuple1 = (1, 2, 3)\n",
    "\n",
    "# Using for loop to print all elements in the tuple\n",
    "for x in tuple1:\n",
    "    print(x)"
   ]
  },
  {
   "cell_type": "code",
   "execution_count": 5,
   "metadata": {
    "slideshow": {
     "slide_type": "subslide"
    }
   },
   "outputs": [
    {
     "name": "stdout",
     "output_type": "stream",
     "text": [
      "1\n",
      "2\n",
      "3\n",
      "Farah\n",
      "Python\n",
      "Anaconda\n",
      "(1, 'Farah')\n",
      "(2, 'Python')\n",
      "(3, 'Anaconda')\n"
     ]
    }
   ],
   "source": [
    "# Creating a dictionary\n",
    "dict1 = {1:\"Farah\", 2:\"Python\", 3:\"Anaconda\"}\n",
    "\n",
    "# Using for loop to print key/values/items in the dictionary\n",
    "for d in dict1:\n",
    "    print(d)\n",
    "    \n",
    "for d in dict1.values():\n",
    "    print(d)\n",
    "    \n",
    "for d in dict1.items():\n",
    "    print(d)"
   ]
  },
  {
   "cell_type": "markdown",
   "metadata": {
    "slideshow": {
     "slide_type": "subslide"
    }
   },
   "source": [
    "### The Dictionary\n",
    "First, we have a dictionary called `dict1`:\n",
    "```python\n",
    "dict1 = {1: \"Farah\", 2: \"Python\", 3: \"Anaconda\"}\n",
    "```\n",
    "This dictionary has keys (`1`, `2`, `3`) and corresponding values (`\"Farah\"`, `\"Python\"`, `\"Anaconda\"`).\n",
    "\n",
    "### First `for` Loop: Iterating Over Keys\n",
    "```python\n",
    "for d in dict1:\n",
    "    print(d)\n",
    "```\n",
    "- `for d in dict1:`: This loop iterates over the keys of the dictionary.\n",
    "- `d` will take each key from the dictionary one by one.\n",
    "- `print(d)`: This prints each key.\n",
    "\n",
    "Output:\n",
    "```\n",
    "1\n",
    "2\n",
    "3\n",
    "```\n",
    "\n",
    "### Second `for` Loop: Iterating Over Values\n",
    "```python\n",
    "for d in dict1.values():\n",
    "    print(d)\n",
    "```\n",
    "- `for d in dict1.values():`: This loop iterates over the values of the dictionary.\n",
    "- `d` will take each value from the dictionary one by one.\n",
    "- `print(d)`: This prints each value.\n",
    "\n",
    "Output:\n",
    "```\n",
    "Farah\n",
    "Python\n",
    "Anaconda\n",
    "```\n",
    "\n",
    "### Third `for` Loop: Iterating Over Items\n",
    "```python\n",
    "for d in dict1.items():\n",
    "    print(d)\n",
    "```\n",
    "- `for d in dict1.items():`: This loop iterates over the key-value pairs (items) of the dictionary.\n",
    "- `d` will take each item (which is a tuple containing a key and its corresponding value) from the dictionary one by one.\n",
    "- `print(d)`: This prints each item (tuple).\n",
    "\n",
    "Output:\n",
    "```\n",
    "(1, 'Farah')\n",
    "(2, 'Python')\n",
    "(3, 'Anaconda')\n",
    "```\n",
    "\n",
    "### Summary\n",
    "- The first loop prints the keys of the dictionary.\n",
    "- The second loop prints the values of the dictionary.\n",
    "- The third loop prints the key-value pairs (items) of the dictionary."
   ]
  },
  {
   "cell_type": "code",
   "execution_count": 6,
   "metadata": {
    "slideshow": {
     "slide_type": "subslide"
    }
   },
   "outputs": [
    {
     "name": "stdout",
     "output_type": "stream",
     "text": [
      "2\n",
      "4\n",
      "6\n",
      "8\n"
     ]
    }
   ],
   "source": [
    "# Creating a set\n",
    "set1 = set([1, 2, 3, 4])\n",
    "\n",
    "# Using for loop multiply all the elements of the set by 2 and print them\n",
    "for s in set1:\n",
    "    z = s*2\n",
    "    print(z)"
   ]
  },
  {
   "cell_type": "markdown",
   "metadata": {
    "slideshow": {
     "slide_type": "slide"
    }
   },
   "source": [
    "<div style=\"background-color:beige;color:beige\">\n",
    "\n",
    " <h2 style=\"padding:1em;text-align:left;color:#00008B\">Control Structure : <b>for </b> </h2>\n",
    "\n",
    "<ul><li><span style=\"color:#00008B;font-size:20px\">\n",
    "Commonly used looping structure. <br><br>\n",
    "Used for iterating over the elements of an object (list, string, etc.)<br><br>\n",
    "Define an iterator value (e.g., i) and assign an iterable i.e., an object used for iteration. <br><br>\n",
    "<b>Syntax:</b> for iterator in iterable:<br>\n",
    "&nbsp;&nbsp;&nbsp;&nbsp;&nbsp;&nbsp;&nbsp;&nbsp;&nbsp;&nbsp;&nbsp;&nbsp;&nbsp;&nbsp;&nbsp;&nbsp;&nbsp;&nbsp;&nbsp;&nbsp;&nbsp;&nbsp;&nbsp;&nbsp;&nbsp;&nbsp;&nbsp;&nbsp;&nbsp;&nbsp;&nbsp;&nbsp;&nbsp;&nbsp;&nbsp;&nbsp;&nbsp;&nbsp;&nbsp;&nbsp;&nbsp;&nbsp;     \n",
    "    Statement 1<br>\n",
    "&nbsp;&nbsp;&nbsp;&nbsp;&nbsp;&nbsp;&nbsp;&nbsp;&nbsp;&nbsp;&nbsp;&nbsp;&nbsp;&nbsp;&nbsp;&nbsp;&nbsp;&nbsp;&nbsp;&nbsp;&nbsp;&nbsp;&nbsp;&nbsp;&nbsp;&nbsp;&nbsp;&nbsp;&nbsp;&nbsp;&nbsp;&nbsp;&nbsp;&nbsp;&nbsp;&nbsp;&nbsp;&nbsp;&nbsp;&nbsp;&nbsp;&nbsp; \n",
    "    Statement n \n",
    "<br><br>\n",
    "Iterate over a sequence of numbers –  <b>range() </b>.\n",
    "</span></li></ul> <br><br>\n",
    " \n",
    "\n",
    "<br><br>\n",
    "<footer>\n",
    "<table style=\"border:none;width:100%\">\n",
    "<tr><td style= \"text-align:left;background-color:blue;color:white;font-size:80%;\"> Farah Ibrar</td><td style= \"text-align:center;background-color:blue;color:white;font-size:80%;\"> Programming in Python </td><td style= \"text-align:right;background-color:blue;color:white;font-size:80%;\">Control Structure</td></tr></table>\n",
    "</footer>\n",
    "\n",
    "</div>"
   ]
  },
  {
   "cell_type": "code",
   "execution_count": 7,
   "metadata": {
    "slideshow": {
     "slide_type": "subslide"
    }
   },
   "outputs": [
    {
     "name": "stdout",
     "output_type": "stream",
     "text": [
      "0\n",
      "1\n",
      "2\n",
      "3\n",
      "4\n",
      "5\n",
      "6\n",
      "7\n",
      "8\n",
      "9\n"
     ]
    }
   ],
   "source": [
    "#prints 0 to 9\n",
    "for i in range(10):\n",
    "    print(i)"
   ]
  },
  {
   "cell_type": "code",
   "execution_count": 8,
   "metadata": {
    "slideshow": {
     "slide_type": "subslide"
    }
   },
   "outputs": [
    {
     "name": "stdout",
     "output_type": "stream",
     "text": [
      "1\n",
      "2\n",
      "3\n",
      "4\n",
      "1\n",
      "3\n"
     ]
    }
   ],
   "source": [
    "# define the limits in range\n",
    "# for iterator range (intial_value, end_condition)\n",
    "# Remeber while iterating, it will process the value end_condition-1, like in this example it will print values 1, 2, 3 and 4\n",
    "\n",
    "for i in range(1, 5):\n",
    "    print(i)\n",
    "    \n",
    "    \n",
    "# for iterator range (intial_value, end_condition, incremental_value)\n",
    "# incremental_value - performs an action after each iteration\n",
    "for i in range(1, 5, 2):\n",
    "    print(i)"
   ]
  },
  {
   "cell_type": "markdown",
   "metadata": {
    "slideshow": {
     "slide_type": "subslide"
    }
   },
   "source": [
    "^ Explain the `for` loops using `range`:\n",
    "\n",
    "### First `for` Loop: Basic Range\n",
    "```python\n",
    "for i in range(1, 5):\n",
    "    print(i)\n",
    "```\n",
    "- `range(1, 5)`: Generates numbers from 1 to 4 (stops before 5).\n",
    "- `for i in range(1, 5)`: `i` takes each value from 1 to 4 in sequence.\n",
    "- `print(i)`: Prints each value of `i`.\n",
    "\n",
    "Output:\n",
    "```\n",
    "1\n",
    "2\n",
    "3\n",
    "4\n",
    "```\n",
    "\n",
    "### Second `for` Loop: Range with Step\n",
    "```python\n",
    "for i in range(1, 5, 2):\n",
    "    print(i)\n",
    "```\n",
    "- `range(1, 5, 2)`: Generates numbers from 1 to 4, stepping by 2.\n",
    "- `for i in range(1, 5, 2)`: `i` takes values 1, then 3 (increments by 2 each time).\n",
    "- `print(i)`: Prints each value of `i`.\n",
    "\n",
    "Output:\n",
    "```\n",
    "1\n",
    "3\n",
    "```\n",
    "\n",
    "### Summary\n",
    "- `range(start, end)`: Generates numbers from `start` to `end-1`.\n",
    "- `range(start, end, step)`: Generates numbers from `start` to `end-1`, incrementing by `step`.\n",
    "- The loop prints each generated number."
   ]
  },
  {
   "cell_type": "code",
   "execution_count": 12,
   "metadata": {
    "slideshow": {
     "slide_type": "subslide"
    }
   },
   "outputs": [
    {
     "name": "stdout",
     "output_type": "stream",
     "text": [
      "Enter a value:35\n",
      "1\n",
      "2\n",
      "6\n",
      "24\n",
      "120\n",
      "720\n",
      "5040\n",
      "40320\n",
      "362880\n",
      "3628800\n",
      "39916800\n",
      "479001600\n",
      "6227020800\n",
      "87178291200\n",
      "1307674368000\n",
      "20922789888000\n",
      "355687428096000\n",
      "6402373705728000\n",
      "121645100408832000\n",
      "2432902008176640000\n",
      "51090942171709440000\n",
      "1124000727777607680000\n",
      "25852016738884976640000\n",
      "620448401733239439360000\n",
      "15511210043330985984000000\n",
      "403291461126605635584000000\n",
      "10888869450418352160768000000\n",
      "304888344611713860501504000000\n",
      "8841761993739701954543616000000\n",
      "265252859812191058636308480000000\n",
      "8222838654177922817725562880000000\n",
      "263130836933693530167218012160000000\n",
      "8683317618811886495518194401280000000\n",
      "295232799039604140847618609643520000000\n",
      "10333147966386144929666651337523200000000\n"
     ]
    }
   ],
   "source": [
    "# Ask user to enter a value, and calculate its factorial value \n",
    "z = int(input(\"Enter a value:\"))\n",
    "factorial = 1\n",
    "\n",
    "for i in range(1, z+1):\n",
    "    factorial = i*factorial\n",
    "    print(factorial)"
   ]
  },
  {
   "cell_type": "markdown",
   "metadata": {
    "slideshow": {
     "slide_type": "slide"
    }
   },
   "source": [
    "<div style=\"background-color:beige;color:beige\">\n",
    "\n",
    " <h2 style=\"padding:1em;text-align:left;color:#00008B\">Control Structure : <b>for </b> </h2>\n",
    "\n",
    "<ul><li><span style=\"color:#00008B;font-size:20px\">\n",
    "Commonly used looping structure. <br><br>\n",
    "Used for iterating over the elements of an object (list, string, etc.)<br><br>\n",
    "Define an iterator value (e.g., i) and assign an iterable i.e., an object used for iteration. <br><br>\n",
    "<b>Syntax:</b> for iterator in iterable:<br>\n",
    "&nbsp;&nbsp;&nbsp;&nbsp;&nbsp;&nbsp;&nbsp;&nbsp;&nbsp;&nbsp;&nbsp;&nbsp;&nbsp;&nbsp;&nbsp;&nbsp;&nbsp;&nbsp;&nbsp;&nbsp;&nbsp;&nbsp;&nbsp;&nbsp;&nbsp;&nbsp;&nbsp;&nbsp;&nbsp;&nbsp;&nbsp;&nbsp;&nbsp;&nbsp;&nbsp;&nbsp;&nbsp;&nbsp;&nbsp;&nbsp;&nbsp;&nbsp;     \n",
    "    Statement 1<br>\n",
    "&nbsp;&nbsp;&nbsp;&nbsp;&nbsp;&nbsp;&nbsp;&nbsp;&nbsp;&nbsp;&nbsp;&nbsp;&nbsp;&nbsp;&nbsp;&nbsp;&nbsp;&nbsp;&nbsp;&nbsp;&nbsp;&nbsp;&nbsp;&nbsp;&nbsp;&nbsp;&nbsp;&nbsp;&nbsp;&nbsp;&nbsp;&nbsp;&nbsp;&nbsp;&nbsp;&nbsp;&nbsp;&nbsp;&nbsp;&nbsp;&nbsp;&nbsp; \n",
    "    Statement n \n",
    "<br><br>\n",
    "Iterate over a sequence of numbers – range(). <br><br>\n",
    "Iterate over the indices of a sequence - range() and <b>len()</b>.\n",
    "</span></li></ul> <br><br>\n",
    " \n",
    "\n",
    "<br><br>\n",
    "<footer>\n",
    "<table style=\"border:none;width:100%\">\n",
    "<tr><td style= \"text-align:left;background-color:blue;color:white;font-size:80%;\"> Farah Ibrar </td><td style= \"text-align:center;background-color:blue;color:white;font-size:80%;\"> Programming in Python </td><td style= \"text-align:right;background-color:blue;color:white;font-size:80%;\">Control Structure</td></tr></table>\n",
    "</footer>\n",
    "\n",
    "</div>"
   ]
  },
  {
   "cell_type": "code",
   "execution_count": 13,
   "metadata": {
    "slideshow": {
     "slide_type": "subslide"
    }
   },
   "outputs": [
    {
     "name": "stdout",
     "output_type": "stream",
     "text": [
      "0 1\n",
      "1 2.5\n",
      "2 Umar\n"
     ]
    }
   ],
   "source": [
    "# Creating a list having a mix of numeric and string variables\n",
    "list2 =  [1, 2.5, 'Umar']\n",
    "\n",
    "# Using for loop with len function to print all elements with their index position\n",
    "for i in range(len(list2)):\n",
    "    print(i, list2[i])"
   ]
  },
  {
   "cell_type": "markdown",
   "metadata": {
    "slideshow": {
     "slide_type": "slide"
    }
   },
   "source": [
    "<div style=\"background-color:beige;color:beige\">\n",
    "\n",
    " <h2 style=\"padding:1em;text-align:left;color:#00008B\">Control Structure : <b>for </b> </h2>\n",
    "\n",
    "<ul><li><span style=\"color:#00008B;font-size:20px\">\n",
    "Commonly used looping structure. <br><br>\n",
    "Used for iterating over the elements of an object (list, string, etc.)<br><br>\n",
    "Define an iterator value (e.g., i) and assign an iterable i.e., an object used for iteration. <br><br>\n",
    "<b>Syntax:</b> for iterator in iterable:<br>\n",
    "&nbsp;&nbsp;&nbsp;&nbsp;&nbsp;&nbsp;&nbsp;&nbsp;&nbsp;&nbsp;&nbsp;&nbsp;&nbsp;&nbsp;&nbsp;&nbsp;&nbsp;&nbsp;&nbsp;&nbsp;&nbsp;&nbsp;&nbsp;&nbsp;&nbsp;&nbsp;&nbsp;&nbsp;&nbsp;&nbsp;&nbsp;&nbsp;&nbsp;&nbsp;&nbsp;&nbsp;&nbsp;&nbsp;&nbsp;&nbsp;&nbsp;&nbsp;     \n",
    "    Statement 1<br>\n",
    "&nbsp;&nbsp;&nbsp;&nbsp;&nbsp;&nbsp;&nbsp;&nbsp;&nbsp;&nbsp;&nbsp;&nbsp;&nbsp;&nbsp;&nbsp;&nbsp;&nbsp;&nbsp;&nbsp;&nbsp;&nbsp;&nbsp;&nbsp;&nbsp;&nbsp;&nbsp;&nbsp;&nbsp;&nbsp;&nbsp;&nbsp;&nbsp;&nbsp;&nbsp;&nbsp;&nbsp;&nbsp;&nbsp;&nbsp;&nbsp;&nbsp;&nbsp; \n",
    "    Statement n \n",
    "<br><br>\n",
    "Iterate over a sequence of numbers –  range().<br><br>\n",
    "Iterate over the indices of a sequence - range() and len(). <br><br>\n",
    "<b>Break</b> (stop and exit the loop) and <b>continue</b> (stops current iteration) statement.\n",
    "\n",
    "</span></li></ul> <br><br>\n",
    " \n",
    "\n",
    "<br><br>\n",
    "<footer>\n",
    "<table style=\"border:none;width:100%\">\n",
    "<tr><td style= \"text-align:left;background-color:blue;color:white;font-size:80%;\"> Farah Ibrar </td><td style= \"text-align:center;background-color:blue;color:white;font-size:80%;\"> Programming in Python </td><td style= \"text-align:right;background-color:blue;color:white;font-size:80%;\">Control Structure</td></tr></table>\n",
    "</footer>\n",
    "\n",
    "</div>"
   ]
  },
  {
   "cell_type": "code",
   "execution_count": 14,
   "metadata": {
    "scrolled": true,
    "slideshow": {
     "slide_type": "subslide"
    }
   },
   "outputs": [
    {
     "name": "stdout",
     "output_type": "stream",
     "text": [
      "1\n",
      "3\n",
      "5\n"
     ]
    }
   ],
   "source": [
    "# Example using break in a for loop\n",
    "for i in range(1, 15, 2):\n",
    "    if i == 7:\n",
    "        break\n",
    "    print(i)"
   ]
  },
  {
   "cell_type": "markdown",
   "metadata": {
    "slideshow": {
     "slide_type": "subslide"
    }
   },
   "source": [
    "^\n",
    "### `for` Loop with `break`\n",
    "```python\n",
    "for i in range(1, 15, 2):\n",
    "    if i == 7:\n",
    "        break\n",
    "    print(i)\n",
    "```\n",
    "\n",
    "### Explanation:\n",
    "\n",
    "- `range(1, 15, 2)`: Generates numbers starting from 1 up to but not including 15, with a step of 2. This gives the sequence: 1, 3, 5, 7, 9, 11, 13.\n",
    "- `for i in range(1, 15, 2)`: The loop iterates over each number in the generated sequence.\n",
    "- `if i == 7: break`: When `i` equals 7, the `break` statement is executed, which exits the loop immediately.\n",
    "- `print(i)`: Prints the value of `i` in each iteration, unless the loop is broken.\n",
    "\n",
    "### Output:\n",
    "```\n",
    "1\n",
    "3\n",
    "5\n",
    "```\n",
    "\n",
    "### Summary:\n",
    "The loop prints numbers 1, 3, and 5. When `i` becomes 7, the `break` statement stops the loop, so 7 and any numbers after it are not printed."
   ]
  },
  {
   "cell_type": "code",
   "execution_count": 15,
   "metadata": {
    "slideshow": {
     "slide_type": "subslide"
    }
   },
   "outputs": [
    {
     "name": "stdout",
     "output_type": "stream",
     "text": [
      "1\n",
      "3\n",
      "5\n",
      "9\n",
      "11\n",
      "13\n"
     ]
    }
   ],
   "source": [
    "# Example using continue in a for loop\n",
    "for i in range(1, 15, 2):\n",
    "    if i == 7:\n",
    "        continue\n",
    "    print(i)"
   ]
  },
  {
   "cell_type": "markdown",
   "metadata": {
    "slideshow": {
     "slide_type": "subslide"
    }
   },
   "source": [
    "^\n",
    "\n",
    "### `for` Loop with `continue`\n",
    "```python\n",
    "for i in range(1, 15, 2):\n",
    "    if i == 7:\n",
    "        continue\n",
    "    print(i)\n",
    "```\n",
    "\n",
    "### Explanation:\n",
    "\n",
    "- `range(1, 15, 2)`: Generates numbers starting from 1 up to but not including 15, with a step of 2. This gives the sequence: 1, 3, 5, 7, 9, 11, 13.\n",
    "- `for i in range(1, 15, 2)`: The loop iterates over each number in the generated sequence.\n",
    "- `if i == 7: continue`: When `i` equals 7, the `continue` statement is executed. This skips the rest of the loop body for the current iteration and moves to the next iteration.\n",
    "- `print(i)`: Prints the value of `i` in each iteration, unless the loop is skipped by `continue`.\n",
    "\n",
    "### Output:\n",
    "```\n",
    "1\n",
    "3\n",
    "5\n",
    "9\n",
    "11\n",
    "13\n",
    "```\n",
    "\n",
    "### Summary:\n",
    "The loop prints numbers 1, 3, 5, 9, 11, and 13. When `i` becomes 7, the `continue` statement skips the `print(i)` statement for that iteration, so 7 is not printed. The loop then continues with the next numbers in the sequence."
   ]
  },
  {
   "cell_type": "markdown",
   "metadata": {
    "slideshow": {
     "slide_type": "slide"
    }
   },
   "source": [
    "<div style=\"background-color:beige;color:beige\">\n",
    "\n",
    " <h2 style=\"padding:1em;text-align:left;color:#00008B\">Control Structure : <b>for </b> </h2>\n",
    "\n",
    "<ul><li><span style=\"color:#00008B;font-size:20px\">\n",
    "Commonly used looping structure. <br><br>\n",
    "Used for iterating over the elements of an object (list, string, etc.)<br><br>\n",
    "Define an iterator value (e.g., i) and assign an iterable i.e., an object used for iteration. <br><br>\n",
    "<b>Syntax:</b> for iterator in iterable:<br>\n",
    "&nbsp;&nbsp;&nbsp;&nbsp;&nbsp;&nbsp;&nbsp;&nbsp;&nbsp;&nbsp;&nbsp;&nbsp;&nbsp;&nbsp;&nbsp;&nbsp;&nbsp;&nbsp;&nbsp;&nbsp;&nbsp;&nbsp;&nbsp;&nbsp;&nbsp;&nbsp;&nbsp;&nbsp;&nbsp;&nbsp;&nbsp;&nbsp;&nbsp;&nbsp;&nbsp;&nbsp;&nbsp;&nbsp;&nbsp;&nbsp;&nbsp;&nbsp;     \n",
    "    Statement 1<br>\n",
    "&nbsp;&nbsp;&nbsp;&nbsp;&nbsp;&nbsp;&nbsp;&nbsp;&nbsp;&nbsp;&nbsp;&nbsp;&nbsp;&nbsp;&nbsp;&nbsp;&nbsp;&nbsp;&nbsp;&nbsp;&nbsp;&nbsp;&nbsp;&nbsp;&nbsp;&nbsp;&nbsp;&nbsp;&nbsp;&nbsp;&nbsp;&nbsp;&nbsp;&nbsp;&nbsp;&nbsp;&nbsp;&nbsp;&nbsp;&nbsp;&nbsp;&nbsp; \n",
    "    Statement n \n",
    "<br><br>\n",
    "Iterate over a sequence of numbers –  <b>range() </b>.<br><br>\n",
    "Iterate over the indices of a sequence - range() and <b>len()</b>. <br><br>\n",
    "Break (stop and exit the loop) and continue (stops current iteration) statement. <br><br>\n",
    "<b> Else </b> in a for loop.\n",
    "\n",
    "</span></li></ul> <br><br>\n",
    " \n",
    "\n",
    "<br><br>\n",
    "<footer>\n",
    "<table style=\"border:none;width:100%\">\n",
    "<tr><td style= \"text-align:left;background-color:blue;color:white;font-size:80%;\"> Farah Ibrar</td><td style= \"text-align:center;background-color:blue;color:white;font-size:80%;\"> Programming in Python </td><td style= \"text-align:right;background-color:blue;color:white;font-size:80%;\">Control Structure</td></tr></table>\n",
    "</footer>\n",
    "\n",
    "</div>"
   ]
  },
  {
   "cell_type": "code",
   "execution_count": 16,
   "metadata": {
    "slideshow": {
     "slide_type": "subslide"
    }
   },
   "outputs": [
    {
     "name": "stdout",
     "output_type": "stream",
     "text": [
      "1\n",
      "3\n",
      "5\n",
      "7\n",
      "9\n",
      "11\n",
      "13\n",
      "All the value have been printed.\n"
     ]
    }
   ],
   "source": [
    "# Example using else with a for loop\n",
    "for i in range(1, 15, 2):\n",
    "    print(i)\n",
    "else:\n",
    "    print(\"All the value have been printed.\")"
   ]
  },
  {
   "cell_type": "code",
   "execution_count": 17,
   "metadata": {
    "slideshow": {
     "slide_type": "subslide"
    }
   },
   "outputs": [
    {
     "name": "stdout",
     "output_type": "stream",
     "text": [
      "1\n",
      "3\n",
      "5\n"
     ]
    }
   ],
   "source": [
    "# Else clause will not be executed if there is break clause, but it will with continue\n",
    "z = 7\n",
    "for i in range(1, 15, 2):\n",
    "    if i == z:\n",
    "        break\n",
    "    print(i)\n",
    "else:\n",
    "    print(\"Exiting as z value in the loop.\")"
   ]
  },
  {
   "cell_type": "markdown",
   "metadata": {
    "slideshow": {
     "slide_type": "slide"
    }
   },
   "source": [
    "<div style=\"background-color:beige;color:beige\">\n",
    "\n",
    " <h2 style=\"padding:1em;text-align:left;color:#00008B\">Control Structure : <b>for </b> </h2>\n",
    "\n",
    "<ul><li><span style=\"color:#00008B;font-size:20px\">\n",
    "Commonly used looping structure. <br><br>\n",
    "Used for iterating over the elements of an object (list, string, etc.)<br><br>\n",
    "Define an iterator value (e.g., i) and assign an iterable i.e., an object used for iteration. <br><br>\n",
    "<b>Syntax:</b> for iterator in iterable:<br>\n",
    "&nbsp;&nbsp;&nbsp;&nbsp;&nbsp;&nbsp;&nbsp;&nbsp;&nbsp;&nbsp;&nbsp;&nbsp;&nbsp;&nbsp;&nbsp;&nbsp;&nbsp;&nbsp;&nbsp;&nbsp;&nbsp;&nbsp;&nbsp;&nbsp;&nbsp;&nbsp;&nbsp;&nbsp;&nbsp;&nbsp;&nbsp;&nbsp;&nbsp;&nbsp;&nbsp;&nbsp;&nbsp;&nbsp;&nbsp;&nbsp;&nbsp;&nbsp;     \n",
    "    Statement 1<br>\n",
    "&nbsp;&nbsp;&nbsp;&nbsp;&nbsp;&nbsp;&nbsp;&nbsp;&nbsp;&nbsp;&nbsp;&nbsp;&nbsp;&nbsp;&nbsp;&nbsp;&nbsp;&nbsp;&nbsp;&nbsp;&nbsp;&nbsp;&nbsp;&nbsp;&nbsp;&nbsp;&nbsp;&nbsp;&nbsp;&nbsp;&nbsp;&nbsp;&nbsp;&nbsp;&nbsp;&nbsp;&nbsp;&nbsp;&nbsp;&nbsp;&nbsp;&nbsp; \n",
    "    Statement n \n",
    "<br><br>\n",
    "Iterate over a sequence of numbers –  range().<br><br>\n",
    "Iterate over the indices of a sequence - range() and len(). <br><br>\n",
    "Break (stop and exit the loop) and continue (stops current iteration) statement. <br><br>\n",
    "Else in a for loop. <br><br>\n",
    "<b>Nested</b> loop.\n",
    "\n",
    "</span></li></ul> <br><br>\n",
    " \n",
    "\n",
    "<br><br>\n",
    "<footer>\n",
    "<table style=\"border:none;width:100%\">\n",
    "<tr><td style= \"text-align:left;background-color:blue;color:white;font-size:80%;\"> Farah Ibrar </td><td style= \"text-align:center;background-color:blue;color:white;font-size:80%;\"> Programming in Python </td><td style= \"text-align:right;background-color:blue;color:white;font-size:80%;\">Control Structure</td></tr></table>\n",
    "</footer>\n",
    "\n",
    "</div>"
   ]
  },
  {
   "cell_type": "code",
   "execution_count": 18,
   "metadata": {},
   "outputs": [
    {
     "name": "stdout",
     "output_type": "stream",
     "text": [
      "1 Dipankar\n",
      "1 Python\n",
      "1 Notebook\n",
      "2 Dipankar\n",
      "2 Python\n",
      "2 Notebook\n",
      "3 Dipankar\n",
      "3 Python\n",
      "3 Notebook\n",
      "4 Dipankar\n",
      "4 Python\n",
      "4 Notebook\n"
     ]
    }
   ],
   "source": [
    "list1 = [1, 2, 3, 4] \n",
    "list3 = ['Dipankar', 'Python', 'Notebook']\n",
    "\n",
    "for i in list1:\n",
    "    for j in list3:\n",
    "        print(i, j)\n"
   ]
  },
  {
   "attachments": {
    "image.png": {
     "image/png": "[encoded data removed]"
    }
   },
   "cell_type": "markdown",
   "metadata": {
    "slideshow": {
     "slide_type": "slide"
    }
   },
   "source": [
    "<div style=\"background-color:beige;color:beige\">\n",
    "\n",
    "<h1 style=\"padding:1em;text-align:center;color:#00008B\">EXERCISE</h1>\n",
    "\n",
    "<ul><li><span style=\"color:#00008B;font-size:20px\">\n",
    "    \n",
    "1. Write a program in python, which asks user to enter two numerical values. Return all the even numbers in between these two user-specified values. <br><br>\n",
    "    \n",
    "2. WAP in Python to classify the given set of proteins into two groups. First group should have proteins whose M.W. is greater than or equal to Protein X (M.W. 450 Kda) and for second group lesser than Protein X.\n",
    "\n",
    "![image.png](attachment:image.png) <br><br>\n",
    "\n",
    "</span></li></ul>\n",
    "    \n",
    "<footer>\n",
    "<table style=\"border:none;width:100%\">\n",
    "<tr><td style= \"text-align:left;background-color:blue;color:white;font-size:80%;\"> Farah Ibrar </td><td style= \"text-align:center;background-color:blue;color:white;font-size:80%;\"> Programming in Python </td><td style= \"text-align:right;background-color:blue;color:white;font-size:80%;\">Control Structure</td></tr></table>\n",
    "</footer>\n",
    "\n",
    "</div>"
   ]
  },
  {
   "cell_type": "code",
   "execution_count": 19,
   "metadata": {
    "slideshow": {
     "slide_type": "subslide"
    }
   },
   "outputs": [
    {
     "name": "stdout",
     "output_type": "stream",
     "text": [
      "Enter the first number: 33\n",
      "Enter the second number: 44\n",
      "Even numbers between 33 and 44 are: [34, 36, 38, 40, 42]\n"
     ]
    }
   ],
   "source": [
    "# Ask the user to enter two numerical values\n",
    "start = int(input(\"Enter the first number: \"))\n",
    "end = int(input(\"Enter the second number: \"))\n",
    "\n",
    "# Ensure start is less than end\n",
    "if start > end:\n",
    "    start, end = end, start\n",
    "\n",
    "# Initialize an empty list to store the even numbers\n",
    "even_numbers = []\n",
    "\n",
    "# Iterate over the range and collect even numbers\n",
    "for i in range(start + 1, end):\n",
    "    if i % 2 == 0:\n",
    "        even_numbers.append(i)\n",
    "\n",
    "# Print the list of even numbers\n",
    "print(\"Even numbers between\", start, \"and\", end, \"are:\", even_numbers)"
   ]
  },
  {
   "cell_type": "code",
   "execution_count": 21,
   "metadata": {},
   "outputs": [
    {
     "name": "stdout",
     "output_type": "stream",
     "text": [
      "Proteins with M.W. >= 450 KDa:\n",
      "['Protein 3', 'Protein 4', 'Protein 5', 'Protein 7', 'Protein 9', 'Protein 10']\n",
      "\n",
      "Proteins with M.W. < 450 KDa:\n",
      "['Protein 1', 'Protein 2', 'Protein 6', 'Protein 8']\n"
     ]
    }
   ],
   "source": [
    "# Define the molecular weight of Protein X\n",
    "protein_x_mw = 450\n",
    "\n",
    "# Function to classify proteins\n",
    "def classify_proteins(proteins):\n",
    "    greater_equal_group = []\n",
    "    lesser_group = []\n",
    "    \n",
    "    for protein, mw in proteins.items():\n",
    "        if mw >= protein_x_mw:\n",
    "            greater_equal_group.append(protein)\n",
    "        else:\n",
    "            lesser_group.append(protein)\n",
    "    \n",
    "    return greater_equal_group, lesser_group\n",
    "\n",
    "# Example set of proteins with their molecular weights\n",
    "proteins = {\n",
    "    'Protein 1': 180,\n",
    "    'Protein 2': 345,\n",
    "    'Protein 3': 568,\n",
    "    'Protein 4': 765,\n",
    "    'Protein 5': 564,\n",
    "    'Protein 6':120,\n",
    "    'Protein 7':1350,\n",
    "    'Protein 8':245,\n",
    "    'Protein 9':865,\n",
    "    'Protein 10':514\n",
    "}\n",
    "\n",
    "# Classify the proteins\n",
    "greater_equal_group, lesser_group = classify_proteins(proteins)\n",
    "\n",
    "# Print the results\n",
    "print(\"Proteins with M.W. >= 450 KDa:\")\n",
    "print(greater_equal_group)\n",
    "\n",
    "print(\"\\nProteins with M.W. < 450 KDa:\")\n",
    "print(lesser_group)"
   ]
  }
 ],
 "metadata": {
  "celltoolbar": "Slideshow",
  "kernelspec": {
   "display_name": "Python 3 (ipykernel)",
   "language": "python",
   "name": "python3"
  },
  "language_info": {
   "codemirror_mode": {
    "name": "ipython",
    "version": 3
   },
   "file_extension": ".py",
   "mimetype": "text/x-python",
   "name": "python",
   "nbconvert_exporter": "python",
   "pygments_lexer": "ipython3",
   "version": "3.10.9"
  }
 },
 "nbformat": 4,
 "nbformat_minor": 4
}
