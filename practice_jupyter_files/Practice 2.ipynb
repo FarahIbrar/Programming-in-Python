{
 "cells": [
  {
   "cell_type": "markdown",
   "id": "7a147a3b",
   "metadata": {},
   "source": [
    "# Data Structure Practice"
   ]
  },
  {
   "cell_type": "markdown",
   "id": "6f8ff2ee",
   "metadata": {},
   "source": [
    "- The code prompts the user to enter six integer values, one by one. \n",
    "- These values are then stored in a list called list1, which is printed at the end."
   ]
  },
  {
   "cell_type": "code",
   "execution_count": 1,
   "id": "7f3c4f9e",
   "metadata": {},
   "outputs": [
    {
     "name": "stdout",
     "output_type": "stream",
     "text": [
      "Enter a value:22\n",
      "Enter a value:23\n",
      "Enter a value:25\n",
      "Enter a value:26\n",
      "Enter a value:76\n",
      "Enter a value:50\n",
      "[22, 23, 25, 26, 76, 50]\n"
     ]
    }
   ],
   "source": [
    "a = int(input(\"Enter a value:\"))\n",
    "b = int(input(\"Enter a value:\"))\n",
    "c = int(input(\"Enter a value:\"))\n",
    "d = int(input(\"Enter a value:\"))\n",
    "e = int(input(\"Enter a value:\"))\n",
    "f = int(input(\"Enter a value:\"))\n",
    "\n",
    "list1 = [a, b, c, d, e, f]\n",
    "\n",
    "print(list1)"
   ]
  },
  {
   "cell_type": "code",
   "execution_count": 2,
   "id": "ba8fcc02",
   "metadata": {},
   "outputs": [
    {
     "name": "stdout",
     "output_type": "stream",
     "text": [
      "3\n"
     ]
    }
   ],
   "source": [
    "print(list1.index(d))\n",
    "# The code prints the index (position) of the value d in the list list1."
   ]
  },
  {
   "cell_type": "code",
   "execution_count": 3,
   "id": "1389eaa7",
   "metadata": {},
   "outputs": [
    {
     "name": "stdout",
     "output_type": "stream",
     "text": [
      "76\n"
     ]
    }
   ],
   "source": [
    "print(list1[4])\n",
    "# The code prints the value at index 4 in the list list1."
   ]
  },
  {
   "cell_type": "code",
   "execution_count": 4,
   "id": "59c15e40",
   "metadata": {},
   "outputs": [
    {
     "name": "stdout",
     "output_type": "stream",
     "text": [
      "[23, 25, 26]\n"
     ]
    }
   ],
   "source": [
    "print(list1[1:4])"
   ]
  },
  {
   "cell_type": "markdown",
   "id": "3a7a5d68",
   "metadata": {},
   "source": [
    "The code prints the sublist of list1 containing elements from index 1 to 3 (the slice does not include the element at index 4)."
   ]
  },
  {
   "cell_type": "code",
   "execution_count": 5,
   "id": "07aab965",
   "metadata": {},
   "outputs": [
    {
     "name": "stdout",
     "output_type": "stream",
     "text": [
      "<built-in method reverse of list object at 0x1132eb700>\n"
     ]
    }
   ],
   "source": [
    "print(list1.reverse)\n",
    "# <built-in method reverse of list object at 0x109055440>"
   ]
  },
  {
   "cell_type": "code",
   "execution_count": null,
   "id": "e6ee5fa4",
   "metadata": {},
   "outputs": [],
   "source": [
    "#you are not passing any argument here that's why it's different in nature to the print(len(list1)). "
   ]
  },
  {
   "cell_type": "markdown",
   "id": "573e56ed",
   "metadata": {},
   "source": [
    "The code `print(list1.reverse)` would not work as intended because reverse is a `method`, not a `property`. \n",
    "To `reverse` the list and `print` it, you should use the `reverse` method followed by a `print statement`."
   ]
  },
  {
   "cell_type": "code",
   "execution_count": 7,
   "id": "1f02bf52",
   "metadata": {
    "scrolled": true
   },
   "outputs": [
    {
     "name": "stdout",
     "output_type": "stream",
     "text": [
      "[50, 76, 26, 25, 23, 22]\n"
     ]
    }
   ],
   "source": [
    "list1.reverse()\n",
    "print(list1)"
   ]
  },
  {
   "cell_type": "code",
   "execution_count": 9,
   "id": "b810069e",
   "metadata": {},
   "outputs": [
    {
     "name": "stdout",
     "output_type": "stream",
     "text": [
      "6\n"
     ]
    }
   ],
   "source": [
    "print(len(list1))\n",
    "# This would print the length of the list"
   ]
  },
  {
   "cell_type": "code",
   "execution_count": null,
   "id": "e6f4f6e1",
   "metadata": {},
   "outputs": [],
   "source": [
    "#you are passing an argument here "
   ]
  },
  {
   "cell_type": "code",
   "execution_count": 10,
   "id": "73625b91",
   "metadata": {},
   "outputs": [
    {
     "name": "stdout",
     "output_type": "stream",
     "text": [
      "[50, 76, 26, 25, 23, 22, 99]\n"
     ]
    }
   ],
   "source": [
    "list1.append(99)\n",
    "print (list1)\n",
    "# The code adds the value 99 to the end of the list list1 and then prints the updated list."
   ]
  },
  {
   "cell_type": "markdown",
   "id": "ccecb36c",
   "metadata": {},
   "source": [
    "#### Difference between append and insert:\n",
    "\n",
    "- `append(value)` adds value to the end of the list.\n",
    "- `insert(index, value)` adds value at the specified index, shifting subsequent elements to the right.\n",
    "\n",
    "#### Best use situation:\n",
    "\n",
    "- Use `append` when you need to add an element to the end of the list.\n",
    "- Use `insert` when you need to add an element at a specific position in the list."
   ]
  },
  {
   "cell_type": "code",
   "execution_count": 11,
   "id": "af6a8913",
   "metadata": {},
   "outputs": [
    {
     "name": "stdout",
     "output_type": "stream",
     "text": [
      "[50, 'Hello', 76, 26, 25, 23, 22, 99]\n"
     ]
    }
   ],
   "source": [
    "list1.insert(1, 'Hello')\n",
    "print (list1)"
   ]
  },
  {
   "cell_type": "code",
   "execution_count": 12,
   "id": "3e7d260d",
   "metadata": {},
   "outputs": [
    {
     "name": "stdout",
     "output_type": "stream",
     "text": [
      "[50, 'Hello', 76, 26, 25, 23, 22, 99, 10, 15, 18]\n"
     ]
    }
   ],
   "source": [
    "list1.extend([10,15,18])\n",
    "print (list1)\n",
    "# Adds elements to the end of the list"
   ]
  },
  {
   "cell_type": "code",
   "execution_count": 13,
   "id": "b6447aa5",
   "metadata": {},
   "outputs": [
    {
     "name": "stdout",
     "output_type": "stream",
     "text": [
      "Enter a value:100\n",
      "Enter a value:354\n",
      "Enter a value:786\n",
      "Enter a value:435\n",
      "Enter a value:901\n",
      "Enter a value:223\n",
      "[100, 354, 786, 435, 901, 223]\n"
     ]
    }
   ],
   "source": [
    "a = int(input(\"Enter a value:\"))\n",
    "b = int(input(\"Enter a value:\"))\n",
    "c = int(input(\"Enter a value:\"))\n",
    "d = int(input(\"Enter a value:\"))\n",
    "e = int(input(\"Enter a value:\"))\n",
    "f = int(input(\"Enter a value:\"))\n",
    "\n",
    "list2 = [a, b, c, d, e, f]\n",
    "\n",
    "print(list2)"
   ]
  },
  {
   "cell_type": "code",
   "execution_count": 14,
   "id": "d54bba5d",
   "metadata": {},
   "outputs": [
    {
     "data": {
      "text/plain": [
       "[50, 'Hello', 76, 26, 25, 23, 22, 99, 10, 15, 18, 100, 354, 786, 435, 901, 223]"
      ]
     },
     "execution_count": 14,
     "metadata": {},
     "output_type": "execute_result"
    }
   ],
   "source": [
    "list1+list2\n",
    "#Concatenation method"
   ]
  },
  {
   "cell_type": "code",
   "execution_count": 18,
   "id": "619ab843",
   "metadata": {},
   "outputs": [
    {
     "name": "stdout",
     "output_type": "stream",
     "text": [
      "[354, 786, 435, 901, 223]\n"
     ]
    }
   ],
   "source": [
    "list2.remove(100)\n",
    "print (list2)\n",
    "# to remove - Error"
   ]
  },
  {
   "cell_type": "code",
   "execution_count": 21,
   "id": "2d6a5d59",
   "metadata": {},
   "outputs": [
    {
     "name": "stdout",
     "output_type": "stream",
     "text": [
      "[50, 76, 26, 25, 23, 22, 99, 10, 15, 18]\n"
     ]
    }
   ],
   "source": [
    "list1.remove('Hello')\n",
    "print(list1)"
   ]
  },
  {
   "cell_type": "code",
   "execution_count": 22,
   "id": "7f45e6d0",
   "metadata": {},
   "outputs": [
    {
     "name": "stdout",
     "output_type": "stream",
     "text": [
      "[354, 435, 901, 223]\n"
     ]
    }
   ],
   "source": [
    "list2.pop(1)\n",
    "print (list2)"
   ]
  },
  {
   "cell_type": "markdown",
   "id": "270cafef",
   "metadata": {},
   "source": [
    "- The code removes the element at `index 1` from `list2` using the `pop( )` method, and then prints the updated list."
   ]
  },
  {
   "cell_type": "code",
   "execution_count": 23,
   "id": "fb922046",
   "metadata": {},
   "outputs": [
    {
     "name": "stdout",
     "output_type": "stream",
     "text": [
      "[1, 6, 8, 7, 2, 9, 4, 3, 5]\n"
     ]
    }
   ],
   "source": [
    "list4 = [1, 6, 8, 7, 2, 9, 4, 3, 5]\n",
    "print (list4)"
   ]
  },
  {
   "cell_type": "code",
   "execution_count": 24,
   "id": "2756704a",
   "metadata": {},
   "outputs": [
    {
     "name": "stdout",
     "output_type": "stream",
     "text": [
      "[1, 2, 3, 4, 5, 6, 7, 8, 9]\n"
     ]
    }
   ],
   "source": [
    "list4.sort()\n",
    "print (list4)\n",
    "# Sorts the list in order"
   ]
  },
  {
   "cell_type": "code",
   "execution_count": 25,
   "id": "ce12392b",
   "metadata": {},
   "outputs": [
    {
     "name": "stdout",
     "output_type": "stream",
     "text": [
      "[9, 8, 7, 6, 5, 4, 3, 2, 1]\n"
     ]
    }
   ],
   "source": [
    "list4.sort(reverse=True)\n",
    "print (list4)"
   ]
  },
  {
   "cell_type": "markdown",
   "id": "f4bccce9",
   "metadata": {},
   "source": [
    "The code sorts the list `list4` in `descending order` (from highest to lowest) and stores the sorted result back into list4"
   ]
  },
  {
   "cell_type": "code",
   "execution_count": 26,
   "id": "05725a74",
   "metadata": {},
   "outputs": [
    {
     "name": "stdout",
     "output_type": "stream",
     "text": [
      "[1, 2, 3, 4, 5, 6, 7, 8, 9]\n"
     ]
    }
   ],
   "source": [
    "list4.sort(reverse=False)\n",
    "print (list4)\n",
    "#Sorts the list in ascending order."
   ]
  },
  {
   "cell_type": "code",
   "execution_count": 27,
   "id": "089937d9",
   "metadata": {},
   "outputs": [
    {
     "name": "stdout",
     "output_type": "stream",
     "text": [
      "['3.5m', '2', 'axb']\n"
     ]
    }
   ],
   "source": [
    "list5 = ['3.5m', '2', 'axb']\n",
    "print (list5)"
   ]
  },
  {
   "cell_type": "code",
   "execution_count": 28,
   "id": "a0d25a3f",
   "metadata": {},
   "outputs": [
    {
     "name": "stdout",
     "output_type": "stream",
     "text": [
      "['2', '3.5m', 'axb']\n"
     ]
    }
   ],
   "source": [
    "list5.sort()\n",
    "print (list5)"
   ]
  },
  {
   "cell_type": "code",
   "execution_count": 29,
   "id": "16aaf52c",
   "metadata": {},
   "outputs": [
    {
     "data": {
      "text/plain": [
       "[4, 16, 36, 64, 100]"
      ]
     },
     "execution_count": 29,
     "metadata": {},
     "output_type": "execute_result"
    }
   ],
   "source": [
    "object16 = [2, 4, 6, 8, 10]\n",
    "square_object16 = []\n",
    "\n",
    "for x in object16:\n",
    "    square_object16.append(x**2)\n",
    "square_object16"
   ]
  },
  {
   "cell_type": "markdown",
   "id": "379d4ff9",
   "metadata": {},
   "source": [
    "The code creates a new list `square_object16` that contains the squares of each element from the list `object16`.\n",
    "\n",
    "- `object16 = [2, 4, 6, 8, 10]`: Defines a list of integers.\n",
    "- `square_object16 = []`: Initializes an empty list to store the squared values.\n",
    "- `for x in object16:`: Iterates through each element `x` in `object16`.\n",
    "- `square_object16.append(x**2)`: Computes the square of `x` and appends it to `square_object16`.\n",
    "- `square_object16`: Outputs the list `square_object16` containing `[4, 16, 36, 64, 100]`, which are the squares of `[2, 4, 6, 8, 10]` respectively."
   ]
  },
  {
   "cell_type": "code",
   "execution_count": 46,
   "id": "b14daa06",
   "metadata": {},
   "outputs": [
    {
     "data": {
      "text/plain": [
       "[144, 196, 256, 324, 400]"
      ]
     },
     "execution_count": 46,
     "metadata": {},
     "output_type": "execute_result"
    }
   ],
   "source": [
    "object17 = [12, 14, 16, 18, 20]\n",
    "square_object17 = [x**2 for x in object17]\n",
    "square_object17"
   ]
  },
  {
   "cell_type": "markdown",
   "id": "e4cc14c9",
   "metadata": {},
   "source": [
    "The code creates a list `square_object17` that contains the squares of each element from the list `object17`, using a list comprehension.\n",
    "\n",
    "Here's a shorter explanation:\n",
    "\n",
    "- `object17 = [12, 14, 16, 18, 20]`: Defines a list of integers.\n",
    "- `square_object17 = [x**2 for x in object17]`: Creates a new list `square_object17` where each element is the square of the corresponding element from `object17`.\n",
    "- `square_object17`: Outputs the list `square_object17`, which contains `[144, 196, 256, 324, 400]`, the squares of `[12, 14, 16, 18, 20]` respectively."
   ]
  }
 ],
 "metadata": {
  "kernelspec": {
   "display_name": "Python 3 (ipykernel)",
   "language": "python",
   "name": "python3"
  },
  "language_info": {
   "codemirror_mode": {
    "name": "ipython",
    "version": 3
   },
   "file_extension": ".py",
   "mimetype": "text/x-python",
   "name": "python",
   "nbconvert_exporter": "python",
   "pygments_lexer": "ipython3",
   "version": "3.10.9"
  }
 },
 "nbformat": 4,
 "nbformat_minor": 5
}
