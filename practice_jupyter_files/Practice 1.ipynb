{
 "cells": [
  {
   "cell_type": "markdown",
   "id": "a0b09c0e-8d68-40a7-b713-bdff53cef918",
   "metadata": {},
   "source": [
    "# Explaining Markdown Cells\n",
    "## Header 2 \n",
    "### Header 3 \n",
    "- Header 4\n",
    "\n",
    "__Header 5__\n",
    "\n",
    "_Header 6_"
   ]
  },
  {
   "cell_type": "code",
   "execution_count": 29,
   "id": "35091a01-cac7-46cc-acd8-afc787f4dfd9",
   "metadata": {},
   "outputs": [],
   "source": [
    "#Coding cell blocks"
   ]
  },
  {
   "cell_type": "code",
   "execution_count": 1,
   "id": "117db0ac-e0af-4861-b943-225289563232",
   "metadata": {},
   "outputs": [
    {
     "name": "stdout",
     "output_type": "stream",
     "text": [
      "Hello Farah\n"
     ]
    }
   ],
   "source": [
    "print(\"Hello Farah\")"
   ]
  },
  {
   "cell_type": "markdown",
   "id": "3124ac93",
   "metadata": {},
   "source": [
    "### Input function ( )\n",
    "- It prompts the user for input, waits for the user to type a line of text, and then returns that text as a string."
   ]
  },
  {
   "cell_type": "code",
   "execution_count": 1,
   "id": "8a9091fc-528d-4f37-b76d-da1f5d72c336",
   "metadata": {
    "scrolled": true
   },
   "outputs": [
    {
     "name": "stdout",
     "output_type": "stream",
     "text": [
      "what is your nameFarah \n"
     ]
    },
    {
     "data": {
      "text/plain": [
       "'Farah '"
      ]
     },
     "execution_count": 1,
     "metadata": {},
     "output_type": "execute_result"
    }
   ],
   "source": [
    "input(\"what is your name\")"
   ]
  },
  {
   "cell_type": "code",
   "execution_count": 2,
   "id": "4f1b75b6-6227-41cb-9942-32584ca4c4ea",
   "metadata": {},
   "outputs": [
    {
     "name": "stdout",
     "output_type": "stream",
     "text": [
      "what is your name?Farah\n"
     ]
    }
   ],
   "source": [
    "a = input(\"what is your name?\")"
   ]
  },
  {
   "cell_type": "code",
   "execution_count": 3,
   "id": "b6b5b3e7-faa8-408c-aaa8-521bf3d756f5",
   "metadata": {
    "scrolled": true
   },
   "outputs": [
    {
     "name": "stdout",
     "output_type": "stream",
     "text": [
      "Farah\n"
     ]
    }
   ],
   "source": [
    "print(a)"
   ]
  },
  {
   "cell_type": "markdown",
   "id": "3c1ae8e3",
   "metadata": {},
   "source": [
    "input(\"what is your name\")\n",
    "a = input(\"what is your name?\")\n",
    "\n",
    "The first example displays a prompt but does not store the input, while the second example displays a prompt and stores the user's input in the variable `a`."
   ]
  },
  {
   "cell_type": "code",
   "execution_count": 4,
   "id": "8c50c977-0b80-4eba-bb26-e47c7d5d76a3",
   "metadata": {
    "scrolled": true
   },
   "outputs": [
    {
     "name": "stdout",
     "output_type": "stream",
     "text": [
      "what is your nameFarah\n"
     ]
    },
    {
     "data": {
      "text/plain": [
       "'Hello Farah,  How are you?'"
      ]
     },
     "execution_count": 4,
     "metadata": {},
     "output_type": "execute_result"
    }
   ],
   "source": [
    "\"Hello \" + input(\"what is your name\") + \",  How are you?\""
   ]
  },
  {
   "cell_type": "markdown",
   "id": "e59b60cf",
   "metadata": {},
   "source": [
    "The above is an example of string concatenation in Python, where the input from the user is combined with other strings to form a single output string."
   ]
  },
  {
   "cell_type": "code",
   "execution_count": 5,
   "id": "cce86178-3d10-4705-9aca-0e871027ea21",
   "metadata": {},
   "outputs": [
    {
     "name": "stdout",
     "output_type": "stream",
     "text": [
      "Farah\n"
     ]
    }
   ],
   "source": [
    "name = 'Farah'\n",
    "print (name)"
   ]
  },
  {
   "cell_type": "code",
   "execution_count": 16,
   "id": "a29bf7ee-cdb7-4f3e-a723-8723ef686fc9",
   "metadata": {},
   "outputs": [
    {
     "name": "stdout",
     "output_type": "stream",
     "text": [
      "Hello\n"
     ]
    }
   ],
   "source": [
    "greeting = 'Hello'\n",
    "print(greeting)"
   ]
  },
  {
   "cell_type": "code",
   "execution_count": 30,
   "id": "2e22a831-fb45-4ee1-aca4-34ee6f25e198",
   "metadata": {},
   "outputs": [
    {
     "data": {
      "text/plain": [
       "100"
      ]
     },
     "execution_count": 30,
     "metadata": {},
     "output_type": "execute_result"
    }
   ],
   "source": [
    "50+50"
   ]
  },
  {
   "cell_type": "code",
   "execution_count": 31,
   "id": "858e3240-6ac2-4410-984e-ea56ae01c7b3",
   "metadata": {},
   "outputs": [
    {
     "data": {
      "text/plain": [
       "'5050'"
      ]
     },
     "execution_count": 31,
     "metadata": {},
     "output_type": "execute_result"
    }
   ],
   "source": [
    "\"50\" + \"50\" "
   ]
  },
  {
   "cell_type": "code",
   "execution_count": 3,
   "id": "2b0e4d00",
   "metadata": {},
   "outputs": [
    {
     "name": "stdout",
     "output_type": "stream",
     "text": [
      "Addition value is: 15\n"
     ]
    }
   ],
   "source": [
    "x = 10\n",
    "y = 5\n",
    "\n",
    "add = x+y\n",
    "\n",
    "print(\"Addition value is:\", add)"
   ]
  },
  {
   "cell_type": "markdown",
   "id": "0c538380",
   "metadata": {},
   "source": [
    "- The code adds two variables, `x` and `y`, and prints the result with a message."
   ]
  },
  {
   "cell_type": "code",
   "execution_count": 6,
   "id": "f6c461c2",
   "metadata": {},
   "outputs": [
    {
     "name": "stdout",
     "output_type": "stream",
     "text": [
      "the final answer is: -175\n",
      "the final answer is: -281250\n",
      "the final answer is: -261.6279069767442\n"
     ]
    }
   ],
   "source": [
    "a = 450\n",
    "b = -625\n",
    "\n",
    "add = a+b\n",
    "Multiply = a*b \n",
    "equation = (a*b)/(a-b)\n",
    "\n",
    "print (\"the final answer is:\", add)\n",
    "print (\"the final answer is:\", Multiply)\n",
    "print (\"the final answer is:\", equation)"
   ]
  },
  {
   "cell_type": "code",
   "execution_count": 7,
   "id": "0a0f1e79",
   "metadata": {},
   "outputs": [
    {
     "name": "stdout",
     "output_type": "stream",
     "text": [
      "the final answer is: 1062.22\n",
      "the final answer is: 401.09546165884194\n",
      "the final answer is: -643.2396047756278\n"
     ]
    }
   ],
   "source": [
    "a = 450\n",
    "b = -625\n",
    "c = 12.78\n",
    "\n",
    "Subtract = a-b-c\n",
    "Divide = a+b/c\n",
    "equation = (a*b+c)/(a-c)\n",
    "\n",
    "print (\"the final answer is:\", Subtract)\n",
    "print (\"the final answer is:\", Divide)\n",
    "print (\"the final answer is:\", equation)"
   ]
  },
  {
   "cell_type": "code",
   "execution_count": 8,
   "id": "aac0dc8f",
   "metadata": {},
   "outputs": [
    {
     "data": {
      "text/plain": [
       "'my name is farah'"
      ]
     },
     "execution_count": 8,
     "metadata": {},
     "output_type": "execute_result"
    }
   ],
   "source": [
    "line1 = 'my name is farah'\n",
    "line1"
   ]
  },
  {
   "cell_type": "code",
   "execution_count": 9,
   "id": "564fbb72",
   "metadata": {},
   "outputs": [
    {
     "name": "stdout",
     "output_type": "stream",
     "text": [
      "Hello, my name is farah ibrar\n"
     ]
    }
   ],
   "source": [
    "line1 = \"hello, my name is Farah Ibrar\"\n",
    "print(line1.capitalize()) "
   ]
  },
  {
   "cell_type": "markdown",
   "id": "64304559",
   "metadata": {},
   "source": [
    "- The code capitalizes the first letter of the string stored in line1 and prints the modified string."
   ]
  },
  {
   "cell_type": "code",
   "execution_count": 10,
   "id": "a6eac6e4",
   "metadata": {},
   "outputs": [
    {
     "name": "stdout",
     "output_type": "stream",
     "text": [
      "My name is umar\n"
     ]
    }
   ],
   "source": [
    "example = \"my name is umar\"\n",
    "print (example.capitalize())"
   ]
  },
  {
   "cell_type": "code",
   "execution_count": 11,
   "id": "95ea5af8",
   "metadata": {},
   "outputs": [
    {
     "name": "stdout",
     "output_type": "stream",
     "text": [
      "I AM FROM PAKISTAN\n"
     ]
    }
   ],
   "source": [
    "line2 = \"I am from pakistan\"\n",
    "print(line2.upper())"
   ]
  },
  {
   "cell_type": "markdown",
   "id": "c6aee56a",
   "metadata": {},
   "source": [
    "- Converts all letters in the string line2 to uppercase and prints the result."
   ]
  },
  {
   "cell_type": "code",
   "execution_count": 33,
   "id": "d7af685e",
   "metadata": {},
   "outputs": [
    {
     "name": "stdout",
     "output_type": "stream",
     "text": [
      "I Am From Pakistan\n"
     ]
    }
   ],
   "source": [
    "line2 = \"I am from pakistan\"\n",
    "print(line2.title())"
   ]
  },
  {
   "cell_type": "markdown",
   "id": "d05bda24",
   "metadata": {},
   "source": [
    "- This converts the first letter of each word in the string line2 to uppercase and all other letters to lowercase, and then prints the result."
   ]
  },
  {
   "cell_type": "code",
   "execution_count": 36,
   "id": "499eb3c3",
   "metadata": {},
   "outputs": [
    {
     "name": "stdout",
     "output_type": "stream",
     "text": [
      "i am from pakistan\n"
     ]
    }
   ],
   "source": [
    "line2 = \"I AM from Pakistan\"\n",
    "print(line2.lower())"
   ]
  },
  {
   "cell_type": "markdown",
   "id": "7b60acaa",
   "metadata": {},
   "source": [
    "- This converts all letters in the string line2 to lowercase and prints the result."
   ]
  },
  {
   "cell_type": "code",
   "execution_count": 37,
   "id": "10fc5fab",
   "metadata": {},
   "outputs": [
    {
     "name": "stdout",
     "output_type": "stream",
     "text": [
      "True False\n"
     ]
    }
   ],
   "source": [
    "x = True \n",
    "y = False\n",
    "\n",
    "print (x,y)"
   ]
  },
  {
   "cell_type": "code",
   "execution_count": 12,
   "id": "ee484140",
   "metadata": {},
   "outputs": [
    {
     "name": "stdout",
     "output_type": "stream",
     "text": [
      "I am from pakistan Yes\n"
     ]
    }
   ],
   "source": [
    "line2 = \"I am from pakistan\"\n",
    "x = \"Yes\"\n",
    "\n",
    "print (line2,x)"
   ]
  },
  {
   "cell_type": "code",
   "execution_count": 13,
   "id": "766daa44",
   "metadata": {},
   "outputs": [
    {
     "name": "stdout",
     "output_type": "stream",
     "text": [
      "Enter a value:599\n",
      "True\n"
     ]
    }
   ],
   "source": [
    "a = True\n",
    "b = False \n",
    "\n",
    "x = 20\n",
    "y = 55\n",
    "\n",
    "\n",
    "z = int(input(\"Enter a value:\"))\n",
    "if z >= 50:\n",
    "    print(a)\n",
    "else:\n",
    "    print(b)"
   ]
  },
  {
   "cell_type": "markdown",
   "id": "8e3c8a38",
   "metadata": {},
   "source": [
    "This code prompts the user to enter a value, converts the input to an integer, and then checks if the entered value (z) is greater than or equal to 50. Depending on the result:\n",
    "\n",
    "- If z is greater than or equal to 50, it prints True (a is True).\n",
    "- If z is less than 50, it prints False (b is False)."
   ]
  },
  {
   "cell_type": "code",
   "execution_count": 14,
   "id": "35655083",
   "metadata": {},
   "outputs": [
    {
     "name": "stdout",
     "output_type": "stream",
     "text": [
      "Enter a value:10\n",
      "Enter a value:50\n"
     ]
    },
    {
     "data": {
      "text/plain": [
       "False"
      ]
     },
     "execution_count": 14,
     "metadata": {},
     "output_type": "execute_result"
    }
   ],
   "source": [
    "num_1 = int(input(\"Enter a value:\"))\n",
    "num_2 = int(input(\"Enter a value:\"))\n",
    "\n",
    "num_1 == num_2 "
   ]
  },
  {
   "cell_type": "markdown",
   "id": "2c6f1f12",
   "metadata": {},
   "source": [
    "This above line of code checks if num_1 is equal to num_2. It evaluates to either True if they are equal or False if they are not equal."
   ]
  },
  {
   "cell_type": "code",
   "execution_count": 15,
   "id": "1829db13",
   "metadata": {},
   "outputs": [
    {
     "name": "stdout",
     "output_type": "stream",
     "text": [
      "Enter a value:32\n",
      "True\n"
     ]
    }
   ],
   "source": [
    "a = True\n",
    "b = False \n",
    "\n",
    "x = 20\n",
    "y = 55\n",
    "\n",
    "z = int(input(\"Enter a value:\"))\n",
    "if x and y >= z :\n",
    "    print(a)\n",
    "else:\n",
    "    print(b)"
   ]
  },
  {
   "cell_type": "markdown",
   "id": "e7d7d8f2",
   "metadata": {},
   "source": [
    "The code prompts the user to enter a value, converts it to an integer, and then checks if both x and y are greater than or equal to the entered value z. Depending on the result:\n",
    "\n",
    "- If both x and y are greater than or equal to z, it prints True (a is True).\n",
    "- Otherwise, it prints False (b is False)."
   ]
  },
  {
   "cell_type": "code",
   "execution_count": 23,
   "id": "5d5517a8",
   "metadata": {},
   "outputs": [
    {
     "name": "stdout",
     "output_type": "stream",
     "text": [
      "Enter a value:11\n"
     ]
    },
    {
     "data": {
      "text/plain": [
       "int"
      ]
     },
     "execution_count": 23,
     "metadata": {},
     "output_type": "execute_result"
    }
   ],
   "source": [
    "type(int(input(\"Enter a value:\")))"
   ]
  },
  {
   "cell_type": "markdown",
   "id": "c4cf7f4f",
   "metadata": {},
   "source": [
    "This line of code prompts the user to enter a value, converts the input to an integer using int(), and then determines the type of the resulting value using the type( ) function.\n",
    "\n",
    "The `type(int(input(\"Enter a value:\")))` expression can check the type of any input that can be successfully converted to an integer using int(). This includes numeric values (integers and floats) as well as strings that represent valid integer literals. Here are a few examples:\n",
    "\n",
    "- If you enter `\"123\"`, it will output `<class 'int'>`.\n",
    "- If you enter `123`, it will output `<class 'int'>`.\n",
    "- If you enter `12.34`, it will output `<class 'int'>` after converting it to `12`."
   ]
  },
  {
   "cell_type": "markdown",
   "id": "10697abc",
   "metadata": {},
   "source": [
    "When you enter `12.34`, int( ) cannot convert it directly to an integer because int( ) expects a whole number or a string representation of a whole number. \n",
    "\n",
    "In Python, you can only convert a string to an integer directly if it represents a valid integer literal.\n",
    "\n",
    "To handle decimal input like `12.34`, you would need to use `float( )` instead of `int( )` to convert it to a floating-point number, and then you can check its type. Here's how you can modify the code to handle both integer and float input correctly:"
   ]
  },
  {
   "cell_type": "code",
   "execution_count": 25,
   "id": "a33c221a",
   "metadata": {},
   "outputs": [
    {
     "name": "stdout",
     "output_type": "stream",
     "text": [
      "Enter a value:22\n",
      "<class 'int'>\n"
     ]
    }
   ],
   "source": [
    "value = input(\"Enter a value:\")\n",
    "try:\n",
    "    num = int(value)\n",
    "except ValueError:\n",
    "    try:\n",
    "        num = float(value)\n",
    "    except ValueError:\n",
    "        print(\"Invalid input. Please enter a valid number.\")\n",
    "        num = None\n",
    "\n",
    "if num is not None:\n",
    "    print(type(num))"
   ]
  },
  {
   "cell_type": "markdown",
   "id": "75570c26",
   "metadata": {},
   "source": [
    "### This code:\n",
    "\n",
    "1. Prompts the user to enter a value.\n",
    "2. Attempts to convert the input to an integer using `int( )`.\n",
    "3. If that fails (because the input contains a decimal point or is not a number at all), it attempts to convert the input to a float using `float( )`.\n",
    "4. If both conversion attempts fail, it prints an error message.\n",
    "5. If the conversion is successful, it prints the type of the resulting number."
   ]
  }
 ],
 "metadata": {
  "kernelspec": {
   "display_name": "Python 3 (ipykernel)",
   "language": "python",
   "name": "python3"
  },
  "language_info": {
   "codemirror_mode": {
    "name": "ipython",
    "version": 3
   },
   "file_extension": ".py",
   "mimetype": "text/x-python",
   "name": "python",
   "nbconvert_exporter": "python",
   "pygments_lexer": "ipython3",
   "version": "3.10.9"
  }
 },
 "nbformat": 4,
 "nbformat_minor": 5
}
